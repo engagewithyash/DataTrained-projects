{
 "cells": [
  {
   "cell_type": "code",
   "execution_count": 1,
   "id": "5213a703",
   "metadata": {},
   "outputs": [],
   "source": [
    "#importing libraries\n",
    "import numpy as np\n",
    "import pandas as pd\n",
    "import matplotlib.pyplot as plt\n",
    "import seaborn as sns\n",
    "import warnings\n",
    "warnings.filterwarnings('ignore')"
   ]
  },
  {
   "cell_type": "code",
   "execution_count": 2,
   "id": "71876031",
   "metadata": {},
   "outputs": [],
   "source": [
    "#importing census income dataset\n",
    "\n",
    "df = pd.read_csv('census_income.csv')"
   ]
  },
  {
   "cell_type": "code",
   "execution_count": 3,
   "id": "64aaca67",
   "metadata": {},
   "outputs": [
    {
     "data": {
      "text/html": [
       "<div>\n",
       "<style scoped>\n",
       "    .dataframe tbody tr th:only-of-type {\n",
       "        vertical-align: middle;\n",
       "    }\n",
       "\n",
       "    .dataframe tbody tr th {\n",
       "        vertical-align: top;\n",
       "    }\n",
       "\n",
       "    .dataframe thead th {\n",
       "        text-align: right;\n",
       "    }\n",
       "</style>\n",
       "<table border=\"1\" class=\"dataframe\">\n",
       "  <thead>\n",
       "    <tr style=\"text-align: right;\">\n",
       "      <th></th>\n",
       "      <th>Age</th>\n",
       "      <th>Workclass</th>\n",
       "      <th>Fnlwgt</th>\n",
       "      <th>Education</th>\n",
       "      <th>Education_num</th>\n",
       "      <th>Marital_status</th>\n",
       "      <th>Occupation</th>\n",
       "      <th>Relationship</th>\n",
       "      <th>Race</th>\n",
       "      <th>Sex</th>\n",
       "      <th>Capital_gain</th>\n",
       "      <th>Capital_loss</th>\n",
       "      <th>Hours_per_week</th>\n",
       "      <th>Native_country</th>\n",
       "      <th>Income</th>\n",
       "    </tr>\n",
       "  </thead>\n",
       "  <tbody>\n",
       "    <tr>\n",
       "      <th>0</th>\n",
       "      <td>50</td>\n",
       "      <td>Self-emp-not-inc</td>\n",
       "      <td>83311</td>\n",
       "      <td>Bachelors</td>\n",
       "      <td>13</td>\n",
       "      <td>Married-civ-spouse</td>\n",
       "      <td>Exec-managerial</td>\n",
       "      <td>Husband</td>\n",
       "      <td>White</td>\n",
       "      <td>Male</td>\n",
       "      <td>0</td>\n",
       "      <td>0</td>\n",
       "      <td>13</td>\n",
       "      <td>United-States</td>\n",
       "      <td>&lt;=50K</td>\n",
       "    </tr>\n",
       "    <tr>\n",
       "      <th>1</th>\n",
       "      <td>38</td>\n",
       "      <td>Private</td>\n",
       "      <td>215646</td>\n",
       "      <td>HS-grad</td>\n",
       "      <td>9</td>\n",
       "      <td>Divorced</td>\n",
       "      <td>Handlers-cleaners</td>\n",
       "      <td>Not-in-family</td>\n",
       "      <td>White</td>\n",
       "      <td>Male</td>\n",
       "      <td>0</td>\n",
       "      <td>0</td>\n",
       "      <td>40</td>\n",
       "      <td>United-States</td>\n",
       "      <td>&lt;=50K</td>\n",
       "    </tr>\n",
       "    <tr>\n",
       "      <th>2</th>\n",
       "      <td>53</td>\n",
       "      <td>Private</td>\n",
       "      <td>234721</td>\n",
       "      <td>11th</td>\n",
       "      <td>7</td>\n",
       "      <td>Married-civ-spouse</td>\n",
       "      <td>Handlers-cleaners</td>\n",
       "      <td>Husband</td>\n",
       "      <td>Black</td>\n",
       "      <td>Male</td>\n",
       "      <td>0</td>\n",
       "      <td>0</td>\n",
       "      <td>40</td>\n",
       "      <td>United-States</td>\n",
       "      <td>&lt;=50K</td>\n",
       "    </tr>\n",
       "    <tr>\n",
       "      <th>3</th>\n",
       "      <td>28</td>\n",
       "      <td>Private</td>\n",
       "      <td>338409</td>\n",
       "      <td>Bachelors</td>\n",
       "      <td>13</td>\n",
       "      <td>Married-civ-spouse</td>\n",
       "      <td>Prof-specialty</td>\n",
       "      <td>Wife</td>\n",
       "      <td>Black</td>\n",
       "      <td>Female</td>\n",
       "      <td>0</td>\n",
       "      <td>0</td>\n",
       "      <td>40</td>\n",
       "      <td>Cuba</td>\n",
       "      <td>&lt;=50K</td>\n",
       "    </tr>\n",
       "    <tr>\n",
       "      <th>4</th>\n",
       "      <td>37</td>\n",
       "      <td>Private</td>\n",
       "      <td>284582</td>\n",
       "      <td>Masters</td>\n",
       "      <td>14</td>\n",
       "      <td>Married-civ-spouse</td>\n",
       "      <td>Exec-managerial</td>\n",
       "      <td>Wife</td>\n",
       "      <td>White</td>\n",
       "      <td>Female</td>\n",
       "      <td>0</td>\n",
       "      <td>0</td>\n",
       "      <td>40</td>\n",
       "      <td>United-States</td>\n",
       "      <td>&lt;=50K</td>\n",
       "    </tr>\n",
       "  </tbody>\n",
       "</table>\n",
       "</div>"
      ],
      "text/plain": [
       "   Age          Workclass  Fnlwgt   Education  Education_num  \\\n",
       "0   50   Self-emp-not-inc   83311   Bachelors             13   \n",
       "1   38            Private  215646     HS-grad              9   \n",
       "2   53            Private  234721        11th              7   \n",
       "3   28            Private  338409   Bachelors             13   \n",
       "4   37            Private  284582     Masters             14   \n",
       "\n",
       "        Marital_status          Occupation    Relationship    Race      Sex  \\\n",
       "0   Married-civ-spouse     Exec-managerial         Husband   White     Male   \n",
       "1             Divorced   Handlers-cleaners   Not-in-family   White     Male   \n",
       "2   Married-civ-spouse   Handlers-cleaners         Husband   Black     Male   \n",
       "3   Married-civ-spouse      Prof-specialty            Wife   Black   Female   \n",
       "4   Married-civ-spouse     Exec-managerial            Wife   White   Female   \n",
       "\n",
       "   Capital_gain  Capital_loss  Hours_per_week  Native_country  Income  \n",
       "0             0             0              13   United-States   <=50K  \n",
       "1             0             0              40   United-States   <=50K  \n",
       "2             0             0              40   United-States   <=50K  \n",
       "3             0             0              40            Cuba   <=50K  \n",
       "4             0             0              40   United-States   <=50K  "
      ]
     },
     "execution_count": 3,
     "metadata": {},
     "output_type": "execute_result"
    }
   ],
   "source": [
    "df.head()"
   ]
  },
  {
   "cell_type": "code",
   "execution_count": 4,
   "id": "76f8a6f0",
   "metadata": {
    "scrolled": false
   },
   "outputs": [
    {
     "name": "stdout",
     "output_type": "stream",
     "text": [
      "<class 'pandas.core.frame.DataFrame'>\n",
      "RangeIndex: 32560 entries, 0 to 32559\n",
      "Data columns (total 15 columns):\n",
      " #   Column          Non-Null Count  Dtype \n",
      "---  ------          --------------  ----- \n",
      " 0   Age             32560 non-null  int64 \n",
      " 1   Workclass       32560 non-null  object\n",
      " 2   Fnlwgt          32560 non-null  int64 \n",
      " 3   Education       32560 non-null  object\n",
      " 4   Education_num   32560 non-null  int64 \n",
      " 5   Marital_status  32560 non-null  object\n",
      " 6   Occupation      32560 non-null  object\n",
      " 7   Relationship    32560 non-null  object\n",
      " 8   Race            32560 non-null  object\n",
      " 9   Sex             32560 non-null  object\n",
      " 10  Capital_gain    32560 non-null  int64 \n",
      " 11  Capital_loss    32560 non-null  int64 \n",
      " 12  Hours_per_week  32560 non-null  int64 \n",
      " 13  Native_country  32560 non-null  object\n",
      " 14  Income          32560 non-null  object\n",
      "dtypes: int64(6), object(9)\n",
      "memory usage: 3.7+ MB\n"
     ]
    }
   ],
   "source": [
    "df.info()"
   ]
  },
  {
   "cell_type": "code",
   "execution_count": 5,
   "id": "6eb6ac71",
   "metadata": {},
   "outputs": [
    {
     "data": {
      "text/plain": [
       "Age                  73\n",
       "Workclass             9\n",
       "Fnlwgt            21647\n",
       "Education            16\n",
       "Education_num        16\n",
       "Marital_status        7\n",
       "Occupation           15\n",
       "Relationship          6\n",
       "Race                  5\n",
       "Sex                   2\n",
       "Capital_gain        119\n",
       "Capital_loss         92\n",
       "Hours_per_week       94\n",
       "Native_country       42\n",
       "Income                2\n",
       "dtype: int64"
      ]
     },
     "execution_count": 5,
     "metadata": {},
     "output_type": "execute_result"
    }
   ],
   "source": [
    "df.nunique()\n",
    "\n",
    "#checking no. of unique values in  each column"
   ]
  },
  {
   "cell_type": "code",
   "execution_count": 6,
   "id": "cad5d604",
   "metadata": {},
   "outputs": [
    {
     "data": {
      "text/html": [
       "<div>\n",
       "<style scoped>\n",
       "    .dataframe tbody tr th:only-of-type {\n",
       "        vertical-align: middle;\n",
       "    }\n",
       "\n",
       "    .dataframe tbody tr th {\n",
       "        vertical-align: top;\n",
       "    }\n",
       "\n",
       "    .dataframe thead th {\n",
       "        text-align: right;\n",
       "    }\n",
       "</style>\n",
       "<table border=\"1\" class=\"dataframe\">\n",
       "  <thead>\n",
       "    <tr style=\"text-align: right;\">\n",
       "      <th></th>\n",
       "      <th>Age</th>\n",
       "      <th>Fnlwgt</th>\n",
       "      <th>Education_num</th>\n",
       "      <th>Capital_gain</th>\n",
       "      <th>Capital_loss</th>\n",
       "      <th>Hours_per_week</th>\n",
       "    </tr>\n",
       "  </thead>\n",
       "  <tbody>\n",
       "    <tr>\n",
       "      <th>count</th>\n",
       "      <td>32560.000000</td>\n",
       "      <td>3.256000e+04</td>\n",
       "      <td>32560.000000</td>\n",
       "      <td>32560.000000</td>\n",
       "      <td>32560.000000</td>\n",
       "      <td>32560.000000</td>\n",
       "    </tr>\n",
       "    <tr>\n",
       "      <th>mean</th>\n",
       "      <td>38.581634</td>\n",
       "      <td>1.897818e+05</td>\n",
       "      <td>10.080590</td>\n",
       "      <td>1077.615172</td>\n",
       "      <td>87.306511</td>\n",
       "      <td>40.437469</td>\n",
       "    </tr>\n",
       "    <tr>\n",
       "      <th>std</th>\n",
       "      <td>13.640642</td>\n",
       "      <td>1.055498e+05</td>\n",
       "      <td>2.572709</td>\n",
       "      <td>7385.402999</td>\n",
       "      <td>402.966116</td>\n",
       "      <td>12.347618</td>\n",
       "    </tr>\n",
       "    <tr>\n",
       "      <th>min</th>\n",
       "      <td>17.000000</td>\n",
       "      <td>1.228500e+04</td>\n",
       "      <td>1.000000</td>\n",
       "      <td>0.000000</td>\n",
       "      <td>0.000000</td>\n",
       "      <td>1.000000</td>\n",
       "    </tr>\n",
       "    <tr>\n",
       "      <th>25%</th>\n",
       "      <td>28.000000</td>\n",
       "      <td>1.178315e+05</td>\n",
       "      <td>9.000000</td>\n",
       "      <td>0.000000</td>\n",
       "      <td>0.000000</td>\n",
       "      <td>40.000000</td>\n",
       "    </tr>\n",
       "    <tr>\n",
       "      <th>50%</th>\n",
       "      <td>37.000000</td>\n",
       "      <td>1.783630e+05</td>\n",
       "      <td>10.000000</td>\n",
       "      <td>0.000000</td>\n",
       "      <td>0.000000</td>\n",
       "      <td>40.000000</td>\n",
       "    </tr>\n",
       "    <tr>\n",
       "      <th>75%</th>\n",
       "      <td>48.000000</td>\n",
       "      <td>2.370545e+05</td>\n",
       "      <td>12.000000</td>\n",
       "      <td>0.000000</td>\n",
       "      <td>0.000000</td>\n",
       "      <td>45.000000</td>\n",
       "    </tr>\n",
       "    <tr>\n",
       "      <th>max</th>\n",
       "      <td>90.000000</td>\n",
       "      <td>1.484705e+06</td>\n",
       "      <td>16.000000</td>\n",
       "      <td>99999.000000</td>\n",
       "      <td>4356.000000</td>\n",
       "      <td>99.000000</td>\n",
       "    </tr>\n",
       "  </tbody>\n",
       "</table>\n",
       "</div>"
      ],
      "text/plain": [
       "                Age        Fnlwgt  Education_num  Capital_gain  Capital_loss  \\\n",
       "count  32560.000000  3.256000e+04   32560.000000  32560.000000  32560.000000   \n",
       "mean      38.581634  1.897818e+05      10.080590   1077.615172     87.306511   \n",
       "std       13.640642  1.055498e+05       2.572709   7385.402999    402.966116   \n",
       "min       17.000000  1.228500e+04       1.000000      0.000000      0.000000   \n",
       "25%       28.000000  1.178315e+05       9.000000      0.000000      0.000000   \n",
       "50%       37.000000  1.783630e+05      10.000000      0.000000      0.000000   \n",
       "75%       48.000000  2.370545e+05      12.000000      0.000000      0.000000   \n",
       "max       90.000000  1.484705e+06      16.000000  99999.000000   4356.000000   \n",
       "\n",
       "       Hours_per_week  \n",
       "count    32560.000000  \n",
       "mean        40.437469  \n",
       "std         12.347618  \n",
       "min          1.000000  \n",
       "25%         40.000000  \n",
       "50%         40.000000  \n",
       "75%         45.000000  \n",
       "max         99.000000  "
      ]
     },
     "execution_count": 6,
     "metadata": {},
     "output_type": "execute_result"
    }
   ],
   "source": [
    "df.describe()"
   ]
  },
  {
   "cell_type": "code",
   "execution_count": 7,
   "id": "e590495a",
   "metadata": {},
   "outputs": [
    {
     "data": {
      "text/plain": [
       "<AxesSubplot:>"
      ]
     },
     "execution_count": 7,
     "metadata": {},
     "output_type": "execute_result"
    },
    {
     "data": {
      "image/png": "[encoded data removed]",
      "text/plain": [
       "<Figure size 432x288 with 2 Axes>"
      ]
     },
     "metadata": {
      "needs_background": "light"
     },
     "output_type": "display_data"
    }
   ],
   "source": [
    "sns.heatmap(df.corr(), annot=True)\n",
    "#since half of the columns are in the non-numerical form,heatmap could not take those columns into account"
   ]
  },
  {
   "cell_type": "code",
   "execution_count": null,
   "id": "3f862940",
   "metadata": {},
   "outputs": [],
   "source": []
  },
  {
   "cell_type": "code",
   "execution_count": 8,
   "id": "f9fb9cbb",
   "metadata": {},
   "outputs": [
    {
     "data": {
      "text/plain": [
       " Private             22696\n",
       " Self-emp-not-inc     2541\n",
       " Local-gov            2093\n",
       " ?                    1836\n",
       " State-gov            1297\n",
       " Self-emp-inc         1116\n",
       " Federal-gov           960\n",
       " Without-pay            14\n",
       " Never-worked            7\n",
       "Name: Workclass, dtype: int64"
      ]
     },
     "execution_count": 8,
     "metadata": {},
     "output_type": "execute_result"
    }
   ],
   "source": [
    "df['Workclass'].value_counts()\n",
    "\n",
    "#we see there are some null values filled with '?'"
   ]
  },
  {
   "cell_type": "code",
   "execution_count": 9,
   "id": "5e99f5f5",
   "metadata": {},
   "outputs": [
    {
     "data": {
      "text/plain": [
       " HS-grad         10501\n",
       " Some-college     7291\n",
       " Bachelors        5354\n",
       " Masters          1723\n",
       " Assoc-voc        1382\n",
       " 11th             1175\n",
       " Assoc-acdm       1067\n",
       " 10th              933\n",
       " 7th-8th           646\n",
       " Prof-school       576\n",
       " 9th               514\n",
       " 12th              433\n",
       " Doctorate         413\n",
       " 5th-6th           333\n",
       " 1st-4th           168\n",
       " Preschool          51\n",
       "Name: Education, dtype: int64"
      ]
     },
     "execution_count": 9,
     "metadata": {},
     "output_type": "execute_result"
    }
   ],
   "source": [
    "df['Education'].value_counts()"
   ]
  },
  {
   "cell_type": "code",
   "execution_count": 10,
   "id": "39a586a0",
   "metadata": {},
   "outputs": [
    {
     "data": {
      "text/plain": [
       "9     10501\n",
       "10     7291\n",
       "13     5354\n",
       "14     1723\n",
       "11     1382\n",
       "7      1175\n",
       "12     1067\n",
       "6       933\n",
       "4       646\n",
       "15      576\n",
       "5       514\n",
       "8       433\n",
       "16      413\n",
       "3       333\n",
       "2       168\n",
       "1        51\n",
       "Name: Education_num, dtype: int64"
      ]
     },
     "execution_count": 10,
     "metadata": {},
     "output_type": "execute_result"
    }
   ],
   "source": [
    "df['Education_num'].value_counts()"
   ]
  },
  {
   "cell_type": "code",
   "execution_count": 11,
   "id": "6772a089",
   "metadata": {},
   "outputs": [
    {
     "data": {
      "text/plain": [
       " Married-civ-spouse       14976\n",
       " Never-married            10682\n",
       " Divorced                  4443\n",
       " Separated                 1025\n",
       " Widowed                    993\n",
       " Married-spouse-absent      418\n",
       " Married-AF-spouse           23\n",
       "Name: Marital_status, dtype: int64"
      ]
     },
     "execution_count": 11,
     "metadata": {},
     "output_type": "execute_result"
    }
   ],
   "source": [
    "df['Marital_status'].value_counts()"
   ]
  },
  {
   "cell_type": "code",
   "execution_count": 12,
   "id": "64e39f1c",
   "metadata": {},
   "outputs": [
    {
     "data": {
      "text/plain": [
       " Husband           13193\n",
       " Not-in-family      8304\n",
       " Own-child          5068\n",
       " Unmarried          3446\n",
       " Wife               1568\n",
       " Other-relative      981\n",
       "Name: Relationship, dtype: int64"
      ]
     },
     "execution_count": 12,
     "metadata": {},
     "output_type": "execute_result"
    }
   ],
   "source": [
    "df['Relationship'].value_counts()"
   ]
  },
  {
   "cell_type": "code",
   "execution_count": 13,
   "id": "db8b878d",
   "metadata": {},
   "outputs": [
    {
     "data": {
      "text/plain": [
       " White                 27815\n",
       " Black                  3124\n",
       " Asian-Pac-Islander     1039\n",
       " Amer-Indian-Eskimo      311\n",
       " Other                   271\n",
       "Name: Race, dtype: int64"
      ]
     },
     "execution_count": 13,
     "metadata": {},
     "output_type": "execute_result"
    }
   ],
   "source": [
    "df['Race'].value_counts()"
   ]
  },
  {
   "cell_type": "code",
   "execution_count": 14,
   "id": "cfd4755b",
   "metadata": {},
   "outputs": [
    {
     "data": {
      "text/plain": [
       " Male      21789\n",
       " Female    10771\n",
       "Name: Sex, dtype: int64"
      ]
     },
     "execution_count": 14,
     "metadata": {},
     "output_type": "execute_result"
    }
   ],
   "source": [
    "df['Sex'].value_counts()"
   ]
  },
  {
   "cell_type": "code",
   "execution_count": 15,
   "id": "18c10928",
   "metadata": {},
   "outputs": [
    {
     "data": {
      "text/plain": [
       " Prof-specialty       4140\n",
       " Craft-repair         4099\n",
       " Exec-managerial      4066\n",
       " Adm-clerical         3769\n",
       " Sales                3650\n",
       " Other-service        3295\n",
       " Machine-op-inspct    2002\n",
       " ?                    1843\n",
       " Transport-moving     1597\n",
       " Handlers-cleaners    1370\n",
       " Farming-fishing       994\n",
       " Tech-support          928\n",
       " Protective-serv       649\n",
       " Priv-house-serv       149\n",
       " Armed-Forces            9\n",
       "Name: Occupation, dtype: int64"
      ]
     },
     "execution_count": 15,
     "metadata": {},
     "output_type": "execute_result"
    }
   ],
   "source": [
    "df['Occupation'].value_counts()"
   ]
  },
  {
   "cell_type": "code",
   "execution_count": null,
   "id": "650f981d",
   "metadata": {},
   "outputs": [],
   "source": []
  },
  {
   "cell_type": "code",
   "execution_count": null,
   "id": "761f7fb5",
   "metadata": {},
   "outputs": [],
   "source": []
  },
  {
   "cell_type": "code",
   "execution_count": 16,
   "id": "02a3a038",
   "metadata": {},
   "outputs": [
    {
     "data": {
      "text/plain": [
       " <=50K    24719\n",
       " >50K      7841\n",
       "Name: Income, dtype: int64"
      ]
     },
     "execution_count": 16,
     "metadata": {},
     "output_type": "execute_result"
    }
   ],
   "source": [
    "df['Income'].value_counts()"
   ]
  },
  {
   "cell_type": "code",
   "execution_count": 17,
   "id": "9ff58e2f",
   "metadata": {},
   "outputs": [
    {
     "data": {
      "text/plain": [
       " United-States                 29169\n",
       " Mexico                          643\n",
       " ?                               583\n",
       " Philippines                     198\n",
       " Germany                         137\n",
       " Canada                          121\n",
       " Puerto-Rico                     114\n",
       " El-Salvador                     106\n",
       " India                           100\n",
       " Cuba                             95\n",
       " England                          90\n",
       " Jamaica                          81\n",
       " South                            80\n",
       " China                            75\n",
       " Italy                            73\n",
       " Dominican-Republic               70\n",
       " Vietnam                          67\n",
       " Guatemala                        64\n",
       " Japan                            62\n",
       " Poland                           60\n",
       " Columbia                         59\n",
       " Taiwan                           51\n",
       " Haiti                            44\n",
       " Iran                             43\n",
       " Portugal                         37\n",
       " Nicaragua                        34\n",
       " Peru                             31\n",
       " France                           29\n",
       " Greece                           29\n",
       " Ecuador                          28\n",
       " Ireland                          24\n",
       " Hong                             20\n",
       " Cambodia                         19\n",
       " Trinadad&Tobago                  19\n",
       " Laos                             18\n",
       " Thailand                         18\n",
       " Yugoslavia                       16\n",
       " Outlying-US(Guam-USVI-etc)       14\n",
       " Honduras                         13\n",
       " Hungary                          13\n",
       " Scotland                         12\n",
       " Holand-Netherlands                1\n",
       "Name: Native_country, dtype: int64"
      ]
     },
     "execution_count": 17,
     "metadata": {},
     "output_type": "execute_result"
    }
   ],
   "source": [
    "df['Native_country'].value_counts()\n",
    "\n",
    "#we see missing values labelled as '?'"
   ]
  },
  {
   "cell_type": "code",
   "execution_count": 18,
   "id": "9fcb27d1",
   "metadata": {},
   "outputs": [],
   "source": [
    "#handling all missing values labelled as '?' which we noticed in couple of columns above. \n",
    "\n",
    "df = df.replace(' ?',np.nan)"
   ]
  },
  {
   "cell_type": "code",
   "execution_count": 19,
   "id": "d161d30c",
   "metadata": {},
   "outputs": [
    {
     "data": {
      "text/plain": [
       "Age                  0\n",
       "Workclass         1836\n",
       "Fnlwgt               0\n",
       "Education            0\n",
       "Education_num        0\n",
       "Marital_status       0\n",
       "Occupation        1843\n",
       "Relationship         0\n",
       "Race                 0\n",
       "Sex                  0\n",
       "Capital_gain         0\n",
       "Capital_loss         0\n",
       "Hours_per_week       0\n",
       "Native_country     583\n",
       "Income               0\n",
       "dtype: int64"
      ]
     },
     "execution_count": 19,
     "metadata": {},
     "output_type": "execute_result"
    }
   ],
   "source": [
    "df.isnull().sum()"
   ]
  },
  {
   "cell_type": "code",
   "execution_count": 20,
   "id": "5bf3aab8",
   "metadata": {},
   "outputs": [],
   "source": [
    "#dropping null values\n",
    "\n",
    "df.dropna(inplace=True)"
   ]
  },
  {
   "cell_type": "code",
   "execution_count": 21,
   "id": "332e2294",
   "metadata": {},
   "outputs": [],
   "source": [
    "#there is whitespace in front of all the object column values so we are creating a function to remove all whitespaces.\n",
    "\n",
    "def stripWhiteSpace(dataframe):\n",
    "    for i in dataframe.columns:\n",
    "        if dataframe[i].dtype == 'object':\n",
    "            dataframe[i] = dataframe[i].str.strip()"
   ]
  },
  {
   "cell_type": "code",
   "execution_count": 22,
   "id": "8d5f9f18",
   "metadata": {},
   "outputs": [],
   "source": [
    "#removing whitespaces from our dataset by call the above created function\n",
    "\n",
    "stripWhiteSpace(df) "
   ]
  },
  {
   "cell_type": "markdown",
   "id": "30a54610",
   "metadata": {},
   "source": [
    "# EDA"
   ]
  },
  {
   "cell_type": "code",
   "execution_count": 23,
   "id": "65337151",
   "metadata": {},
   "outputs": [
    {
     "data": {
      "text/plain": [
       "<AxesSubplot:xlabel='Workclass', ylabel='count'>"
      ]
     },
     "execution_count": 23,
     "metadata": {},
     "output_type": "execute_result"
    },
    {
     "data": {
      "image/png": "[encoded data removed]",
      "text/plain": [
       "<Figure size 720x360 with 1 Axes>"
      ]
     },
     "metadata": {
      "needs_background": "light"
     },
     "output_type": "display_data"
    }
   ],
   "source": [
    "plt.figure(figsize=(10,5))\n",
    "sns.countplot(x=df['Workclass'])\n",
    "\n",
    "#we see maximum recorded data is of Private workclass people"
   ]
  },
  {
   "cell_type": "code",
   "execution_count": 24,
   "id": "949fa092",
   "metadata": {},
   "outputs": [
    {
     "name": "stdout",
     "output_type": "stream",
     "text": [
      "<class 'pandas.core.frame.DataFrame'>\n",
      "Int64Index: 30161 entries, 0 to 32559\n",
      "Data columns (total 15 columns):\n",
      " #   Column          Non-Null Count  Dtype \n",
      "---  ------          --------------  ----- \n",
      " 0   Age             30161 non-null  int64 \n",
      " 1   Workclass       30161 non-null  object\n",
      " 2   Fnlwgt          30161 non-null  int64 \n",
      " 3   Education       30161 non-null  object\n",
      " 4   Education_num   30161 non-null  int64 \n",
      " 5   Marital_status  30161 non-null  object\n",
      " 6   Occupation      30161 non-null  object\n",
      " 7   Relationship    30161 non-null  object\n",
      " 8   Race            30161 non-null  object\n",
      " 9   Sex             30161 non-null  object\n",
      " 10  Capital_gain    30161 non-null  int64 \n",
      " 11  Capital_loss    30161 non-null  int64 \n",
      " 12  Hours_per_week  30161 non-null  int64 \n",
      " 13  Native_country  30161 non-null  object\n",
      " 14  Income          30161 non-null  object\n",
      "dtypes: int64(6), object(9)\n",
      "memory usage: 4.7+ MB\n"
     ]
    }
   ],
   "source": [
    "df.info()"
   ]
  },
  {
   "cell_type": "code",
   "execution_count": 25,
   "id": "b86f0d0e",
   "metadata": {},
   "outputs": [
    {
     "data": {
      "image/png": "[encoded data removed]",
      "text/plain": [
       "<Figure size 1080x576 with 1 Axes>"
      ]
     },
     "metadata": {
      "needs_background": "light"
     },
     "output_type": "display_data"
    }
   ],
   "source": [
    "plt.figure(figsize=(15,8))                          #correction to be made- wrong graph\n",
    "ax = sns.barplot(x=df['Occupation'], y=df['Hours_per_week'], hue=df['Income'])\n",
    "ax.set_xticklabels(ax.get_xticklabels(), rotation=40, ha=\"right\")\n",
    "\n",
    "plt.show()\n",
    "\n",
    "#We can see that people in Farming-fishing occupation work for maximum hours per week and Private house servants the least work hours."
   ]
  },
  {
   "cell_type": "code",
   "execution_count": 26,
   "id": "ead6121d",
   "metadata": {},
   "outputs": [
    {
     "data": {
      "image/png": "[encoded data removed]",
      "text/plain": [
       "<Figure size 1080x576 with 1 Axes>"
      ]
     },
     "metadata": {
      "needs_background": "light"
     },
     "output_type": "display_data"
    }
   ],
   "source": [
    "plt.figure(figsize=(15,8))\n",
    "ax = sns.barplot(x=df['Occupation'], y=df['Capital_gain'],hue=df['Sex'])\n",
    "ax.set_xticklabels(ax.get_xticklabels(), rotation=40, ha=\"right\")\n",
    "\n",
    "plt.show()\n",
    "\n",
    "#from the below graph, we see that males in Prof-Specialty occupation have seen highest capital gain."
   ]
  },
  {
   "cell_type": "code",
   "execution_count": null,
   "id": "a4ae08e1",
   "metadata": {},
   "outputs": [],
   "source": []
  },
  {
   "cell_type": "code",
   "execution_count": 27,
   "id": "b02b799a",
   "metadata": {},
   "outputs": [
    {
     "data": {
      "image/png": "[encoded data removed]",
      "text/plain": [
       "<Figure size 1224x576 with 1 Axes>"
      ]
     },
     "metadata": {
      "needs_background": "light"
     },
     "output_type": "display_data"
    }
   ],
   "source": [
    "plt.figure(figsize=(17,8))\n",
    "sns.barplot(x=df['Age'],y=df['Hours_per_week'], hue=df['Sex'])\n",
    "plt.xticks(rotation=45)\n",
    "plt.show()\n",
    "\n",
    "#While the graph's x-axis spread is high, we can see that males put in more hours per week compared to women at almost all ages.\n",
    "#This can be because male working population is more than women working population in general. "
   ]
  },
  {
   "cell_type": "code",
   "execution_count": 28,
   "id": "ebd971c1",
   "metadata": {},
   "outputs": [
    {
     "data": {
      "image/png": "[encoded data removed]",
      "text/plain": [
       "<Figure size 1080x504 with 1 Axes>"
      ]
     },
     "metadata": {
      "needs_background": "light"
     },
     "output_type": "display_data"
    }
   ],
   "source": [
    "plt.figure(figsize=(15,7))\n",
    "sns.barplot(x=df['Occupation'],y=df['Age'], hue=df['Relationship'])\n",
    "plt.xticks(rotation=45)\n",
    "plt.show()\n",
    "\n",
    "#In the below graph it can be clearly observed that in Armed forces occupation, there is no bar line for 'wife' hue.\n",
    "#This shows that Armed forces occupation is highly male populated occupation. "
   ]
  },
  {
   "cell_type": "code",
   "execution_count": 29,
   "id": "47aa48f7",
   "metadata": {},
   "outputs": [],
   "source": [
    "#importing label and ordinal encoder\n",
    "\n",
    "from sklearn.preprocessing import OrdinalEncoder\n",
    "oe = OrdinalEncoder()\n",
    "\n",
    "from sklearn.preprocessing import LabelEncoder\n",
    "le = LabelEncoder()"
   ]
  },
  {
   "cell_type": "code",
   "execution_count": 30,
   "id": "b9e6c8ac",
   "metadata": {},
   "outputs": [],
   "source": [
    "#Ordinal encoding all the features columns and Label encoding the target column:\n",
    "\n",
    "df.iloc[:,:14] = oe.fit_transform(df.iloc[:,:14])\n",
    "\n",
    "df['Income'] = le.fit_transform(df['Income'])  #label encoding the target column only"
   ]
  },
  {
   "cell_type": "code",
   "execution_count": 31,
   "id": "da336015",
   "metadata": {},
   "outputs": [
    {
     "name": "stdout",
     "output_type": "stream",
     "text": [
      "<class 'pandas.core.frame.DataFrame'>\n",
      "Int64Index: 30161 entries, 0 to 32559\n",
      "Data columns (total 15 columns):\n",
      " #   Column          Non-Null Count  Dtype  \n",
      "---  ------          --------------  -----  \n",
      " 0   Age             30161 non-null  float64\n",
      " 1   Workclass       30161 non-null  float64\n",
      " 2   Fnlwgt          30161 non-null  float64\n",
      " 3   Education       30161 non-null  float64\n",
      " 4   Education_num   30161 non-null  float64\n",
      " 5   Marital_status  30161 non-null  float64\n",
      " 6   Occupation      30161 non-null  float64\n",
      " 7   Relationship    30161 non-null  float64\n",
      " 8   Race            30161 non-null  float64\n",
      " 9   Sex             30161 non-null  float64\n",
      " 10  Capital_gain    30161 non-null  float64\n",
      " 11  Capital_loss    30161 non-null  float64\n",
      " 12  Hours_per_week  30161 non-null  float64\n",
      " 13  Native_country  30161 non-null  float64\n",
      " 14  Income          30161 non-null  int32  \n",
      "dtypes: float64(14), int32(1)\n",
      "memory usage: 4.6 MB\n"
     ]
    }
   ],
   "source": [
    "df.info()\n",
    "#all object type converted to numerical dtypes"
   ]
  },
  {
   "cell_type": "code",
   "execution_count": 32,
   "id": "5e4454d5",
   "metadata": {},
   "outputs": [],
   "source": [
    "#spliting the dataset for Scaling\n",
    "\n",
    "X = df.iloc[:,:14]\n",
    "y = df['Income']"
   ]
  },
  {
   "cell_type": "code",
   "execution_count": 33,
   "id": "ba8267a0",
   "metadata": {},
   "outputs": [
    {
     "data": {
      "text/html": [
       "<div>\n",
       "<style scoped>\n",
       "    .dataframe tbody tr th:only-of-type {\n",
       "        vertical-align: middle;\n",
       "    }\n",
       "\n",
       "    .dataframe tbody tr th {\n",
       "        vertical-align: top;\n",
       "    }\n",
       "\n",
       "    .dataframe thead th {\n",
       "        text-align: right;\n",
       "    }\n",
       "</style>\n",
       "<table border=\"1\" class=\"dataframe\">\n",
       "  <thead>\n",
       "    <tr style=\"text-align: right;\">\n",
       "      <th></th>\n",
       "      <th>Age</th>\n",
       "      <th>Workclass</th>\n",
       "      <th>Fnlwgt</th>\n",
       "      <th>Education</th>\n",
       "      <th>Education_num</th>\n",
       "      <th>Marital_status</th>\n",
       "      <th>Occupation</th>\n",
       "      <th>Relationship</th>\n",
       "      <th>Race</th>\n",
       "      <th>Sex</th>\n",
       "      <th>Capital_gain</th>\n",
       "      <th>Capital_loss</th>\n",
       "      <th>Hours_per_week</th>\n",
       "      <th>Native_country</th>\n",
       "    </tr>\n",
       "  </thead>\n",
       "  <tbody>\n",
       "    <tr>\n",
       "      <th>0</th>\n",
       "      <td>33.0</td>\n",
       "      <td>4.0</td>\n",
       "      <td>2726.0</td>\n",
       "      <td>9.0</td>\n",
       "      <td>12.0</td>\n",
       "      <td>2.0</td>\n",
       "      <td>3.0</td>\n",
       "      <td>0.0</td>\n",
       "      <td>4.0</td>\n",
       "      <td>1.0</td>\n",
       "      <td>0.0</td>\n",
       "      <td>0.0</td>\n",
       "      <td>12.0</td>\n",
       "      <td>38.0</td>\n",
       "    </tr>\n",
       "    <tr>\n",
       "      <th>1</th>\n",
       "      <td>21.0</td>\n",
       "      <td>2.0</td>\n",
       "      <td>13187.0</td>\n",
       "      <td>11.0</td>\n",
       "      <td>8.0</td>\n",
       "      <td>0.0</td>\n",
       "      <td>5.0</td>\n",
       "      <td>1.0</td>\n",
       "      <td>4.0</td>\n",
       "      <td>1.0</td>\n",
       "      <td>0.0</td>\n",
       "      <td>0.0</td>\n",
       "      <td>39.0</td>\n",
       "      <td>38.0</td>\n",
       "    </tr>\n",
       "    <tr>\n",
       "      <th>2</th>\n",
       "      <td>36.0</td>\n",
       "      <td>2.0</td>\n",
       "      <td>14353.0</td>\n",
       "      <td>1.0</td>\n",
       "      <td>6.0</td>\n",
       "      <td>2.0</td>\n",
       "      <td>5.0</td>\n",
       "      <td>0.0</td>\n",
       "      <td>2.0</td>\n",
       "      <td>1.0</td>\n",
       "      <td>0.0</td>\n",
       "      <td>0.0</td>\n",
       "      <td>39.0</td>\n",
       "      <td>38.0</td>\n",
       "    </tr>\n",
       "    <tr>\n",
       "      <th>3</th>\n",
       "      <td>11.0</td>\n",
       "      <td>2.0</td>\n",
       "      <td>18119.0</td>\n",
       "      <td>9.0</td>\n",
       "      <td>12.0</td>\n",
       "      <td>2.0</td>\n",
       "      <td>9.0</td>\n",
       "      <td>5.0</td>\n",
       "      <td>2.0</td>\n",
       "      <td>0.0</td>\n",
       "      <td>0.0</td>\n",
       "      <td>0.0</td>\n",
       "      <td>39.0</td>\n",
       "      <td>4.0</td>\n",
       "    </tr>\n",
       "    <tr>\n",
       "      <th>4</th>\n",
       "      <td>20.0</td>\n",
       "      <td>2.0</td>\n",
       "      <td>16566.0</td>\n",
       "      <td>12.0</td>\n",
       "      <td>13.0</td>\n",
       "      <td>2.0</td>\n",
       "      <td>3.0</td>\n",
       "      <td>5.0</td>\n",
       "      <td>4.0</td>\n",
       "      <td>0.0</td>\n",
       "      <td>0.0</td>\n",
       "      <td>0.0</td>\n",
       "      <td>39.0</td>\n",
       "      <td>38.0</td>\n",
       "    </tr>\n",
       "    <tr>\n",
       "      <th>...</th>\n",
       "      <td>...</td>\n",
       "      <td>...</td>\n",
       "      <td>...</td>\n",
       "      <td>...</td>\n",
       "      <td>...</td>\n",
       "      <td>...</td>\n",
       "      <td>...</td>\n",
       "      <td>...</td>\n",
       "      <td>...</td>\n",
       "      <td>...</td>\n",
       "      <td>...</td>\n",
       "      <td>...</td>\n",
       "      <td>...</td>\n",
       "      <td>...</td>\n",
       "    </tr>\n",
       "    <tr>\n",
       "      <th>32555</th>\n",
       "      <td>10.0</td>\n",
       "      <td>2.0</td>\n",
       "      <td>15470.0</td>\n",
       "      <td>7.0</td>\n",
       "      <td>11.0</td>\n",
       "      <td>2.0</td>\n",
       "      <td>12.0</td>\n",
       "      <td>5.0</td>\n",
       "      <td>4.0</td>\n",
       "      <td>0.0</td>\n",
       "      <td>0.0</td>\n",
       "      <td>0.0</td>\n",
       "      <td>37.0</td>\n",
       "      <td>38.0</td>\n",
       "    </tr>\n",
       "    <tr>\n",
       "      <th>32556</th>\n",
       "      <td>23.0</td>\n",
       "      <td>2.0</td>\n",
       "      <td>7554.0</td>\n",
       "      <td>11.0</td>\n",
       "      <td>8.0</td>\n",
       "      <td>2.0</td>\n",
       "      <td>6.0</td>\n",
       "      <td>0.0</td>\n",
       "      <td>4.0</td>\n",
       "      <td>1.0</td>\n",
       "      <td>0.0</td>\n",
       "      <td>0.0</td>\n",
       "      <td>39.0</td>\n",
       "      <td>38.0</td>\n",
       "    </tr>\n",
       "    <tr>\n",
       "      <th>32557</th>\n",
       "      <td>41.0</td>\n",
       "      <td>2.0</td>\n",
       "      <td>7376.0</td>\n",
       "      <td>11.0</td>\n",
       "      <td>8.0</td>\n",
       "      <td>6.0</td>\n",
       "      <td>0.0</td>\n",
       "      <td>4.0</td>\n",
       "      <td>4.0</td>\n",
       "      <td>0.0</td>\n",
       "      <td>0.0</td>\n",
       "      <td>0.0</td>\n",
       "      <td>39.0</td>\n",
       "      <td>38.0</td>\n",
       "    </tr>\n",
       "    <tr>\n",
       "      <th>32558</th>\n",
       "      <td>5.0</td>\n",
       "      <td>2.0</td>\n",
       "      <td>12059.0</td>\n",
       "      <td>11.0</td>\n",
       "      <td>8.0</td>\n",
       "      <td>4.0</td>\n",
       "      <td>0.0</td>\n",
       "      <td>3.0</td>\n",
       "      <td>4.0</td>\n",
       "      <td>1.0</td>\n",
       "      <td>0.0</td>\n",
       "      <td>0.0</td>\n",
       "      <td>19.0</td>\n",
       "      <td>38.0</td>\n",
       "    </tr>\n",
       "    <tr>\n",
       "      <th>32559</th>\n",
       "      <td>35.0</td>\n",
       "      <td>3.0</td>\n",
       "      <td>16688.0</td>\n",
       "      <td>11.0</td>\n",
       "      <td>8.0</td>\n",
       "      <td>2.0</td>\n",
       "      <td>3.0</td>\n",
       "      <td>5.0</td>\n",
       "      <td>4.0</td>\n",
       "      <td>0.0</td>\n",
       "      <td>107.0</td>\n",
       "      <td>0.0</td>\n",
       "      <td>39.0</td>\n",
       "      <td>38.0</td>\n",
       "    </tr>\n",
       "  </tbody>\n",
       "</table>\n",
       "<p>30161 rows × 14 columns</p>\n",
       "</div>"
      ],
      "text/plain": [
       "        Age  Workclass   Fnlwgt  Education  Education_num  Marital_status  \\\n",
       "0      33.0        4.0   2726.0        9.0           12.0             2.0   \n",
       "1      21.0        2.0  13187.0       11.0            8.0             0.0   \n",
       "2      36.0        2.0  14353.0        1.0            6.0             2.0   \n",
       "3      11.0        2.0  18119.0        9.0           12.0             2.0   \n",
       "4      20.0        2.0  16566.0       12.0           13.0             2.0   \n",
       "...     ...        ...      ...        ...            ...             ...   \n",
       "32555  10.0        2.0  15470.0        7.0           11.0             2.0   \n",
       "32556  23.0        2.0   7554.0       11.0            8.0             2.0   \n",
       "32557  41.0        2.0   7376.0       11.0            8.0             6.0   \n",
       "32558   5.0        2.0  12059.0       11.0            8.0             4.0   \n",
       "32559  35.0        3.0  16688.0       11.0            8.0             2.0   \n",
       "\n",
       "       Occupation  Relationship  Race  Sex  Capital_gain  Capital_loss  \\\n",
       "0             3.0           0.0   4.0  1.0           0.0           0.0   \n",
       "1             5.0           1.0   4.0  1.0           0.0           0.0   \n",
       "2             5.0           0.0   2.0  1.0           0.0           0.0   \n",
       "3             9.0           5.0   2.0  0.0           0.0           0.0   \n",
       "4             3.0           5.0   4.0  0.0           0.0           0.0   \n",
       "...           ...           ...   ...  ...           ...           ...   \n",
       "32555        12.0           5.0   4.0  0.0           0.0           0.0   \n",
       "32556         6.0           0.0   4.0  1.0           0.0           0.0   \n",
       "32557         0.0           4.0   4.0  0.0           0.0           0.0   \n",
       "32558         0.0           3.0   4.0  1.0           0.0           0.0   \n",
       "32559         3.0           5.0   4.0  0.0         107.0           0.0   \n",
       "\n",
       "       Hours_per_week  Native_country  \n",
       "0                12.0            38.0  \n",
       "1                39.0            38.0  \n",
       "2                39.0            38.0  \n",
       "3                39.0             4.0  \n",
       "4                39.0            38.0  \n",
       "...               ...             ...  \n",
       "32555            37.0            38.0  \n",
       "32556            39.0            38.0  \n",
       "32557            39.0            38.0  \n",
       "32558            19.0            38.0  \n",
       "32559            39.0            38.0  \n",
       "\n",
       "[30161 rows x 14 columns]"
      ]
     },
     "execution_count": 33,
     "metadata": {},
     "output_type": "execute_result"
    }
   ],
   "source": [
    "X"
   ]
  },
  {
   "cell_type": "code",
   "execution_count": 34,
   "id": "73446fea",
   "metadata": {},
   "outputs": [
    {
     "data": {
      "text/plain": [
       "0        0\n",
       "1        0\n",
       "2        0\n",
       "3        0\n",
       "4        0\n",
       "        ..\n",
       "32555    0\n",
       "32556    1\n",
       "32557    0\n",
       "32558    0\n",
       "32559    1\n",
       "Name: Income, Length: 30161, dtype: int32"
      ]
     },
     "execution_count": 34,
     "metadata": {},
     "output_type": "execute_result"
    }
   ],
   "source": [
    "y"
   ]
  },
  {
   "cell_type": "code",
   "execution_count": 35,
   "id": "04a13c6b",
   "metadata": {},
   "outputs": [],
   "source": [
    "from sklearn.preprocessing import MinMaxScaler\n",
    "mms = MinMaxScaler()"
   ]
  },
  {
   "cell_type": "code",
   "execution_count": 36,
   "id": "c5a9ce01",
   "metadata": {},
   "outputs": [
    {
     "data": {
      "text/plain": [
       "array([[0.46478873, 0.66666667, 0.1345442 , ..., 0.        , 0.12903226,\n",
       "        0.95      ],\n",
       "       [0.29577465, 0.33333333, 0.65085632, ..., 0.        , 0.41935484,\n",
       "        0.95      ],\n",
       "       [0.50704225, 0.33333333, 0.70840531, ..., 0.        , 0.41935484,\n",
       "        0.95      ],\n",
       "       ...,\n",
       "       [0.57746479, 0.33333333, 0.36404916, ..., 0.        , 0.41935484,\n",
       "        0.95      ],\n",
       "       [0.07042254, 0.33333333, 0.59518286, ..., 0.        , 0.20430108,\n",
       "        0.95      ],\n",
       "       [0.49295775, 0.5       , 0.82365135, ..., 0.        , 0.41935484,\n",
       "        0.95      ]])"
      ]
     },
     "execution_count": 36,
     "metadata": {},
     "output_type": "execute_result"
    }
   ],
   "source": [
    "#scaling the dataset using MinMaxScaler\n",
    "\n",
    "X = mms.fit_transform(X)\n",
    "X"
   ]
  },
  {
   "cell_type": "code",
   "execution_count": 37,
   "id": "b5713813",
   "metadata": {
    "scrolled": true
   },
   "outputs": [
    {
     "data": {
      "text/plain": [
       "0    22653\n",
       "1     7508\n",
       "Name: Income, dtype: int64"
      ]
     },
     "execution_count": 37,
     "metadata": {},
     "output_type": "execute_result"
    }
   ],
   "source": [
    "df['Income'].value_counts()\n",
    "\n",
    "#We see there is class imbalance in our target column. We will now handle this by upsampling/oversamping using SMOTE method. "
   ]
  },
  {
   "cell_type": "code",
   "execution_count": 38,
   "id": "0d35efb1",
   "metadata": {},
   "outputs": [],
   "source": [
    "#importing SMOTE\n",
    "\n",
    "from imblearn.over_sampling import SMOTE"
   ]
  },
  {
   "cell_type": "code",
   "execution_count": 39,
   "id": "c7c31c82",
   "metadata": {},
   "outputs": [],
   "source": [
    "#Handling the class imbalance\n",
    "\n",
    "smote = SMOTE()\n",
    "X_res, y_res = smote.fit_resample(X,y)"
   ]
  },
  {
   "cell_type": "code",
   "execution_count": 40,
   "id": "7fe25174",
   "metadata": {},
   "outputs": [
    {
     "data": {
      "text/plain": [
       "array([[0.46478873, 0.66666667, 0.1345442 , ..., 0.        , 0.12903226,\n",
       "        0.95      ],\n",
       "       [0.29577465, 0.33333333, 0.65085632, ..., 0.        , 0.41935484,\n",
       "        0.95      ],\n",
       "       [0.50704225, 0.33333333, 0.70840531, ..., 0.        , 0.41935484,\n",
       "        0.95      ],\n",
       "       ...,\n",
       "       [0.17971963, 0.33333333, 0.32451129, ..., 0.        , 0.38967641,\n",
       "        0.95      ],\n",
       "       [0.38474003, 0.        , 0.72249037, ..., 0.        , 0.41935484,\n",
       "        0.95      ],\n",
       "       [0.38305223, 0.33333333, 0.79542656, ..., 0.        , 0.44517899,\n",
       "        0.95      ]])"
      ]
     },
     "execution_count": 40,
     "metadata": {},
     "output_type": "execute_result"
    }
   ],
   "source": [
    "X_res"
   ]
  },
  {
   "cell_type": "code",
   "execution_count": 41,
   "id": "0fde7a64",
   "metadata": {},
   "outputs": [
    {
     "data": {
      "text/plain": [
       "0    22653\n",
       "1    22653\n",
       "Name: Income, dtype: int64"
      ]
     },
     "execution_count": 41,
     "metadata": {},
     "output_type": "execute_result"
    }
   ],
   "source": [
    "y_res.value_counts()\n",
    "\n",
    "#Class imbalance has been handled now as we have equal value counts of 0s and 1s i.e. 22653 in the target column."
   ]
  },
  {
   "cell_type": "markdown",
   "id": "6144e7f5",
   "metadata": {},
   "source": [
    "\n",
    "FINDING BEST RANDOM STATE"
   ]
  },
  {
   "cell_type": "code",
   "execution_count": 42,
   "id": "f114c7af",
   "metadata": {},
   "outputs": [],
   "source": [
    "#importing classification models\n",
    "\n",
    "from sklearn.model_selection import train_test_split\n",
    "from sklearn.linear_model import LogisticRegression\n",
    "from sklearn.tree import DecisionTreeClassifier\n",
    "from sklearn.ensemble import RandomForestClassifier\n",
    "from sklearn.ensemble import AdaBoostClassifier\n",
    "\n",
    "#instantiating the imported classifiers\n",
    "\n",
    "lr = LogisticRegression()\n",
    "dtc = DecisionTreeClassifier()\n",
    "rfc = RandomForestClassifier()\n",
    "abc = AdaBoostClassifier() "
   ]
  },
  {
   "cell_type": "code",
   "execution_count": 43,
   "id": "d66e75c3",
   "metadata": {},
   "outputs": [],
   "source": [
    "from sklearn.metrics import accuracy_score"
   ]
  },
  {
   "cell_type": "code",
   "execution_count": 44,
   "id": "3a75edbe",
   "metadata": {
    "scrolled": false
   },
   "outputs": [
    {
     "name": "stdout",
     "output_type": "stream",
     "text": [
      "The best accuracy score 0.780965833848327 for Logistic regression is achieved at random state 81.\n"
     ]
    }
   ],
   "source": [
    "#finding best random state for Logistic Regression classifier\n",
    "\n",
    "lr_acc = 0    \n",
    "random_state = 0\n",
    "for i in range(0,200):\n",
    "    X_train,X_test,y_train,y_test = train_test_split(X_res,y_res,test_size=.25,random_state=i)\n",
    "    lr.fit(X_train,y_train)\n",
    "    y_pred = lr.predict(X_test)\n",
    "    acc = accuracy_score(y_test,y_pred)\n",
    "    if acc>lr_acc:\n",
    "        lr_acc=acc\n",
    "        random_state = i\n",
    "print(f\"The best accuracy score {lr_acc} for Logistic regression is achieved at random state {random_state}.\")"
   ]
  },
  {
   "cell_type": "code",
   "execution_count": 45,
   "id": "67825af4",
   "metadata": {},
   "outputs": [
    {
     "name": "stdout",
     "output_type": "stream",
     "text": [
      "The best accuracy score 0.8590094464553721 for AdaBoost Classifier is achieved at random state 39.\n"
     ]
    }
   ],
   "source": [
    "#finding best random state for AdaBoost Classifier\n",
    "\n",
    "final_acc = 0    \n",
    "random_state = 0\n",
    "for i in range(0,100):\n",
    "    X_train,X_test,y_train,y_test = train_test_split(X_res,y_res,test_size=.25,random_state=i)\n",
    "    abc.fit(X_train,y_train)\n",
    "    y_pred = abc.predict(X_test)\n",
    "    accuracy = accuracy_score(y_test,y_pred)\n",
    "    if accuracy>final_acc:\n",
    "        final_acc=accuracy\n",
    "        random_state = i\n",
    "print(f\"The best accuracy score {final_acc} for AdaBoost Classifier is achieved at random state {random_state}.\")"
   ]
  },
  {
   "cell_type": "code",
   "execution_count": 46,
   "id": "ac1e99d2",
   "metadata": {},
   "outputs": [
    {
     "name": "stdout",
     "output_type": "stream",
     "text": [
      "The best accuracy score 0.8581266001589123 for Decision Tree Classifier is achieved at random state 77.\n"
     ]
    }
   ],
   "source": [
    "#finding best random state for Decision Tree Classifier\n",
    "\n",
    "final_acc = 0    \n",
    "random_state = 0\n",
    "for i in range(0,100):\n",
    "    X_train,X_test,y_train,y_test = train_test_split(X_res,y_res,test_size=.25,random_state=i)\n",
    "    dtc.fit(X_train,y_train)\n",
    "    y_pred = dtc.predict(X_test)\n",
    "    accuracy = accuracy_score(y_test,y_pred)\n",
    "    if accuracy>final_acc:\n",
    "        final_acc=accuracy\n",
    "        random_state = i\n",
    "print(f\"The best accuracy score {final_acc} for Decision Tree Classifier is achieved at random state {random_state}.\")"
   ]
  },
  {
   "cell_type": "code",
   "execution_count": 47,
   "id": "abdf09c0",
   "metadata": {},
   "outputs": [
    {
     "name": "stdout",
     "output_type": "stream",
     "text": [
      "The best accuracy score 0.9031517612783614 for Random Forest Classifier is achieved at random state 73.\n"
     ]
    }
   ],
   "source": [
    "#finding best random state for Random Forest Classifier\n",
    "\n",
    "final_acc = 0    \n",
    "random_state = 0\n",
    "for i in range(0,100):\n",
    "    X_train,X_test,y_train,y_test = train_test_split(X_res,y_res,test_size=.25,random_state=i)\n",
    "    rfc.fit(X_train,y_train)\n",
    "    y_pred = rfc.predict(X_test)\n",
    "    accuracy = accuracy_score(y_test,y_pred)\n",
    "    if accuracy>final_acc:\n",
    "        final_acc=accuracy\n",
    "        random_state = i\n",
    "print(f\"The best accuracy score {final_acc} for Random Forest Classifier is achieved at random state {random_state}.\")"
   ]
  },
  {
   "cell_type": "markdown",
   "id": "6f0658f7",
   "metadata": {},
   "source": [
    "We have now found best random states for all 4 models. Details as below:\n",
    "* The best accuracy score 0.7830846649598305 for Logistic regression is achieved at random state 81.\n",
    "* The best accuracy score 0.8592743003443101 for AdaBoost Classifier is achieved at random state 16.\n",
    "* The best accuracy score 0.8590977310850181 for Decision Tree Classifier is achieved at random state 39.\n",
    "* The best accuracy score 0.9047408846119891 for Random Forest Classifier is achieved at random state 24.\n",
    "\n",
    "\n",
    "We will now go for cross validation to handle any overfitting/underfitting problems that may or may not be present."
   ]
  },
  {
   "cell_type": "markdown",
   "id": "7fc8dd9b",
   "metadata": {},
   "source": [
    "# Cross validation"
   ]
  },
  {
   "cell_type": "code",
   "execution_count": 48,
   "id": "b2c3a6eb",
   "metadata": {},
   "outputs": [],
   "source": [
    "from sklearn.model_selection import cross_val_score #importing cross validation module"
   ]
  },
  {
   "cell_type": "code",
   "execution_count": 49,
   "id": "2fcfb5e8",
   "metadata": {},
   "outputs": [
    {
     "name": "stdout",
     "output_type": "stream",
     "text": [
      "Mean of CV score at cv value:2 is 0.7716858694212687.\n",
      "Mean of CV score at cv value:3 is 0.7714430759722773.\n",
      "Mean of CV score at cv value:4 is 0.7714653483764023.\n",
      "Mean of CV score at cv value:5 is 0.7711122030234713.\n",
      "Mean of CV score at cv value:6 is 0.7715313644991834.\n",
      "Mean of CV score at cv value:7 is 0.7713992199603678.\n",
      "Mean of CV score at cv value:8 is 0.7715317577437943.\n"
     ]
    }
   ],
   "source": [
    "#finding the best CV value for all 4 models.\n",
    "\n",
    "#Logistic Regression\n",
    "\n",
    "for i in range(2,9):\n",
    "    cv_score = cross_val_score(lr, X_res,y_res,cv=i)\n",
    "    cv_mean = cv_score.mean()\n",
    "    print(f\"Mean of CV score at cv value:{i} is {cv_mean}.\")"
   ]
  },
  {
   "cell_type": "code",
   "execution_count": 50,
   "id": "6d372bcf",
   "metadata": {},
   "outputs": [
    {
     "name": "stdout",
     "output_type": "stream",
     "text": [
      "Mean of CV score at cv value:2 is 0.8447225533041981.\n",
      "Mean of CV score at cv value:3 is 0.8419635368383879.\n",
      "Mean of CV score at cv value:4 is 0.8467097882960148.\n",
      "Mean of CV score at cv value:5 is 0.8456505090890498.\n",
      "Mean of CV score at cv value:6 is 0.8465324681057697.\n",
      "Mean of CV score at cv value:7 is 0.8475714120396166.\n",
      "Mean of CV score at cv value:8 is 0.8477260117713257.\n"
     ]
    }
   ],
   "source": [
    "#AdaBoost Classifier\n",
    "\n",
    "for i in range(2,9):\n",
    "    cv_score = cross_val_score(abc, X_res,y_res,cv=i)\n",
    "    cv_mean = cv_score.mean()\n",
    "    print(f\"Mean of CV score at cv value:{i} is {cv_mean}.\")"
   ]
  },
  {
   "cell_type": "code",
   "execution_count": 51,
   "id": "7ba21824",
   "metadata": {},
   "outputs": [
    {
     "name": "stdout",
     "output_type": "stream",
     "text": [
      "Mean of CV score at cv value:2 is 0.8291617004370282.\n",
      "Mean of CV score at cv value:3 is 0.8329360349622567.\n",
      "Mean of CV score at cv value:4 is 0.8422521550109727.\n",
      "Mean of CV score at cv value:5 is 0.8492490182349013.\n",
      "Mean of CV score at cv value:6 is 0.8501522977089128.\n",
      "Mean of CV score at cv value:7 is 0.8510387311163264.\n",
      "Mean of CV score at cv value:8 is 0.851369605837925.\n"
     ]
    }
   ],
   "source": [
    "#Decision Tree Classifier\n",
    "\n",
    "for i in range(2,9):\n",
    "    cv_score = cross_val_score(dtc, X_res,y_res,cv=i)\n",
    "    cv_mean = cv_score.mean()\n",
    "    print(f\"Mean of CV score at cv value:{i} is {cv_mean}.\")"
   ]
  },
  {
   "cell_type": "code",
   "execution_count": 52,
   "id": "75a4ef83",
   "metadata": {},
   "outputs": [
    {
     "name": "stdout",
     "output_type": "stream",
     "text": [
      "Mean of CV score at cv value:2 is 0.8831280625082771.\n",
      "Mean of CV score at cv value:3 is 0.8909636692711782.\n",
      "Mean of CV score at cv value:4 is 0.8957547510358633.\n",
      "Mean of CV score at cv value:5 is 0.896549427577002.\n",
      "Mean of CV score at cv value:6 is 0.8972762989449521.\n",
      "Mean of CV score at cv value:7 is 0.8987360331764549.\n",
      "Mean of CV score at cv value:8 is 0.9002812201015413.\n"
     ]
    }
   ],
   "source": [
    "#Random Forest Classifier\n",
    "\n",
    "for i in range(2,9):\n",
    "    cv_score = cross_val_score(rfc, X_res,y_res,cv=i)\n",
    "    cv_mean = cv_score.mean()\n",
    "    print(f\"Mean of CV score at cv value:{i} is {cv_mean}.\")"
   ]
  },
  {
   "cell_type": "markdown",
   "id": "6ee5207e",
   "metadata": {},
   "source": [
    "The idea is to choose the model having least difference between CV mean and accuracy in order to best handle any overfitting situation. \n",
    "We see that Decision Tree Classifier has least difference between its accuracy score and CV mean as cv=8. \n",
    "\n",
    "Hence Decision Tree classifier becomes our best model to proceed with. \n",
    "\n",
    "We will not go for hyperparameter tuning to try and improve our model accuracy. "
   ]
  },
  {
   "cell_type": "markdown",
   "id": "a9ab8c99",
   "metadata": {},
   "source": [
    "# Hyperparameter tuning"
   ]
  },
  {
   "cell_type": "code",
   "execution_count": 53,
   "id": "202ff0d6",
   "metadata": {},
   "outputs": [],
   "source": [
    "from sklearn.model_selection import GridSearchCV #importinng gridsearchCV "
   ]
  },
  {
   "cell_type": "code",
   "execution_count": 54,
   "id": "0af57804",
   "metadata": {},
   "outputs": [],
   "source": [
    "X_train,X_test,y_train,y_test = train_test_split(X_res,y_res, test_size = .25, random_state= 39 )\n",
    "\n",
    "#defining parameters\n",
    "\n",
    "parameters = { 'criterion' : ['gini','entropy'],\n",
    "               'splitter' : ['best','random'],\n",
    "              'max_depth' : [2,4,5,7],\n",
    "              'min_samples_split' : [2,3,4],\n",
    "              'min_samples_leaf' : [1,2,3],\n",
    "              'max_features' : ['sqrt','auto','log2']\n",
    "             }"
   ]
  },
  {
   "cell_type": "code",
   "execution_count": 55,
   "id": "3b897dcc",
   "metadata": {},
   "outputs": [],
   "source": [
    "GSCV = GridSearchCV(dtc, parameters, cv=8) #instantiating GridSearchCV"
   ]
  },
  {
   "cell_type": "code",
   "execution_count": 56,
   "id": "eb9bb9ec",
   "metadata": {},
   "outputs": [
    {
     "data": {
      "text/plain": [
       "GridSearchCV(cv=8, estimator=DecisionTreeClassifier(),\n",
       "             param_grid={'criterion': ['gini', 'entropy'],\n",
       "                         'max_depth': [2, 4, 5, 7],\n",
       "                         'max_features': ['sqrt', 'auto', 'log2'],\n",
       "                         'min_samples_leaf': [1, 2, 3],\n",
       "                         'min_samples_split': [2, 3, 4],\n",
       "                         'splitter': ['best', 'random']})"
      ]
     },
     "execution_count": 56,
     "metadata": {},
     "output_type": "execute_result"
    }
   ],
   "source": [
    "GSCV.fit(X_train,y_train) #fitting the data"
   ]
  },
  {
   "cell_type": "code",
   "execution_count": 57,
   "id": "2b3e8a3f",
   "metadata": {},
   "outputs": [
    {
     "data": {
      "text/plain": [
       "{'criterion': 'gini',\n",
       " 'max_depth': 7,\n",
       " 'max_features': 'auto',\n",
       " 'min_samples_leaf': 1,\n",
       " 'min_samples_split': 3,\n",
       " 'splitter': 'best'}"
      ]
     },
     "execution_count": 57,
     "metadata": {},
     "output_type": "execute_result"
    }
   ],
   "source": [
    "GSCV.best_params_ #finding best parameters"
   ]
  },
  {
   "cell_type": "code",
   "execution_count": 58,
   "id": "1c6cb8c3",
   "metadata": {},
   "outputs": [],
   "source": [
    "#Applying Decision Tree Classifier on the dataset once again with the newly found best parameters\n",
    "\n",
    "final_dtc = DecisionTreeClassifier(criterion= 'entropy',\n",
    " max_depth= 7,\n",
    " max_features= 'sqrt',\n",
    " min_samples_leaf= 1,\n",
    " min_samples_split= 4,\n",
    " splitter= 'best')"
   ]
  },
  {
   "cell_type": "code",
   "execution_count": 59,
   "id": "abf684e2",
   "metadata": {},
   "outputs": [
    {
     "name": "stdout",
     "output_type": "stream",
     "text": [
      "Accuracy score after hyper parater tuning is 0.8273152644124658.\n"
     ]
    }
   ],
   "source": [
    "#fitting the data\n",
    "\n",
    "final_dtc.fit(X_train,y_train)\n",
    "y_pred = final_dtc.predict(X_test)\n",
    "final_accuracy = accuracy_score(y_test,y_pred)\n",
    "print(f\"Accuracy score after hyper parater tuning is {final_accuracy}.\")"
   ]
  },
  {
   "cell_type": "markdown",
   "id": "84aa9700",
   "metadata": {},
   "source": [
    "We see that initial accuracy of Decision Tree Classifier was 85.9% and after Hyperparameter tuning the accuracy has become 81.26%. This shows the model was initially overfitting and now we have handled that. "
   ]
  },
  {
   "cell_type": "markdown",
   "id": "2009cf7a",
   "metadata": {},
   "source": [
    "# Serialization"
   ]
  },
  {
   "cell_type": "code",
   "execution_count": 60,
   "id": "31bd34ce",
   "metadata": {},
   "outputs": [
    {
     "data": {
      "text/plain": [
       "array([0, 1, 1, ..., 1, 1, 0])"
      ]
     },
     "execution_count": 60,
     "metadata": {},
     "output_type": "execute_result"
    }
   ],
   "source": [
    "import pickle\n",
    "\n",
    "#dumping the file with pickling\n",
    "filename = 'Census income prediction'\n",
    "pickle.dump(final_dtc, open(filename, 'wb'))\n",
    "\n",
    "#loading the model\n",
    "pickled_dtc_model = pickle.load(open(filename, 'rb'))\n",
    "pickled_dtc_model.predict(X_test)"
   ]
  },
  {
   "cell_type": "code",
   "execution_count": null,
   "id": "1130eba7",
   "metadata": {},
   "outputs": [],
   "source": []
  },
  {
   "cell_type": "code",
   "execution_count": null,
   "id": "b4c1b73c",
   "metadata": {},
   "outputs": [],
   "source": []
  }
 ],
 "metadata": {
  "kernelspec": {
   "display_name": "Python 3 (ipykernel)",
   "language": "python",
   "name": "python3"
  },
  "language_info": {
   "codemirror_mode": {
    "name": "ipython",
    "version": 3
   },
   "file_extension": ".py",
   "mimetype": "text/x-python",
   "name": "python",
   "nbconvert_exporter": "python",
   "pygments_lexer": "ipython3",
   "version": "3.9.7"
  }
 },
 "nbformat": 4,
 "nbformat_minor": 5
}
