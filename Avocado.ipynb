{
 "cells": [
  {
   "cell_type": "code",
   "execution_count": 1,
   "id": "1d3c418c",
   "metadata": {},
   "outputs": [],
   "source": [
    "import pandas as pd\n",
    "import numpy as np\n",
    "import matplotlib.pyplot as plt\n",
    "import seaborn as sns\n",
    "import warnings\n",
    "warnings.filterwarnings(\"ignore\")"
   ]
  },
  {
   "cell_type": "code",
   "execution_count": 2,
   "id": "915c005f",
   "metadata": {
    "scrolled": true
   },
   "outputs": [
    {
     "data": {
      "text/html": [
       "<div>\n",
       "<style scoped>\n",
       "    .dataframe tbody tr th:only-of-type {\n",
       "        vertical-align: middle;\n",
       "    }\n",
       "\n",
       "    .dataframe tbody tr th {\n",
       "        vertical-align: top;\n",
       "    }\n",
       "\n",
       "    .dataframe thead th {\n",
       "        text-align: right;\n",
       "    }\n",
       "</style>\n",
       "<table border=\"1\" class=\"dataframe\">\n",
       "  <thead>\n",
       "    <tr style=\"text-align: right;\">\n",
       "      <th></th>\n",
       "      <th>Unnamed: 0</th>\n",
       "      <th>Date</th>\n",
       "      <th>AveragePrice</th>\n",
       "      <th>Total Volume</th>\n",
       "      <th>4046</th>\n",
       "      <th>4225</th>\n",
       "      <th>4770</th>\n",
       "      <th>Total Bags</th>\n",
       "      <th>Small Bags</th>\n",
       "      <th>Large Bags</th>\n",
       "      <th>XLarge Bags</th>\n",
       "      <th>type</th>\n",
       "      <th>year</th>\n",
       "      <th>region</th>\n",
       "    </tr>\n",
       "  </thead>\n",
       "  <tbody>\n",
       "    <tr>\n",
       "      <th>0</th>\n",
       "      <td>0</td>\n",
       "      <td>2015-12-27</td>\n",
       "      <td>1.33</td>\n",
       "      <td>64236.62</td>\n",
       "      <td>1036.74</td>\n",
       "      <td>54454.85</td>\n",
       "      <td>48.16</td>\n",
       "      <td>8696.87</td>\n",
       "      <td>8603.62</td>\n",
       "      <td>93.25</td>\n",
       "      <td>0.0</td>\n",
       "      <td>conventional</td>\n",
       "      <td>2015</td>\n",
       "      <td>Albany</td>\n",
       "    </tr>\n",
       "    <tr>\n",
       "      <th>1</th>\n",
       "      <td>1</td>\n",
       "      <td>2015-12-20</td>\n",
       "      <td>1.35</td>\n",
       "      <td>54876.98</td>\n",
       "      <td>674.28</td>\n",
       "      <td>44638.81</td>\n",
       "      <td>58.33</td>\n",
       "      <td>9505.56</td>\n",
       "      <td>9408.07</td>\n",
       "      <td>97.49</td>\n",
       "      <td>0.0</td>\n",
       "      <td>conventional</td>\n",
       "      <td>2015</td>\n",
       "      <td>Albany</td>\n",
       "    </tr>\n",
       "    <tr>\n",
       "      <th>2</th>\n",
       "      <td>2</td>\n",
       "      <td>2015-12-13</td>\n",
       "      <td>0.93</td>\n",
       "      <td>118220.22</td>\n",
       "      <td>794.70</td>\n",
       "      <td>109149.67</td>\n",
       "      <td>130.50</td>\n",
       "      <td>8145.35</td>\n",
       "      <td>8042.21</td>\n",
       "      <td>103.14</td>\n",
       "      <td>0.0</td>\n",
       "      <td>conventional</td>\n",
       "      <td>2015</td>\n",
       "      <td>Albany</td>\n",
       "    </tr>\n",
       "    <tr>\n",
       "      <th>3</th>\n",
       "      <td>3</td>\n",
       "      <td>2015-12-06</td>\n",
       "      <td>1.08</td>\n",
       "      <td>78992.15</td>\n",
       "      <td>1132.00</td>\n",
       "      <td>71976.41</td>\n",
       "      <td>72.58</td>\n",
       "      <td>5811.16</td>\n",
       "      <td>5677.40</td>\n",
       "      <td>133.76</td>\n",
       "      <td>0.0</td>\n",
       "      <td>conventional</td>\n",
       "      <td>2015</td>\n",
       "      <td>Albany</td>\n",
       "    </tr>\n",
       "    <tr>\n",
       "      <th>4</th>\n",
       "      <td>4</td>\n",
       "      <td>2015-11-29</td>\n",
       "      <td>1.28</td>\n",
       "      <td>51039.60</td>\n",
       "      <td>941.48</td>\n",
       "      <td>43838.39</td>\n",
       "      <td>75.78</td>\n",
       "      <td>6183.95</td>\n",
       "      <td>5986.26</td>\n",
       "      <td>197.69</td>\n",
       "      <td>0.0</td>\n",
       "      <td>conventional</td>\n",
       "      <td>2015</td>\n",
       "      <td>Albany</td>\n",
       "    </tr>\n",
       "  </tbody>\n",
       "</table>\n",
       "</div>"
      ],
      "text/plain": [
       "   Unnamed: 0        Date  AveragePrice  Total Volume     4046       4225  \\\n",
       "0           0  2015-12-27          1.33      64236.62  1036.74   54454.85   \n",
       "1           1  2015-12-20          1.35      54876.98   674.28   44638.81   \n",
       "2           2  2015-12-13          0.93     118220.22   794.70  109149.67   \n",
       "3           3  2015-12-06          1.08      78992.15  1132.00   71976.41   \n",
       "4           4  2015-11-29          1.28      51039.60   941.48   43838.39   \n",
       "\n",
       "     4770  Total Bags  Small Bags  Large Bags  XLarge Bags          type  \\\n",
       "0   48.16     8696.87     8603.62       93.25          0.0  conventional   \n",
       "1   58.33     9505.56     9408.07       97.49          0.0  conventional   \n",
       "2  130.50     8145.35     8042.21      103.14          0.0  conventional   \n",
       "3   72.58     5811.16     5677.40      133.76          0.0  conventional   \n",
       "4   75.78     6183.95     5986.26      197.69          0.0  conventional   \n",
       "\n",
       "   year  region  \n",
       "0  2015  Albany  \n",
       "1  2015  Albany  \n",
       "2  2015  Albany  \n",
       "3  2015  Albany  \n",
       "4  2015  Albany  "
      ]
     },
     "execution_count": 2,
     "metadata": {},
     "output_type": "execute_result"
    }
   ],
   "source": [
    "df = pd.read_csv(\"Avocado.csv\")\n",
    "df.head()"
   ]
  },
  {
   "cell_type": "code",
   "execution_count": 3,
   "id": "03fabdba",
   "metadata": {},
   "outputs": [
    {
     "name": "stdout",
     "output_type": "stream",
     "text": [
      "<class 'pandas.core.frame.DataFrame'>\n",
      "RangeIndex: 18249 entries, 0 to 18248\n",
      "Data columns (total 14 columns):\n",
      " #   Column        Non-Null Count  Dtype  \n",
      "---  ------        --------------  -----  \n",
      " 0   Unnamed: 0    18249 non-null  int64  \n",
      " 1   Date          18249 non-null  object \n",
      " 2   AveragePrice  18249 non-null  float64\n",
      " 3   Total Volume  18249 non-null  float64\n",
      " 4   4046          18249 non-null  float64\n",
      " 5   4225          18249 non-null  float64\n",
      " 6   4770          18249 non-null  float64\n",
      " 7   Total Bags    18249 non-null  float64\n",
      " 8   Small Bags    18249 non-null  float64\n",
      " 9   Large Bags    18249 non-null  float64\n",
      " 10  XLarge Bags   18249 non-null  float64\n",
      " 11  type          18249 non-null  object \n",
      " 12  year          18249 non-null  int64  \n",
      " 13  region        18249 non-null  object \n",
      "dtypes: float64(9), int64(2), object(3)\n",
      "memory usage: 1.9+ MB\n"
     ]
    }
   ],
   "source": [
    "df.info()"
   ]
  },
  {
   "cell_type": "code",
   "execution_count": 4,
   "id": "4ae40879",
   "metadata": {},
   "outputs": [],
   "source": [
    "#converting Date column to datetime datatype from Object datatype\n",
    "df['Date'] = pd.to_datetime(df['Date'],format='%Y-%m-%d')"
   ]
  },
  {
   "cell_type": "code",
   "execution_count": 5,
   "id": "9bac6763",
   "metadata": {},
   "outputs": [],
   "source": [
    "#making new columns of date w.r.t. day, month and year\n",
    "\n",
    "import datetime as dt\n",
    "df['Day'] = df['Date'].dt.day\n",
    "df['Month'] = df['Date'].dt.month\n",
    "df['Year'] = df['Date'].dt.year"
   ]
  },
  {
   "cell_type": "code",
   "execution_count": 6,
   "id": "812500a5",
   "metadata": {},
   "outputs": [],
   "source": [
    "#deleting Date column since the data has been extracted to new columns\n",
    "\n",
    "df.drop(labels='Date', axis=1, inplace=True)"
   ]
  },
  {
   "cell_type": "code",
   "execution_count": 7,
   "id": "fad9e7ea",
   "metadata": {},
   "outputs": [],
   "source": [
    "df.drop(labels='Unnamed: 0', axis=1, inplace=True)"
   ]
  },
  {
   "cell_type": "code",
   "execution_count": 8,
   "id": "11fa4a0e",
   "metadata": {},
   "outputs": [
    {
     "data": {
      "text/html": [
       "<div>\n",
       "<style scoped>\n",
       "    .dataframe tbody tr th:only-of-type {\n",
       "        vertical-align: middle;\n",
       "    }\n",
       "\n",
       "    .dataframe tbody tr th {\n",
       "        vertical-align: top;\n",
       "    }\n",
       "\n",
       "    .dataframe thead th {\n",
       "        text-align: right;\n",
       "    }\n",
       "</style>\n",
       "<table border=\"1\" class=\"dataframe\">\n",
       "  <thead>\n",
       "    <tr style=\"text-align: right;\">\n",
       "      <th></th>\n",
       "      <th>AveragePrice</th>\n",
       "      <th>Total Volume</th>\n",
       "      <th>4046</th>\n",
       "      <th>4225</th>\n",
       "      <th>4770</th>\n",
       "      <th>Total Bags</th>\n",
       "      <th>Small Bags</th>\n",
       "      <th>Large Bags</th>\n",
       "      <th>XLarge Bags</th>\n",
       "      <th>type</th>\n",
       "      <th>year</th>\n",
       "      <th>region</th>\n",
       "      <th>Day</th>\n",
       "      <th>Month</th>\n",
       "      <th>Year</th>\n",
       "    </tr>\n",
       "  </thead>\n",
       "  <tbody>\n",
       "    <tr>\n",
       "      <th>0</th>\n",
       "      <td>1.33</td>\n",
       "      <td>64236.62</td>\n",
       "      <td>1036.74</td>\n",
       "      <td>54454.85</td>\n",
       "      <td>48.16</td>\n",
       "      <td>8696.87</td>\n",
       "      <td>8603.62</td>\n",
       "      <td>93.25</td>\n",
       "      <td>0.0</td>\n",
       "      <td>conventional</td>\n",
       "      <td>2015</td>\n",
       "      <td>Albany</td>\n",
       "      <td>27</td>\n",
       "      <td>12</td>\n",
       "      <td>2015</td>\n",
       "    </tr>\n",
       "    <tr>\n",
       "      <th>1</th>\n",
       "      <td>1.35</td>\n",
       "      <td>54876.98</td>\n",
       "      <td>674.28</td>\n",
       "      <td>44638.81</td>\n",
       "      <td>58.33</td>\n",
       "      <td>9505.56</td>\n",
       "      <td>9408.07</td>\n",
       "      <td>97.49</td>\n",
       "      <td>0.0</td>\n",
       "      <td>conventional</td>\n",
       "      <td>2015</td>\n",
       "      <td>Albany</td>\n",
       "      <td>20</td>\n",
       "      <td>12</td>\n",
       "      <td>2015</td>\n",
       "    </tr>\n",
       "    <tr>\n",
       "      <th>2</th>\n",
       "      <td>0.93</td>\n",
       "      <td>118220.22</td>\n",
       "      <td>794.70</td>\n",
       "      <td>109149.67</td>\n",
       "      <td>130.50</td>\n",
       "      <td>8145.35</td>\n",
       "      <td>8042.21</td>\n",
       "      <td>103.14</td>\n",
       "      <td>0.0</td>\n",
       "      <td>conventional</td>\n",
       "      <td>2015</td>\n",
       "      <td>Albany</td>\n",
       "      <td>13</td>\n",
       "      <td>12</td>\n",
       "      <td>2015</td>\n",
       "    </tr>\n",
       "    <tr>\n",
       "      <th>3</th>\n",
       "      <td>1.08</td>\n",
       "      <td>78992.15</td>\n",
       "      <td>1132.00</td>\n",
       "      <td>71976.41</td>\n",
       "      <td>72.58</td>\n",
       "      <td>5811.16</td>\n",
       "      <td>5677.40</td>\n",
       "      <td>133.76</td>\n",
       "      <td>0.0</td>\n",
       "      <td>conventional</td>\n",
       "      <td>2015</td>\n",
       "      <td>Albany</td>\n",
       "      <td>6</td>\n",
       "      <td>12</td>\n",
       "      <td>2015</td>\n",
       "    </tr>\n",
       "    <tr>\n",
       "      <th>4</th>\n",
       "      <td>1.28</td>\n",
       "      <td>51039.60</td>\n",
       "      <td>941.48</td>\n",
       "      <td>43838.39</td>\n",
       "      <td>75.78</td>\n",
       "      <td>6183.95</td>\n",
       "      <td>5986.26</td>\n",
       "      <td>197.69</td>\n",
       "      <td>0.0</td>\n",
       "      <td>conventional</td>\n",
       "      <td>2015</td>\n",
       "      <td>Albany</td>\n",
       "      <td>29</td>\n",
       "      <td>11</td>\n",
       "      <td>2015</td>\n",
       "    </tr>\n",
       "  </tbody>\n",
       "</table>\n",
       "</div>"
      ],
      "text/plain": [
       "   AveragePrice  Total Volume     4046       4225    4770  Total Bags  \\\n",
       "0          1.33      64236.62  1036.74   54454.85   48.16     8696.87   \n",
       "1          1.35      54876.98   674.28   44638.81   58.33     9505.56   \n",
       "2          0.93     118220.22   794.70  109149.67  130.50     8145.35   \n",
       "3          1.08      78992.15  1132.00   71976.41   72.58     5811.16   \n",
       "4          1.28      51039.60   941.48   43838.39   75.78     6183.95   \n",
       "\n",
       "   Small Bags  Large Bags  XLarge Bags          type  year  region  Day  \\\n",
       "0     8603.62       93.25          0.0  conventional  2015  Albany   27   \n",
       "1     9408.07       97.49          0.0  conventional  2015  Albany   20   \n",
       "2     8042.21      103.14          0.0  conventional  2015  Albany   13   \n",
       "3     5677.40      133.76          0.0  conventional  2015  Albany    6   \n",
       "4     5986.26      197.69          0.0  conventional  2015  Albany   29   \n",
       "\n",
       "   Month  Year  \n",
       "0     12  2015  \n",
       "1     12  2015  \n",
       "2     12  2015  \n",
       "3     12  2015  \n",
       "4     11  2015  "
      ]
     },
     "execution_count": 8,
     "metadata": {},
     "output_type": "execute_result"
    }
   ],
   "source": [
    "df.head()"
   ]
  },
  {
   "cell_type": "markdown",
   "id": "83a06666",
   "metadata": {},
   "source": [
    "Univariate analysis"
   ]
  },
  {
   "cell_type": "code",
   "execution_count": 9,
   "id": "252b5ee7",
   "metadata": {},
   "outputs": [
    {
     "data": {
      "text/plain": [
       "Index(['AveragePrice', 'Total Volume', '4046', '4225', '4770', 'Total Bags',\n",
       "       'Small Bags', 'Large Bags', 'XLarge Bags', 'type', 'year', 'region',\n",
       "       'Day', 'Month', 'Year'],\n",
       "      dtype='object')"
      ]
     },
     "execution_count": 9,
     "metadata": {},
     "output_type": "execute_result"
    }
   ],
   "source": [
    "df.columns"
   ]
  },
  {
   "cell_type": "code",
   "execution_count": 10,
   "id": "8834fe34",
   "metadata": {},
   "outputs": [
    {
     "data": {
      "text/plain": [
       "<seaborn.axisgrid.JointGrid at 0x210588bddf0>"
      ]
     },
     "execution_count": 10,
     "metadata": {},
     "output_type": "execute_result"
    },
    {
     "data": {
      "image/png": "[encoded data removed]",
      "text/plain": [
       "<Figure size 432x432 with 3 Axes>"
      ]
     },
     "metadata": {
      "needs_background": "light"
     },
     "output_type": "display_data"
    }
   ],
   "source": [
    "sns.jointplot(x='4046', y='Total Volume', data=df)"
   ]
  },
  {
   "cell_type": "code",
   "execution_count": 11,
   "id": "e5d7a82f",
   "metadata": {},
   "outputs": [
    {
     "data": {
      "text/plain": [
       "<seaborn.axisgrid.JointGrid at 0x210588bd4f0>"
      ]
     },
     "execution_count": 11,
     "metadata": {},
     "output_type": "execute_result"
    },
    {
     "data": {
      "image/png": "[encoded data removed]",
      "text/plain": [
       "<Figure size 432x432 with 3 Axes>"
      ]
     },
     "metadata": {
      "needs_background": "light"
     },
     "output_type": "display_data"
    }
   ],
   "source": [
    "sns.jointplot(x='4225', y='Total Volume', data=df)"
   ]
  },
  {
   "cell_type": "code",
   "execution_count": 12,
   "id": "5c9100ee",
   "metadata": {},
   "outputs": [
    {
     "data": {
      "text/plain": [
       "<seaborn.axisgrid.JointGrid at 0x2105ff9dac0>"
      ]
     },
     "execution_count": 12,
     "metadata": {},
     "output_type": "execute_result"
    },
    {
     "data": {
      "image/png": "[encoded data removed]",
      "text/plain": [
       "<Figure size 432x432 with 3 Axes>"
      ]
     },
     "metadata": {
      "needs_background": "light"
     },
     "output_type": "display_data"
    }
   ],
   "source": [
    "sns.jointplot(x='4770', y='Total Volume', data=df)"
   ]
  },
  {
   "cell_type": "code",
   "execution_count": 13,
   "id": "8751e167",
   "metadata": {},
   "outputs": [
    {
     "data": {
      "text/plain": [
       "Index(['AveragePrice', 'Total Volume', '4046', '4225', '4770', 'Total Bags',\n",
       "       'Small Bags', 'Large Bags', 'XLarge Bags', 'type', 'year', 'region',\n",
       "       'Day', 'Month', 'Year'],\n",
       "      dtype='object')"
      ]
     },
     "execution_count": 13,
     "metadata": {},
     "output_type": "execute_result"
    }
   ],
   "source": [
    "df.columns"
   ]
  },
  {
   "cell_type": "code",
   "execution_count": 14,
   "id": "a306e905",
   "metadata": {},
   "outputs": [
    {
     "data": {
      "text/plain": [
       "Nashville              338\n",
       "Plains                 338\n",
       "Orlando                338\n",
       "Albany                 338\n",
       "Midsouth               338\n",
       "Syracuse               338\n",
       "Pittsburgh             338\n",
       "Northeast              338\n",
       "Sacramento             338\n",
       "Spokane                338\n",
       "West                   338\n",
       "Roanoke                338\n",
       "SanDiego               338\n",
       "Denver                 338\n",
       "Seattle                338\n",
       "Boston                 338\n",
       "RaleighGreensboro      338\n",
       "Boise                  338\n",
       "Chicago                338\n",
       "Columbus               338\n",
       "NewOrleansMobile       338\n",
       "NorthernNewEngland     338\n",
       "GrandRapids            338\n",
       "LasVegas               338\n",
       "Portland               338\n",
       "Louisville             338\n",
       "RichmondNorfolk        338\n",
       "StLouis                338\n",
       "PhoenixTucson          338\n",
       "NewYork                338\n",
       "California             338\n",
       "HartfordSpringfield    338\n",
       "DallasFtWorth          338\n",
       "MiamiFtLauderdale      338\n",
       "Tampa                  338\n",
       "Jacksonville           338\n",
       "CincinnatiDayton       338\n",
       "Detroit                338\n",
       "Southeast              338\n",
       "BaltimoreWashington    338\n",
       "HarrisburgScranton     338\n",
       "Atlanta                338\n",
       "BuffaloRochester       338\n",
       "Philadelphia           338\n",
       "SanFrancisco           338\n",
       "SouthCarolina          338\n",
       "TotalUS                338\n",
       "GreatLakes             338\n",
       "LosAngeles             338\n",
       "Indianapolis           338\n",
       "SouthCentral           338\n",
       "Charlotte              338\n",
       "Houston                338\n",
       "WestTexNewMexico       335\n",
       "Name: region, dtype: int64"
      ]
     },
     "execution_count": 14,
     "metadata": {},
     "output_type": "execute_result"
    }
   ],
   "source": [
    "df['region'].value_counts()"
   ]
  },
  {
   "cell_type": "code",
   "execution_count": 15,
   "id": "4158ac35",
   "metadata": {
    "scrolled": false
   },
   "outputs": [
    {
     "data": {
      "text/html": [
       "<div>\n",
       "<style scoped>\n",
       "    .dataframe tbody tr th:only-of-type {\n",
       "        vertical-align: middle;\n",
       "    }\n",
       "\n",
       "    .dataframe tbody tr th {\n",
       "        vertical-align: top;\n",
       "    }\n",
       "\n",
       "    .dataframe thead th {\n",
       "        text-align: right;\n",
       "    }\n",
       "</style>\n",
       "<table border=\"1\" class=\"dataframe\">\n",
       "  <thead>\n",
       "    <tr style=\"text-align: right;\">\n",
       "      <th></th>\n",
       "      <th>AveragePrice</th>\n",
       "      <th>Total Volume</th>\n",
       "      <th>4046</th>\n",
       "      <th>4225</th>\n",
       "      <th>4770</th>\n",
       "      <th>Total Bags</th>\n",
       "      <th>Small Bags</th>\n",
       "      <th>Large Bags</th>\n",
       "      <th>XLarge Bags</th>\n",
       "      <th>type</th>\n",
       "      <th>year</th>\n",
       "      <th>region</th>\n",
       "      <th>Day</th>\n",
       "      <th>Month</th>\n",
       "      <th>Year</th>\n",
       "    </tr>\n",
       "  </thead>\n",
       "  <tbody>\n",
       "    <tr>\n",
       "      <th>0</th>\n",
       "      <td>1.33</td>\n",
       "      <td>64236.62</td>\n",
       "      <td>1036.74</td>\n",
       "      <td>54454.85</td>\n",
       "      <td>48.16</td>\n",
       "      <td>8696.87</td>\n",
       "      <td>8603.62</td>\n",
       "      <td>93.25</td>\n",
       "      <td>0.0</td>\n",
       "      <td>conventional</td>\n",
       "      <td>2015</td>\n",
       "      <td>Albany</td>\n",
       "      <td>27</td>\n",
       "      <td>12</td>\n",
       "      <td>2015</td>\n",
       "    </tr>\n",
       "    <tr>\n",
       "      <th>1</th>\n",
       "      <td>1.35</td>\n",
       "      <td>54876.98</td>\n",
       "      <td>674.28</td>\n",
       "      <td>44638.81</td>\n",
       "      <td>58.33</td>\n",
       "      <td>9505.56</td>\n",
       "      <td>9408.07</td>\n",
       "      <td>97.49</td>\n",
       "      <td>0.0</td>\n",
       "      <td>conventional</td>\n",
       "      <td>2015</td>\n",
       "      <td>Albany</td>\n",
       "      <td>20</td>\n",
       "      <td>12</td>\n",
       "      <td>2015</td>\n",
       "    </tr>\n",
       "    <tr>\n",
       "      <th>2</th>\n",
       "      <td>0.93</td>\n",
       "      <td>118220.22</td>\n",
       "      <td>794.70</td>\n",
       "      <td>109149.67</td>\n",
       "      <td>130.50</td>\n",
       "      <td>8145.35</td>\n",
       "      <td>8042.21</td>\n",
       "      <td>103.14</td>\n",
       "      <td>0.0</td>\n",
       "      <td>conventional</td>\n",
       "      <td>2015</td>\n",
       "      <td>Albany</td>\n",
       "      <td>13</td>\n",
       "      <td>12</td>\n",
       "      <td>2015</td>\n",
       "    </tr>\n",
       "    <tr>\n",
       "      <th>3</th>\n",
       "      <td>1.08</td>\n",
       "      <td>78992.15</td>\n",
       "      <td>1132.00</td>\n",
       "      <td>71976.41</td>\n",
       "      <td>72.58</td>\n",
       "      <td>5811.16</td>\n",
       "      <td>5677.40</td>\n",
       "      <td>133.76</td>\n",
       "      <td>0.0</td>\n",
       "      <td>conventional</td>\n",
       "      <td>2015</td>\n",
       "      <td>Albany</td>\n",
       "      <td>6</td>\n",
       "      <td>12</td>\n",
       "      <td>2015</td>\n",
       "    </tr>\n",
       "    <tr>\n",
       "      <th>4</th>\n",
       "      <td>1.28</td>\n",
       "      <td>51039.60</td>\n",
       "      <td>941.48</td>\n",
       "      <td>43838.39</td>\n",
       "      <td>75.78</td>\n",
       "      <td>6183.95</td>\n",
       "      <td>5986.26</td>\n",
       "      <td>197.69</td>\n",
       "      <td>0.0</td>\n",
       "      <td>conventional</td>\n",
       "      <td>2015</td>\n",
       "      <td>Albany</td>\n",
       "      <td>29</td>\n",
       "      <td>11</td>\n",
       "      <td>2015</td>\n",
       "    </tr>\n",
       "  </tbody>\n",
       "</table>\n",
       "</div>"
      ],
      "text/plain": [
       "   AveragePrice  Total Volume     4046       4225    4770  Total Bags  \\\n",
       "0          1.33      64236.62  1036.74   54454.85   48.16     8696.87   \n",
       "1          1.35      54876.98   674.28   44638.81   58.33     9505.56   \n",
       "2          0.93     118220.22   794.70  109149.67  130.50     8145.35   \n",
       "3          1.08      78992.15  1132.00   71976.41   72.58     5811.16   \n",
       "4          1.28      51039.60   941.48   43838.39   75.78     6183.95   \n",
       "\n",
       "   Small Bags  Large Bags  XLarge Bags          type  year  region  Day  \\\n",
       "0     8603.62       93.25          0.0  conventional  2015  Albany   27   \n",
       "1     9408.07       97.49          0.0  conventional  2015  Albany   20   \n",
       "2     8042.21      103.14          0.0  conventional  2015  Albany   13   \n",
       "3     5677.40      133.76          0.0  conventional  2015  Albany    6   \n",
       "4     5986.26      197.69          0.0  conventional  2015  Albany   29   \n",
       "\n",
       "   Month  Year  \n",
       "0     12  2015  \n",
       "1     12  2015  \n",
       "2     12  2015  \n",
       "3     12  2015  \n",
       "4     11  2015  "
      ]
     },
     "execution_count": 15,
     "metadata": {},
     "output_type": "execute_result"
    }
   ],
   "source": [
    "df.head()"
   ]
  },
  {
   "cell_type": "code",
   "execution_count": 16,
   "id": "c9cbf0cb",
   "metadata": {},
   "outputs": [
    {
     "data": {
      "text/html": [
       "<div>\n",
       "<style scoped>\n",
       "    .dataframe tbody tr th:only-of-type {\n",
       "        vertical-align: middle;\n",
       "    }\n",
       "\n",
       "    .dataframe tbody tr th {\n",
       "        vertical-align: top;\n",
       "    }\n",
       "\n",
       "    .dataframe thead th {\n",
       "        text-align: right;\n",
       "    }\n",
       "</style>\n",
       "<table border=\"1\" class=\"dataframe\">\n",
       "  <thead>\n",
       "    <tr style=\"text-align: right;\">\n",
       "      <th></th>\n",
       "      <th>AveragePrice</th>\n",
       "      <th>Total Volume</th>\n",
       "      <th>4046</th>\n",
       "      <th>4225</th>\n",
       "      <th>4770</th>\n",
       "      <th>Total Bags</th>\n",
       "      <th>Small Bags</th>\n",
       "      <th>Large Bags</th>\n",
       "      <th>XLarge Bags</th>\n",
       "      <th>type</th>\n",
       "      <th>year</th>\n",
       "      <th>region</th>\n",
       "      <th>day_sale</th>\n",
       "      <th>month_sale</th>\n",
       "      <th>year_sale</th>\n",
       "    </tr>\n",
       "  </thead>\n",
       "  <tbody>\n",
       "    <tr>\n",
       "      <th>0</th>\n",
       "      <td>1.33</td>\n",
       "      <td>64236.62</td>\n",
       "      <td>1036.74</td>\n",
       "      <td>54454.85</td>\n",
       "      <td>48.16</td>\n",
       "      <td>8696.87</td>\n",
       "      <td>8603.62</td>\n",
       "      <td>93.25</td>\n",
       "      <td>0.0</td>\n",
       "      <td>conventional</td>\n",
       "      <td>2015</td>\n",
       "      <td>Albany</td>\n",
       "      <td>27</td>\n",
       "      <td>12</td>\n",
       "      <td>2015</td>\n",
       "    </tr>\n",
       "    <tr>\n",
       "      <th>1</th>\n",
       "      <td>1.35</td>\n",
       "      <td>54876.98</td>\n",
       "      <td>674.28</td>\n",
       "      <td>44638.81</td>\n",
       "      <td>58.33</td>\n",
       "      <td>9505.56</td>\n",
       "      <td>9408.07</td>\n",
       "      <td>97.49</td>\n",
       "      <td>0.0</td>\n",
       "      <td>conventional</td>\n",
       "      <td>2015</td>\n",
       "      <td>Albany</td>\n",
       "      <td>20</td>\n",
       "      <td>12</td>\n",
       "      <td>2015</td>\n",
       "    </tr>\n",
       "    <tr>\n",
       "      <th>2</th>\n",
       "      <td>0.93</td>\n",
       "      <td>118220.22</td>\n",
       "      <td>794.70</td>\n",
       "      <td>109149.67</td>\n",
       "      <td>130.50</td>\n",
       "      <td>8145.35</td>\n",
       "      <td>8042.21</td>\n",
       "      <td>103.14</td>\n",
       "      <td>0.0</td>\n",
       "      <td>conventional</td>\n",
       "      <td>2015</td>\n",
       "      <td>Albany</td>\n",
       "      <td>13</td>\n",
       "      <td>12</td>\n",
       "      <td>2015</td>\n",
       "    </tr>\n",
       "    <tr>\n",
       "      <th>3</th>\n",
       "      <td>1.08</td>\n",
       "      <td>78992.15</td>\n",
       "      <td>1132.00</td>\n",
       "      <td>71976.41</td>\n",
       "      <td>72.58</td>\n",
       "      <td>5811.16</td>\n",
       "      <td>5677.40</td>\n",
       "      <td>133.76</td>\n",
       "      <td>0.0</td>\n",
       "      <td>conventional</td>\n",
       "      <td>2015</td>\n",
       "      <td>Albany</td>\n",
       "      <td>6</td>\n",
       "      <td>12</td>\n",
       "      <td>2015</td>\n",
       "    </tr>\n",
       "    <tr>\n",
       "      <th>4</th>\n",
       "      <td>1.28</td>\n",
       "      <td>51039.60</td>\n",
       "      <td>941.48</td>\n",
       "      <td>43838.39</td>\n",
       "      <td>75.78</td>\n",
       "      <td>6183.95</td>\n",
       "      <td>5986.26</td>\n",
       "      <td>197.69</td>\n",
       "      <td>0.0</td>\n",
       "      <td>conventional</td>\n",
       "      <td>2015</td>\n",
       "      <td>Albany</td>\n",
       "      <td>29</td>\n",
       "      <td>11</td>\n",
       "      <td>2015</td>\n",
       "    </tr>\n",
       "    <tr>\n",
       "      <th>...</th>\n",
       "      <td>...</td>\n",
       "      <td>...</td>\n",
       "      <td>...</td>\n",
       "      <td>...</td>\n",
       "      <td>...</td>\n",
       "      <td>...</td>\n",
       "      <td>...</td>\n",
       "      <td>...</td>\n",
       "      <td>...</td>\n",
       "      <td>...</td>\n",
       "      <td>...</td>\n",
       "      <td>...</td>\n",
       "      <td>...</td>\n",
       "      <td>...</td>\n",
       "      <td>...</td>\n",
       "    </tr>\n",
       "    <tr>\n",
       "      <th>18244</th>\n",
       "      <td>1.63</td>\n",
       "      <td>17074.83</td>\n",
       "      <td>2046.96</td>\n",
       "      <td>1529.20</td>\n",
       "      <td>0.00</td>\n",
       "      <td>13498.67</td>\n",
       "      <td>13066.82</td>\n",
       "      <td>431.85</td>\n",
       "      <td>0.0</td>\n",
       "      <td>organic</td>\n",
       "      <td>2018</td>\n",
       "      <td>WestTexNewMexico</td>\n",
       "      <td>4</td>\n",
       "      <td>2</td>\n",
       "      <td>2018</td>\n",
       "    </tr>\n",
       "    <tr>\n",
       "      <th>18245</th>\n",
       "      <td>1.71</td>\n",
       "      <td>13888.04</td>\n",
       "      <td>1191.70</td>\n",
       "      <td>3431.50</td>\n",
       "      <td>0.00</td>\n",
       "      <td>9264.84</td>\n",
       "      <td>8940.04</td>\n",
       "      <td>324.80</td>\n",
       "      <td>0.0</td>\n",
       "      <td>organic</td>\n",
       "      <td>2018</td>\n",
       "      <td>WestTexNewMexico</td>\n",
       "      <td>28</td>\n",
       "      <td>1</td>\n",
       "      <td>2018</td>\n",
       "    </tr>\n",
       "    <tr>\n",
       "      <th>18246</th>\n",
       "      <td>1.87</td>\n",
       "      <td>13766.76</td>\n",
       "      <td>1191.92</td>\n",
       "      <td>2452.79</td>\n",
       "      <td>727.94</td>\n",
       "      <td>9394.11</td>\n",
       "      <td>9351.80</td>\n",
       "      <td>42.31</td>\n",
       "      <td>0.0</td>\n",
       "      <td>organic</td>\n",
       "      <td>2018</td>\n",
       "      <td>WestTexNewMexico</td>\n",
       "      <td>21</td>\n",
       "      <td>1</td>\n",
       "      <td>2018</td>\n",
       "    </tr>\n",
       "    <tr>\n",
       "      <th>18247</th>\n",
       "      <td>1.93</td>\n",
       "      <td>16205.22</td>\n",
       "      <td>1527.63</td>\n",
       "      <td>2981.04</td>\n",
       "      <td>727.01</td>\n",
       "      <td>10969.54</td>\n",
       "      <td>10919.54</td>\n",
       "      <td>50.00</td>\n",
       "      <td>0.0</td>\n",
       "      <td>organic</td>\n",
       "      <td>2018</td>\n",
       "      <td>WestTexNewMexico</td>\n",
       "      <td>14</td>\n",
       "      <td>1</td>\n",
       "      <td>2018</td>\n",
       "    </tr>\n",
       "    <tr>\n",
       "      <th>18248</th>\n",
       "      <td>1.62</td>\n",
       "      <td>17489.58</td>\n",
       "      <td>2894.77</td>\n",
       "      <td>2356.13</td>\n",
       "      <td>224.53</td>\n",
       "      <td>12014.15</td>\n",
       "      <td>11988.14</td>\n",
       "      <td>26.01</td>\n",
       "      <td>0.0</td>\n",
       "      <td>organic</td>\n",
       "      <td>2018</td>\n",
       "      <td>WestTexNewMexico</td>\n",
       "      <td>7</td>\n",
       "      <td>1</td>\n",
       "      <td>2018</td>\n",
       "    </tr>\n",
       "  </tbody>\n",
       "</table>\n",
       "<p>18249 rows × 15 columns</p>\n",
       "</div>"
      ],
      "text/plain": [
       "       AveragePrice  Total Volume     4046       4225    4770  Total Bags  \\\n",
       "0              1.33      64236.62  1036.74   54454.85   48.16     8696.87   \n",
       "1              1.35      54876.98   674.28   44638.81   58.33     9505.56   \n",
       "2              0.93     118220.22   794.70  109149.67  130.50     8145.35   \n",
       "3              1.08      78992.15  1132.00   71976.41   72.58     5811.16   \n",
       "4              1.28      51039.60   941.48   43838.39   75.78     6183.95   \n",
       "...             ...           ...      ...        ...     ...         ...   \n",
       "18244          1.63      17074.83  2046.96    1529.20    0.00    13498.67   \n",
       "18245          1.71      13888.04  1191.70    3431.50    0.00     9264.84   \n",
       "18246          1.87      13766.76  1191.92    2452.79  727.94     9394.11   \n",
       "18247          1.93      16205.22  1527.63    2981.04  727.01    10969.54   \n",
       "18248          1.62      17489.58  2894.77    2356.13  224.53    12014.15   \n",
       "\n",
       "       Small Bags  Large Bags  XLarge Bags          type  year  \\\n",
       "0         8603.62       93.25          0.0  conventional  2015   \n",
       "1         9408.07       97.49          0.0  conventional  2015   \n",
       "2         8042.21      103.14          0.0  conventional  2015   \n",
       "3         5677.40      133.76          0.0  conventional  2015   \n",
       "4         5986.26      197.69          0.0  conventional  2015   \n",
       "...           ...         ...          ...           ...   ...   \n",
       "18244    13066.82      431.85          0.0       organic  2018   \n",
       "18245     8940.04      324.80          0.0       organic  2018   \n",
       "18246     9351.80       42.31          0.0       organic  2018   \n",
       "18247    10919.54       50.00          0.0       organic  2018   \n",
       "18248    11988.14       26.01          0.0       organic  2018   \n",
       "\n",
       "                 region  day_sale  month_sale  year_sale  \n",
       "0                Albany        27          12       2015  \n",
       "1                Albany        20          12       2015  \n",
       "2                Albany        13          12       2015  \n",
       "3                Albany         6          12       2015  \n",
       "4                Albany        29          11       2015  \n",
       "...                 ...       ...         ...        ...  \n",
       "18244  WestTexNewMexico         4           2       2018  \n",
       "18245  WestTexNewMexico        28           1       2018  \n",
       "18246  WestTexNewMexico        21           1       2018  \n",
       "18247  WestTexNewMexico        14           1       2018  \n",
       "18248  WestTexNewMexico         7           1       2018  \n",
       "\n",
       "[18249 rows x 15 columns]"
      ]
     },
     "execution_count": 16,
     "metadata": {},
     "output_type": "execute_result"
    }
   ],
   "source": [
    "df.rename(columns={'Day':'day_sale','Month':'month_sale','Year':'year_sale'})"
   ]
  },
  {
   "cell_type": "code",
   "execution_count": null,
   "id": "c8c99f00",
   "metadata": {},
   "outputs": [],
   "source": []
  },
  {
   "cell_type": "code",
   "execution_count": 17,
   "id": "d4ca9a8d",
   "metadata": {},
   "outputs": [
    {
     "data": {
      "text/plain": [
       "<AxesSubplot:xlabel='AveragePrice', ylabel='type'>"
      ]
     },
     "execution_count": 17,
     "metadata": {},
     "output_type": "execute_result"
    },
    {
     "data": {
      "image/png": "[encoded data removed]",
      "text/plain": [
       "<Figure size 360x360 with 1 Axes>"
      ]
     },
     "metadata": {},
     "output_type": "display_data"
    }
   ],
   "source": [
    "sns.set(rc={'figure.figsize':(5,5)})\n",
    "sns.boxplot(x='AveragePrice',y='type', data=df)\n"
   ]
  },
  {
   "cell_type": "markdown",
   "id": "a4117e00",
   "metadata": {},
   "source": [
    "From above graph, we can interpret that average price of organic avocado is more than conventional avocado. "
   ]
  },
  {
   "cell_type": "code",
   "execution_count": 18,
   "id": "d32db527",
   "metadata": {},
   "outputs": [
    {
     "data": {
      "text/plain": [
       "<seaborn.axisgrid.PairGrid at 0x21058a39130>"
      ]
     },
     "execution_count": 18,
     "metadata": {},
     "output_type": "execute_result"
    },
    {
     "data": {
      "text/plain": [
       "<Figure size 504x720 with 0 Axes>"
      ]
     },
     "metadata": {},
     "output_type": "display_data"
    },
    {
     "data": {
      "image/png": "[encoded data removed]",
      "text/plain": [
       "<Figure size 540x180 with 3 Axes>"
      ]
     },
     "metadata": {},
     "output_type": "display_data"
    }
   ],
   "source": [
    "plt.figure(figsize=(7,10))\n",
    "sns.pairplot(df, x_vars = ['4046','4225','4770'],y_vars='Total Volume', kind='reg')"
   ]
  },
  {
   "cell_type": "markdown",
   "id": "2c5bca20",
   "metadata": {},
   "source": [
    "From above graph we can see 4046 type of Avocado is more correlated with Total Volume"
   ]
  },
  {
   "cell_type": "code",
   "execution_count": 19,
   "id": "5b5a841f",
   "metadata": {},
   "outputs": [
    {
     "data": {
      "text/plain": [
       "<seaborn.axisgrid.PairGrid at 0x21065c1a220>"
      ]
     },
     "execution_count": 19,
     "metadata": {},
     "output_type": "execute_result"
    },
    {
     "data": {
      "image/png": "[encoded data removed]",
      "text/plain": [
       "<Figure size 540x180 with 3 Axes>"
      ]
     },
     "metadata": {},
     "output_type": "display_data"
    }
   ],
   "source": [
    "sns.pairplot(df, x_vars = ['Small Bags','Large Bags','XLarge Bags'],y_vars='Total Bags', kind='reg')"
   ]
  },
  {
   "cell_type": "markdown",
   "id": "7a551cd1",
   "metadata": {},
   "source": [
    "From above graph we can see SMall Bags column is more correlated with Total Bags"
   ]
  },
  {
   "cell_type": "code",
   "execution_count": 20,
   "id": "cb871394",
   "metadata": {},
   "outputs": [
    {
     "data": {
      "text/plain": [
       "<AxesSubplot:xlabel='AveragePrice', ylabel='region'>"
      ]
     },
     "execution_count": 20,
     "metadata": {},
     "output_type": "execute_result"
    },
    {
     "data": {
      "image/png": "[encoded data removed]",
      "text/plain": [
       "<Figure size 720x2160 with 1 Axes>"
      ]
     },
     "metadata": {},
     "output_type": "display_data"
    }
   ],
   "source": [
    "plt.figure(figsize=(10,30))\n",
    "sns.barplot(x='AveragePrice',y='region',data=df,hue='year')"
   ]
  },
  {
   "cell_type": "markdown",
   "id": "86763011",
   "metadata": {},
   "source": [
    "From above graph, we can say that maximum Avocados were sold in the year 2017 in HartfordSpringfield and SanFransisco."
   ]
  },
  {
   "cell_type": "code",
   "execution_count": 21,
   "id": "fd397697",
   "metadata": {},
   "outputs": [
    {
     "data": {
      "text/plain": [
       "<AxesSubplot:xlabel='AveragePrice', ylabel='region'>"
      ]
     },
     "execution_count": 21,
     "metadata": {},
     "output_type": "execute_result"
    },
    {
     "data": {
      "image/png": "[encoded data removed]",
      "text/plain": [
       "<Figure size 720x1440 with 1 Axes>"
      ]
     },
     "metadata": {},
     "output_type": "display_data"
    }
   ],
   "source": [
    "plt.figure(figsize=(10,20))\n",
    "sns.barplot(x='AveragePrice',y='region',data=df,hue='type')"
   ]
  },
  {
   "cell_type": "markdown",
   "id": "126bc966",
   "metadata": {},
   "source": [
    "From above graph, we can say that Oraganic avocados are sold more than Conventional avocados in general. Also, HartfordSpringfield and SanFransisco are two places where the highest no. of sales is observed. "
   ]
  },
  {
   "cell_type": "code",
   "execution_count": 22,
   "id": "a3899771",
   "metadata": {},
   "outputs": [
    {
     "data": {
      "text/html": [
       "<div>\n",
       "<style scoped>\n",
       "    .dataframe tbody tr th:only-of-type {\n",
       "        vertical-align: middle;\n",
       "    }\n",
       "\n",
       "    .dataframe tbody tr th {\n",
       "        vertical-align: top;\n",
       "    }\n",
       "\n",
       "    .dataframe thead th {\n",
       "        text-align: right;\n",
       "    }\n",
       "</style>\n",
       "<table border=\"1\" class=\"dataframe\">\n",
       "  <thead>\n",
       "    <tr style=\"text-align: right;\">\n",
       "      <th></th>\n",
       "      <th>AveragePrice</th>\n",
       "      <th>Total Volume</th>\n",
       "      <th>4046</th>\n",
       "      <th>4225</th>\n",
       "      <th>4770</th>\n",
       "      <th>Total Bags</th>\n",
       "      <th>Small Bags</th>\n",
       "      <th>Large Bags</th>\n",
       "      <th>XLarge Bags</th>\n",
       "      <th>type</th>\n",
       "      <th>year</th>\n",
       "      <th>region</th>\n",
       "      <th>Day</th>\n",
       "      <th>Month</th>\n",
       "      <th>Year</th>\n",
       "    </tr>\n",
       "  </thead>\n",
       "  <tbody>\n",
       "    <tr>\n",
       "      <th>0</th>\n",
       "      <td>1.33</td>\n",
       "      <td>64236.62</td>\n",
       "      <td>1036.74</td>\n",
       "      <td>54454.85</td>\n",
       "      <td>48.16</td>\n",
       "      <td>8696.87</td>\n",
       "      <td>8603.62</td>\n",
       "      <td>93.25</td>\n",
       "      <td>0.0</td>\n",
       "      <td>conventional</td>\n",
       "      <td>2015</td>\n",
       "      <td>Albany</td>\n",
       "      <td>27</td>\n",
       "      <td>12</td>\n",
       "      <td>2015</td>\n",
       "    </tr>\n",
       "    <tr>\n",
       "      <th>1</th>\n",
       "      <td>1.35</td>\n",
       "      <td>54876.98</td>\n",
       "      <td>674.28</td>\n",
       "      <td>44638.81</td>\n",
       "      <td>58.33</td>\n",
       "      <td>9505.56</td>\n",
       "      <td>9408.07</td>\n",
       "      <td>97.49</td>\n",
       "      <td>0.0</td>\n",
       "      <td>conventional</td>\n",
       "      <td>2015</td>\n",
       "      <td>Albany</td>\n",
       "      <td>20</td>\n",
       "      <td>12</td>\n",
       "      <td>2015</td>\n",
       "    </tr>\n",
       "    <tr>\n",
       "      <th>2</th>\n",
       "      <td>0.93</td>\n",
       "      <td>118220.22</td>\n",
       "      <td>794.70</td>\n",
       "      <td>109149.67</td>\n",
       "      <td>130.50</td>\n",
       "      <td>8145.35</td>\n",
       "      <td>8042.21</td>\n",
       "      <td>103.14</td>\n",
       "      <td>0.0</td>\n",
       "      <td>conventional</td>\n",
       "      <td>2015</td>\n",
       "      <td>Albany</td>\n",
       "      <td>13</td>\n",
       "      <td>12</td>\n",
       "      <td>2015</td>\n",
       "    </tr>\n",
       "    <tr>\n",
       "      <th>3</th>\n",
       "      <td>1.08</td>\n",
       "      <td>78992.15</td>\n",
       "      <td>1132.00</td>\n",
       "      <td>71976.41</td>\n",
       "      <td>72.58</td>\n",
       "      <td>5811.16</td>\n",
       "      <td>5677.40</td>\n",
       "      <td>133.76</td>\n",
       "      <td>0.0</td>\n",
       "      <td>conventional</td>\n",
       "      <td>2015</td>\n",
       "      <td>Albany</td>\n",
       "      <td>6</td>\n",
       "      <td>12</td>\n",
       "      <td>2015</td>\n",
       "    </tr>\n",
       "    <tr>\n",
       "      <th>4</th>\n",
       "      <td>1.28</td>\n",
       "      <td>51039.60</td>\n",
       "      <td>941.48</td>\n",
       "      <td>43838.39</td>\n",
       "      <td>75.78</td>\n",
       "      <td>6183.95</td>\n",
       "      <td>5986.26</td>\n",
       "      <td>197.69</td>\n",
       "      <td>0.0</td>\n",
       "      <td>conventional</td>\n",
       "      <td>2015</td>\n",
       "      <td>Albany</td>\n",
       "      <td>29</td>\n",
       "      <td>11</td>\n",
       "      <td>2015</td>\n",
       "    </tr>\n",
       "  </tbody>\n",
       "</table>\n",
       "</div>"
      ],
      "text/plain": [
       "   AveragePrice  Total Volume     4046       4225    4770  Total Bags  \\\n",
       "0          1.33      64236.62  1036.74   54454.85   48.16     8696.87   \n",
       "1          1.35      54876.98   674.28   44638.81   58.33     9505.56   \n",
       "2          0.93     118220.22   794.70  109149.67  130.50     8145.35   \n",
       "3          1.08      78992.15  1132.00   71976.41   72.58     5811.16   \n",
       "4          1.28      51039.60   941.48   43838.39   75.78     6183.95   \n",
       "\n",
       "   Small Bags  Large Bags  XLarge Bags          type  year  region  Day  \\\n",
       "0     8603.62       93.25          0.0  conventional  2015  Albany   27   \n",
       "1     9408.07       97.49          0.0  conventional  2015  Albany   20   \n",
       "2     8042.21      103.14          0.0  conventional  2015  Albany   13   \n",
       "3     5677.40      133.76          0.0  conventional  2015  Albany    6   \n",
       "4     5986.26      197.69          0.0  conventional  2015  Albany   29   \n",
       "\n",
       "   Month  Year  \n",
       "0     12  2015  \n",
       "1     12  2015  \n",
       "2     12  2015  \n",
       "3     12  2015  \n",
       "4     11  2015  "
      ]
     },
     "execution_count": 22,
     "metadata": {},
     "output_type": "execute_result"
    }
   ],
   "source": [
    "df.head()"
   ]
  },
  {
   "cell_type": "code",
   "execution_count": 23,
   "id": "4debdedc",
   "metadata": {},
   "outputs": [
    {
     "name": "stdout",
     "output_type": "stream",
     "text": [
      "['conventional' 'organic']\n",
      "['Albany' 'Atlanta' 'BaltimoreWashington' 'Boise' 'Boston'\n",
      " 'BuffaloRochester' 'California' 'Charlotte' 'Chicago' 'CincinnatiDayton'\n",
      " 'Columbus' 'DallasFtWorth' 'Denver' 'Detroit' 'GrandRapids' 'GreatLakes'\n",
      " 'HarrisburgScranton' 'HartfordSpringfield' 'Houston' 'Indianapolis'\n",
      " 'Jacksonville' 'LasVegas' 'LosAngeles' 'Louisville' 'MiamiFtLauderdale'\n",
      " 'Midsouth' 'Nashville' 'NewOrleansMobile' 'NewYork' 'Northeast'\n",
      " 'NorthernNewEngland' 'Orlando' 'Philadelphia' 'PhoenixTucson'\n",
      " 'Pittsburgh' 'Plains' 'Portland' 'RaleighGreensboro' 'RichmondNorfolk'\n",
      " 'Roanoke' 'Sacramento' 'SanDiego' 'SanFrancisco' 'Seattle'\n",
      " 'SouthCarolina' 'SouthCentral' 'Southeast' 'Spokane' 'StLouis' 'Syracuse'\n",
      " 'Tampa' 'TotalUS' 'West' 'WestTexNewMexico']\n"
     ]
    }
   ],
   "source": [
    "print(df['type'].unique())\n",
    "print(df['region'].unique())"
   ]
  },
  {
   "cell_type": "code",
   "execution_count": 24,
   "id": "94da6c89",
   "metadata": {},
   "outputs": [],
   "source": [
    "#converting type column into numberical value\n",
    "df['type'] = df['type'].replace(['conventional','organic'],(0,1))"
   ]
  },
  {
   "cell_type": "code",
   "execution_count": 25,
   "id": "5b63d41f",
   "metadata": {
    "scrolled": true
   },
   "outputs": [
    {
     "data": {
      "text/plain": [
       "0        0\n",
       "1        0\n",
       "2        0\n",
       "3        0\n",
       "4        0\n",
       "        ..\n",
       "18244    1\n",
       "18245    1\n",
       "18246    1\n",
       "18247    1\n",
       "18248    1\n",
       "Name: type, Length: 18249, dtype: int64"
      ]
     },
     "execution_count": 25,
     "metadata": {},
     "output_type": "execute_result"
    }
   ],
   "source": [
    "df['type']"
   ]
  },
  {
   "cell_type": "code",
   "execution_count": 26,
   "id": "7eefb023",
   "metadata": {},
   "outputs": [],
   "source": [
    "from sklearn.preprocessing import LabelEncoder"
   ]
  },
  {
   "cell_type": "code",
   "execution_count": 27,
   "id": "d3f09cc9",
   "metadata": {},
   "outputs": [],
   "source": [
    "le = LabelEncoder()"
   ]
  },
  {
   "cell_type": "code",
   "execution_count": 28,
   "id": "cb0550e7",
   "metadata": {},
   "outputs": [],
   "source": [
    "df['region']= le.fit_transform(df['region'])"
   ]
  },
  {
   "cell_type": "code",
   "execution_count": 29,
   "id": "b03bf719",
   "metadata": {},
   "outputs": [
    {
     "name": "stdout",
     "output_type": "stream",
     "text": [
      "<class 'pandas.core.frame.DataFrame'>\n",
      "RangeIndex: 18249 entries, 0 to 18248\n",
      "Data columns (total 15 columns):\n",
      " #   Column        Non-Null Count  Dtype  \n",
      "---  ------        --------------  -----  \n",
      " 0   AveragePrice  18249 non-null  float64\n",
      " 1   Total Volume  18249 non-null  float64\n",
      " 2   4046          18249 non-null  float64\n",
      " 3   4225          18249 non-null  float64\n",
      " 4   4770          18249 non-null  float64\n",
      " 5   Total Bags    18249 non-null  float64\n",
      " 6   Small Bags    18249 non-null  float64\n",
      " 7   Large Bags    18249 non-null  float64\n",
      " 8   XLarge Bags   18249 non-null  float64\n",
      " 9   type          18249 non-null  int64  \n",
      " 10  year          18249 non-null  int64  \n",
      " 11  region        18249 non-null  int32  \n",
      " 12  Day           18249 non-null  int64  \n",
      " 13  Month         18249 non-null  int64  \n",
      " 14  Year          18249 non-null  int64  \n",
      "dtypes: float64(9), int32(1), int64(5)\n",
      "memory usage: 2.0 MB\n"
     ]
    }
   ],
   "source": [
    "df.info()"
   ]
  },
  {
   "cell_type": "code",
   "execution_count": 30,
   "id": "58180e26",
   "metadata": {
    "scrolled": true
   },
   "outputs": [
    {
     "data": {
      "text/plain": [
       "Index(['AveragePrice', 'Total Volume', '4046', '4225', '4770', 'Total Bags',\n",
       "       'Small Bags', 'Large Bags', 'XLarge Bags', 'type', 'year', 'region',\n",
       "       'Day', 'Month', 'Year'],\n",
       "      dtype='object')"
      ]
     },
     "execution_count": 30,
     "metadata": {},
     "output_type": "execute_result"
    }
   ],
   "source": [
    "df.columns"
   ]
  },
  {
   "cell_type": "markdown",
   "id": "1ea2e7ce",
   "metadata": {},
   "source": [
    "# PART 1: CLASSIFICATION PROBLEM"
   ]
  },
  {
   "cell_type": "code",
   "execution_count": 31,
   "id": "f2580732",
   "metadata": {},
   "outputs": [],
   "source": [
    "#separating feature columns and target column in x and y\n",
    "\n",
    "x=df.drop('type',axis=1)\n",
    "y=df['type']\n"
   ]
  },
  {
   "cell_type": "code",
   "execution_count": 32,
   "id": "ee5ee4ae",
   "metadata": {},
   "outputs": [
    {
     "data": {
      "text/html": [
       "<div>\n",
       "<style scoped>\n",
       "    .dataframe tbody tr th:only-of-type {\n",
       "        vertical-align: middle;\n",
       "    }\n",
       "\n",
       "    .dataframe tbody tr th {\n",
       "        vertical-align: top;\n",
       "    }\n",
       "\n",
       "    .dataframe thead th {\n",
       "        text-align: right;\n",
       "    }\n",
       "</style>\n",
       "<table border=\"1\" class=\"dataframe\">\n",
       "  <thead>\n",
       "    <tr style=\"text-align: right;\">\n",
       "      <th></th>\n",
       "      <th>AveragePrice</th>\n",
       "      <th>Total Volume</th>\n",
       "      <th>4046</th>\n",
       "      <th>4225</th>\n",
       "      <th>4770</th>\n",
       "      <th>Total Bags</th>\n",
       "      <th>Small Bags</th>\n",
       "      <th>Large Bags</th>\n",
       "      <th>XLarge Bags</th>\n",
       "      <th>year</th>\n",
       "      <th>region</th>\n",
       "      <th>Day</th>\n",
       "      <th>Month</th>\n",
       "      <th>Year</th>\n",
       "    </tr>\n",
       "  </thead>\n",
       "  <tbody>\n",
       "    <tr>\n",
       "      <th>0</th>\n",
       "      <td>1.33</td>\n",
       "      <td>64236.62</td>\n",
       "      <td>1036.74</td>\n",
       "      <td>54454.85</td>\n",
       "      <td>48.16</td>\n",
       "      <td>8696.87</td>\n",
       "      <td>8603.62</td>\n",
       "      <td>93.25</td>\n",
       "      <td>0.0</td>\n",
       "      <td>2015</td>\n",
       "      <td>0</td>\n",
       "      <td>27</td>\n",
       "      <td>12</td>\n",
       "      <td>2015</td>\n",
       "    </tr>\n",
       "    <tr>\n",
       "      <th>1</th>\n",
       "      <td>1.35</td>\n",
       "      <td>54876.98</td>\n",
       "      <td>674.28</td>\n",
       "      <td>44638.81</td>\n",
       "      <td>58.33</td>\n",
       "      <td>9505.56</td>\n",
       "      <td>9408.07</td>\n",
       "      <td>97.49</td>\n",
       "      <td>0.0</td>\n",
       "      <td>2015</td>\n",
       "      <td>0</td>\n",
       "      <td>20</td>\n",
       "      <td>12</td>\n",
       "      <td>2015</td>\n",
       "    </tr>\n",
       "    <tr>\n",
       "      <th>2</th>\n",
       "      <td>0.93</td>\n",
       "      <td>118220.22</td>\n",
       "      <td>794.70</td>\n",
       "      <td>109149.67</td>\n",
       "      <td>130.50</td>\n",
       "      <td>8145.35</td>\n",
       "      <td>8042.21</td>\n",
       "      <td>103.14</td>\n",
       "      <td>0.0</td>\n",
       "      <td>2015</td>\n",
       "      <td>0</td>\n",
       "      <td>13</td>\n",
       "      <td>12</td>\n",
       "      <td>2015</td>\n",
       "    </tr>\n",
       "    <tr>\n",
       "      <th>3</th>\n",
       "      <td>1.08</td>\n",
       "      <td>78992.15</td>\n",
       "      <td>1132.00</td>\n",
       "      <td>71976.41</td>\n",
       "      <td>72.58</td>\n",
       "      <td>5811.16</td>\n",
       "      <td>5677.40</td>\n",
       "      <td>133.76</td>\n",
       "      <td>0.0</td>\n",
       "      <td>2015</td>\n",
       "      <td>0</td>\n",
       "      <td>6</td>\n",
       "      <td>12</td>\n",
       "      <td>2015</td>\n",
       "    </tr>\n",
       "    <tr>\n",
       "      <th>4</th>\n",
       "      <td>1.28</td>\n",
       "      <td>51039.60</td>\n",
       "      <td>941.48</td>\n",
       "      <td>43838.39</td>\n",
       "      <td>75.78</td>\n",
       "      <td>6183.95</td>\n",
       "      <td>5986.26</td>\n",
       "      <td>197.69</td>\n",
       "      <td>0.0</td>\n",
       "      <td>2015</td>\n",
       "      <td>0</td>\n",
       "      <td>29</td>\n",
       "      <td>11</td>\n",
       "      <td>2015</td>\n",
       "    </tr>\n",
       "    <tr>\n",
       "      <th>...</th>\n",
       "      <td>...</td>\n",
       "      <td>...</td>\n",
       "      <td>...</td>\n",
       "      <td>...</td>\n",
       "      <td>...</td>\n",
       "      <td>...</td>\n",
       "      <td>...</td>\n",
       "      <td>...</td>\n",
       "      <td>...</td>\n",
       "      <td>...</td>\n",
       "      <td>...</td>\n",
       "      <td>...</td>\n",
       "      <td>...</td>\n",
       "      <td>...</td>\n",
       "    </tr>\n",
       "    <tr>\n",
       "      <th>18244</th>\n",
       "      <td>1.63</td>\n",
       "      <td>17074.83</td>\n",
       "      <td>2046.96</td>\n",
       "      <td>1529.20</td>\n",
       "      <td>0.00</td>\n",
       "      <td>13498.67</td>\n",
       "      <td>13066.82</td>\n",
       "      <td>431.85</td>\n",
       "      <td>0.0</td>\n",
       "      <td>2018</td>\n",
       "      <td>53</td>\n",
       "      <td>4</td>\n",
       "      <td>2</td>\n",
       "      <td>2018</td>\n",
       "    </tr>\n",
       "    <tr>\n",
       "      <th>18245</th>\n",
       "      <td>1.71</td>\n",
       "      <td>13888.04</td>\n",
       "      <td>1191.70</td>\n",
       "      <td>3431.50</td>\n",
       "      <td>0.00</td>\n",
       "      <td>9264.84</td>\n",
       "      <td>8940.04</td>\n",
       "      <td>324.80</td>\n",
       "      <td>0.0</td>\n",
       "      <td>2018</td>\n",
       "      <td>53</td>\n",
       "      <td>28</td>\n",
       "      <td>1</td>\n",
       "      <td>2018</td>\n",
       "    </tr>\n",
       "    <tr>\n",
       "      <th>18246</th>\n",
       "      <td>1.87</td>\n",
       "      <td>13766.76</td>\n",
       "      <td>1191.92</td>\n",
       "      <td>2452.79</td>\n",
       "      <td>727.94</td>\n",
       "      <td>9394.11</td>\n",
       "      <td>9351.80</td>\n",
       "      <td>42.31</td>\n",
       "      <td>0.0</td>\n",
       "      <td>2018</td>\n",
       "      <td>53</td>\n",
       "      <td>21</td>\n",
       "      <td>1</td>\n",
       "      <td>2018</td>\n",
       "    </tr>\n",
       "    <tr>\n",
       "      <th>18247</th>\n",
       "      <td>1.93</td>\n",
       "      <td>16205.22</td>\n",
       "      <td>1527.63</td>\n",
       "      <td>2981.04</td>\n",
       "      <td>727.01</td>\n",
       "      <td>10969.54</td>\n",
       "      <td>10919.54</td>\n",
       "      <td>50.00</td>\n",
       "      <td>0.0</td>\n",
       "      <td>2018</td>\n",
       "      <td>53</td>\n",
       "      <td>14</td>\n",
       "      <td>1</td>\n",
       "      <td>2018</td>\n",
       "    </tr>\n",
       "    <tr>\n",
       "      <th>18248</th>\n",
       "      <td>1.62</td>\n",
       "      <td>17489.58</td>\n",
       "      <td>2894.77</td>\n",
       "      <td>2356.13</td>\n",
       "      <td>224.53</td>\n",
       "      <td>12014.15</td>\n",
       "      <td>11988.14</td>\n",
       "      <td>26.01</td>\n",
       "      <td>0.0</td>\n",
       "      <td>2018</td>\n",
       "      <td>53</td>\n",
       "      <td>7</td>\n",
       "      <td>1</td>\n",
       "      <td>2018</td>\n",
       "    </tr>\n",
       "  </tbody>\n",
       "</table>\n",
       "<p>18249 rows × 14 columns</p>\n",
       "</div>"
      ],
      "text/plain": [
       "       AveragePrice  Total Volume     4046       4225    4770  Total Bags  \\\n",
       "0              1.33      64236.62  1036.74   54454.85   48.16     8696.87   \n",
       "1              1.35      54876.98   674.28   44638.81   58.33     9505.56   \n",
       "2              0.93     118220.22   794.70  109149.67  130.50     8145.35   \n",
       "3              1.08      78992.15  1132.00   71976.41   72.58     5811.16   \n",
       "4              1.28      51039.60   941.48   43838.39   75.78     6183.95   \n",
       "...             ...           ...      ...        ...     ...         ...   \n",
       "18244          1.63      17074.83  2046.96    1529.20    0.00    13498.67   \n",
       "18245          1.71      13888.04  1191.70    3431.50    0.00     9264.84   \n",
       "18246          1.87      13766.76  1191.92    2452.79  727.94     9394.11   \n",
       "18247          1.93      16205.22  1527.63    2981.04  727.01    10969.54   \n",
       "18248          1.62      17489.58  2894.77    2356.13  224.53    12014.15   \n",
       "\n",
       "       Small Bags  Large Bags  XLarge Bags  year  region  Day  Month  Year  \n",
       "0         8603.62       93.25          0.0  2015       0   27     12  2015  \n",
       "1         9408.07       97.49          0.0  2015       0   20     12  2015  \n",
       "2         8042.21      103.14          0.0  2015       0   13     12  2015  \n",
       "3         5677.40      133.76          0.0  2015       0    6     12  2015  \n",
       "4         5986.26      197.69          0.0  2015       0   29     11  2015  \n",
       "...           ...         ...          ...   ...     ...  ...    ...   ...  \n",
       "18244    13066.82      431.85          0.0  2018      53    4      2  2018  \n",
       "18245     8940.04      324.80          0.0  2018      53   28      1  2018  \n",
       "18246     9351.80       42.31          0.0  2018      53   21      1  2018  \n",
       "18247    10919.54       50.00          0.0  2018      53   14      1  2018  \n",
       "18248    11988.14       26.01          0.0  2018      53    7      1  2018  \n",
       "\n",
       "[18249 rows x 14 columns]"
      ]
     },
     "execution_count": 32,
     "metadata": {},
     "output_type": "execute_result"
    }
   ],
   "source": [
    "x"
   ]
  },
  {
   "cell_type": "code",
   "execution_count": 33,
   "id": "1266c2df",
   "metadata": {},
   "outputs": [
    {
     "data": {
      "text/plain": [
       "0        0\n",
       "1        0\n",
       "2        0\n",
       "3        0\n",
       "4        0\n",
       "        ..\n",
       "18244    1\n",
       "18245    1\n",
       "18246    1\n",
       "18247    1\n",
       "18248    1\n",
       "Name: type, Length: 18249, dtype: int64"
      ]
     },
     "execution_count": 33,
     "metadata": {},
     "output_type": "execute_result"
    }
   ],
   "source": [
    "y"
   ]
  },
  {
   "cell_type": "markdown",
   "id": "fd07e8cf",
   "metadata": {},
   "source": [
    "Scaling the data"
   ]
  },
  {
   "cell_type": "code",
   "execution_count": 34,
   "id": "8d682054",
   "metadata": {},
   "outputs": [],
   "source": [
    "from sklearn.preprocessing import MinMaxScaler\n",
    "scaler = MinMaxScaler()"
   ]
  },
  {
   "cell_type": "code",
   "execution_count": 35,
   "id": "6bf162bd",
   "metadata": {},
   "outputs": [],
   "source": [
    "x = scaler.fit_transform(x)"
   ]
  },
  {
   "cell_type": "markdown",
   "id": "c5565666",
   "metadata": {},
   "source": [
    "Finding best random state before applying ML models"
   ]
  },
  {
   "cell_type": "code",
   "execution_count": 36,
   "id": "a15fb047",
   "metadata": {},
   "outputs": [],
   "source": [
    "#!pip install xgboost"
   ]
  },
  {
   "cell_type": "code",
   "execution_count": 63,
   "id": "c5c9ce67",
   "metadata": {},
   "outputs": [],
   "source": [
    "from sklearn.model_selection import train_test_split\n",
    "from sklearn.linear_model import LogisticRegression\n",
    "from sklearn.ensemble import RandomForestClassifier\n",
    "from sklearn.tree import DecisionTreeClassifier\n",
    "from xgboost import XGBClassifier\n",
    "from sklearn.metrics import accuracy_score\n",
    "\n",
    "lr=LogisticRegression()\n",
    "rfc=RandomForestClassifier()\n",
    "dtc = DecisionTreeClassifier()\n",
    "xgb = XGBClassifier(eval_metric='logloss')"
   ]
  },
  {
   "cell_type": "code",
   "execution_count": 38,
   "id": "2788bd25",
   "metadata": {},
   "outputs": [],
   "source": [
    "from sklearn.metrics import accuracy_score"
   ]
  },
  {
   "cell_type": "code",
   "execution_count": 40,
   "id": "591e33bb",
   "metadata": {},
   "outputs": [
    {
     "name": "stdout",
     "output_type": "stream",
     "text": [
      "Accuracy score of Logistic regression at random state 0  is:  0.8352511415525115\n",
      "Accuracy score of Logistic regression at random state 1  is:  0.8314155251141553\n",
      "Accuracy score of Logistic regression at random state 2  is:  0.8334246575342465\n",
      "Accuracy score of Logistic regression at random state 3  is:  0.8372602739726027\n",
      "Accuracy score of Logistic regression at random state 4  is:  0.8308675799086758\n",
      "Accuracy score of Logistic regression at random state 5  is:  0.8376255707762557\n",
      "Accuracy score of Logistic regression at random state 6  is:  0.8454794520547945\n",
      "Accuracy score of Logistic regression at random state 7  is:  0.8367123287671233\n",
      "Accuracy score of Logistic regression at random state 8  is:  0.8367123287671233\n",
      "Accuracy score of Logistic regression at random state 9  is:  0.8253881278538813\n",
      "Accuracy score of Logistic regression at random state 10  is:  0.8376255707762557\n",
      "Accuracy score of Logistic regression at random state 11  is:  0.8308675799086758\n",
      "Accuracy score of Logistic regression at random state 12  is:  0.8458447488584475\n",
      "Accuracy score of Logistic regression at random state 13  is:  0.8261187214611873\n",
      "Accuracy score of Logistic regression at random state 14  is:  0.8376255707762557\n",
      "Accuracy score of Logistic regression at random state 15  is:  0.8328767123287671\n",
      "Accuracy score of Logistic regression at random state 16  is:  0.8370776255707763\n",
      "Accuracy score of Logistic regression at random state 17  is:  0.8368949771689498\n",
      "Accuracy score of Logistic regression at random state 18  is:  0.8363470319634703\n",
      "Accuracy score of Logistic regression at random state 19  is:  0.8379908675799087\n",
      "Accuracy score of Logistic regression at random state 20  is:  0.8429223744292238\n",
      "Accuracy score of Logistic regression at random state 21  is:  0.8321461187214612\n",
      "Accuracy score of Logistic regression at random state 22  is:  0.8416438356164384\n",
      "Accuracy score of Logistic regression at random state 23  is:  0.8325114155251142\n",
      "Accuracy score of Logistic regression at random state 24  is:  0.8292237442922374\n",
      "Accuracy score of Logistic regression at random state 25  is:  0.8350684931506849\n",
      "Accuracy score of Logistic regression at random state 26  is:  0.840365296803653\n",
      "Accuracy score of Logistic regression at random state 27  is:  0.839634703196347\n",
      "Accuracy score of Logistic regression at random state 28  is:  0.8416438356164384\n",
      "Accuracy score of Logistic regression at random state 29  is:  0.839634703196347\n",
      "Accuracy score of Logistic regression at random state 30  is:  0.8361643835616438\n",
      "Accuracy score of Logistic regression at random state 31  is:  0.8310502283105022\n",
      "Accuracy score of Logistic regression at random state 32  is:  0.8306849315068493\n",
      "Accuracy score of Logistic regression at random state 33  is:  0.8357990867579909\n",
      "Accuracy score of Logistic regression at random state 34  is:  0.8319634703196347\n",
      "Accuracy score of Logistic regression at random state 35  is:  0.8374429223744292\n",
      "Accuracy score of Logistic regression at random state 36  is:  0.8325114155251142\n",
      "Accuracy score of Logistic regression at random state 37  is:  0.8305022831050228\n",
      "Accuracy score of Logistic regression at random state 38  is:  0.8421917808219178\n",
      "Accuracy score of Logistic regression at random state 39  is:  0.8410958904109589\n",
      "Accuracy score of Logistic regression at random state 40  is:  0.8259360730593607\n",
      "Accuracy score of Logistic regression at random state 41  is:  0.8425570776255707\n",
      "Accuracy score of Logistic regression at random state 42  is:  0.8303196347031964\n",
      "Accuracy score of Logistic regression at random state 43  is:  0.8385388127853881\n",
      "Accuracy score of Logistic regression at random state 44  is:  0.8319634703196347\n",
      "Accuracy score of Logistic regression at random state 45  is:  0.827945205479452\n",
      "Accuracy score of Logistic regression at random state 46  is:  0.834337899543379\n",
      "Accuracy score of Logistic regression at random state 47  is:  0.8292237442922374\n",
      "Accuracy score of Logistic regression at random state 48  is:  0.8363470319634703\n",
      "Accuracy score of Logistic regression at random state 49  is:  0.8405479452054795\n",
      "Accuracy score of Logistic regression at random state 50  is:  0.8372602739726027\n",
      "Accuracy score of Logistic regression at random state 51  is:  0.8381735159817352\n",
      "Accuracy score of Logistic regression at random state 52  is:  0.8352511415525115\n",
      "Accuracy score of Logistic regression at random state 53  is:  0.8378082191780822\n",
      "Accuracy score of Logistic regression at random state 54  is:  0.8367123287671233\n",
      "Accuracy score of Logistic regression at random state 55  is:  0.8370776255707763\n",
      "Accuracy score of Logistic regression at random state 56  is:  0.840730593607306\n",
      "Accuracy score of Logistic regression at random state 57  is:  0.8314155251141553\n",
      "Accuracy score of Logistic regression at random state 58  is:  0.8379908675799087\n",
      "Accuracy score of Logistic regression at random state 59  is:  0.8365296803652968\n",
      "Accuracy score of Logistic regression at random state 60  is:  0.8339726027397261\n",
      "Accuracy score of Logistic regression at random state 61  is:  0.8337899543378996\n",
      "Accuracy score of Logistic regression at random state 62  is:  0.8387214611872146\n",
      "Accuracy score of Logistic regression at random state 63  is:  0.8405479452054795\n",
      "Accuracy score of Logistic regression at random state 64  is:  0.8363470319634703\n",
      "Accuracy score of Logistic regression at random state 65  is:  0.8325114155251142\n",
      "Accuracy score of Logistic regression at random state 66  is:  0.8416438356164384\n",
      "Accuracy score of Logistic regression at random state 67  is:  0.8297716894977168\n",
      "Accuracy score of Logistic regression at random state 68  is:  0.8350684931506849\n",
      "Accuracy score of Logistic regression at random state 69  is:  0.8367123287671233\n",
      "Accuracy score of Logistic regression at random state 70  is:  0.8357990867579909\n",
      "Accuracy score of Logistic regression at random state 71  is:  0.8357990867579909\n",
      "Accuracy score of Logistic regression at random state 72  is:  0.8259360730593607\n",
      "Accuracy score of Logistic regression at random state 73  is:  0.8356164383561644\n",
      "Accuracy score of Logistic regression at random state 74  is:  0.8323287671232876\n",
      "Accuracy score of Logistic regression at random state 75  is:  0.8275799086757991\n",
      "Accuracy score of Logistic regression at random state 76  is:  0.8418264840182649\n",
      "Accuracy score of Logistic regression at random state 77  is:  0.8378082191780822\n",
      "Accuracy score of Logistic regression at random state 78  is:  0.8361643835616438\n",
      "Accuracy score of Logistic regression at random state 79  is:  0.8416438356164384\n",
      "Accuracy score of Logistic regression at random state 80  is:  0.8334246575342465\n",
      "Accuracy score of Logistic regression at random state 81  is:  0.8308675799086758\n",
      "Accuracy score of Logistic regression at random state 82  is:  0.8385388127853881\n",
      "Accuracy score of Logistic regression at random state 83  is:  0.8294063926940639\n",
      "Accuracy score of Logistic regression at random state 84  is:  0.8314155251141553\n",
      "Accuracy score of Logistic regression at random state 85  is:  0.839634703196347\n",
      "Accuracy score of Logistic regression at random state 86  is:  0.834337899543379\n",
      "Accuracy score of Logistic regression at random state 87  is:  0.8339726027397261\n",
      "Accuracy score of Logistic regression at random state 88  is:  0.8429223744292238\n",
      "Accuracy score of Logistic regression at random state 89  is:  0.8379908675799087\n",
      "Accuracy score of Logistic regression at random state 90  is:  0.8323287671232876\n",
      "Accuracy score of Logistic regression at random state 91  is:  0.8317808219178082\n",
      "Accuracy score of Logistic regression at random state 92  is:  0.8416438356164384\n",
      "Accuracy score of Logistic regression at random state 93  is:  0.8363470319634703\n",
      "Accuracy score of Logistic regression at random state 94  is:  0.850593607305936\n",
      "Accuracy score of Logistic regression at random state 95  is:  0.8277625570776256\n",
      "Accuracy score of Logistic regression at random state 96  is:  0.8401826484018264\n",
      "Accuracy score of Logistic regression at random state 97  is:  0.8314155251141553\n",
      "Accuracy score of Logistic regression at random state 98  is:  0.8339726027397261\n",
      "Accuracy score of Logistic regression at random state 99  is:  0.8263013698630137\n"
     ]
    }
   ],
   "source": [
    "#finding best random state for Logistic regression\n",
    "\n",
    "for i in range(0,100):\n",
    "    x_train,x_test,y_train,y_test=train_test_split(x,y,test_size=.30,random_state=i)\n",
    "    lr.fit(x_train,y_train)\n",
    "    y_pred=lr.predict(x_test)\n",
    "    acc = accuracy_score(y_test,y_pred)\n",
    "    print('Accuracy score of Logistic regression at random state',i,' is: ',acc)"
   ]
  },
  {
   "cell_type": "markdown",
   "id": "18242985",
   "metadata": {},
   "source": [
    "We see that highest accuracy score is achieved at random state 94 hence we will be using random state 94 in Logistic regression algorithm."
   ]
  },
  {
   "cell_type": "code",
   "execution_count": 41,
   "id": "a83d7cf0",
   "metadata": {},
   "outputs": [
    {
     "name": "stdout",
     "output_type": "stream",
     "text": [
      "Accuracy score of Random forest classifier at random state 0  is:  0.9961643835616438\n",
      "Accuracy score of Random forest classifier at random state 1  is:  0.9985388127853881\n",
      "Accuracy score of Random forest classifier at random state 2  is:  0.9972602739726028\n",
      "Accuracy score of Random forest classifier at random state 3  is:  0.9976255707762557\n",
      "Accuracy score of Random forest classifier at random state 4  is:  0.9974429223744292\n",
      "Accuracy score of Random forest classifier at random state 5  is:  0.9968949771689498\n",
      "Accuracy score of Random forest classifier at random state 6  is:  0.9979908675799086\n",
      "Accuracy score of Random forest classifier at random state 7  is:  0.9979908675799086\n",
      "Accuracy score of Random forest classifier at random state 8  is:  0.9970776255707763\n",
      "Accuracy score of Random forest classifier at random state 9  is:  0.9959817351598174\n",
      "Accuracy score of Random forest classifier at random state 10  is:  0.9985388127853881\n",
      "Accuracy score of Random forest classifier at random state 11  is:  0.9972602739726028\n",
      "Accuracy score of Random forest classifier at random state 12  is:  0.9968949771689498\n",
      "Accuracy score of Random forest classifier at random state 13  is:  0.9961643835616438\n",
      "Accuracy score of Random forest classifier at random state 14  is:  0.9978082191780822\n",
      "Accuracy score of Random forest classifier at random state 15  is:  0.9970776255707763\n",
      "Accuracy score of Random forest classifier at random state 16  is:  0.9979908675799086\n",
      "Accuracy score of Random forest classifier at random state 17  is:  0.9970776255707763\n",
      "Accuracy score of Random forest classifier at random state 18  is:  0.9979908675799086\n",
      "Accuracy score of Random forest classifier at random state 19  is:  0.9974429223744292\n",
      "Accuracy score of Random forest classifier at random state 20  is:  0.9981735159817352\n",
      "Accuracy score of Random forest classifier at random state 21  is:  0.9967123287671232\n",
      "Accuracy score of Random forest classifier at random state 22  is:  0.9978082191780822\n",
      "Accuracy score of Random forest classifier at random state 23  is:  0.9987214611872146\n",
      "Accuracy score of Random forest classifier at random state 24  is:  0.9967123287671232\n",
      "Accuracy score of Random forest classifier at random state 25  is:  0.9974429223744292\n",
      "Accuracy score of Random forest classifier at random state 26  is:  0.9981735159817352\n",
      "Accuracy score of Random forest classifier at random state 27  is:  0.9976255707762557\n",
      "Accuracy score of Random forest classifier at random state 28  is:  0.9976255707762557\n",
      "Accuracy score of Random forest classifier at random state 29  is:  0.9972602739726028\n",
      "Accuracy score of Random forest classifier at random state 30  is:  0.9957990867579909\n",
      "Accuracy score of Random forest classifier at random state 31  is:  0.9983561643835617\n",
      "Accuracy score of Random forest classifier at random state 32  is:  0.9976255707762557\n",
      "Accuracy score of Random forest classifier at random state 33  is:  0.9974429223744292\n",
      "Accuracy score of Random forest classifier at random state 34  is:  0.9981735159817352\n",
      "Accuracy score of Random forest classifier at random state 35  is:  0.9970776255707763\n",
      "Accuracy score of Random forest classifier at random state 36  is:  0.9983561643835617\n",
      "Accuracy score of Random forest classifier at random state 37  is:  0.9979908675799086\n",
      "Accuracy score of Random forest classifier at random state 38  is:  0.9970776255707763\n",
      "Accuracy score of Random forest classifier at random state 39  is:  0.9970776255707763\n",
      "Accuracy score of Random forest classifier at random state 40  is:  0.9968949771689498\n",
      "Accuracy score of Random forest classifier at random state 41  is:  0.9968949771689498\n",
      "Accuracy score of Random forest classifier at random state 42  is:  0.9978082191780822\n",
      "Accuracy score of Random forest classifier at random state 43  is:  0.9972602739726028\n",
      "Accuracy score of Random forest classifier at random state 44  is:  0.9972602739726028\n",
      "Accuracy score of Random forest classifier at random state 45  is:  0.9965296803652968\n",
      "Accuracy score of Random forest classifier at random state 46  is:  0.9970776255707763\n",
      "Accuracy score of Random forest classifier at random state 47  is:  0.9954337899543378\n",
      "Accuracy score of Random forest classifier at random state 48  is:  0.9974429223744292\n",
      "Accuracy score of Random forest classifier at random state 49  is:  0.9976255707762557\n",
      "Accuracy score of Random forest classifier at random state 50  is:  0.9974429223744292\n",
      "Accuracy score of Random forest classifier at random state 51  is:  0.9985388127853881\n",
      "Accuracy score of Random forest classifier at random state 52  is:  0.9974429223744292\n",
      "Accuracy score of Random forest classifier at random state 53  is:  0.9967123287671232\n",
      "Accuracy score of Random forest classifier at random state 54  is:  0.9979908675799086\n",
      "Accuracy score of Random forest classifier at random state 55  is:  0.9974429223744292\n",
      "Accuracy score of Random forest classifier at random state 56  is:  0.9987214611872146\n",
      "Accuracy score of Random forest classifier at random state 57  is:  0.9965296803652968\n",
      "Accuracy score of Random forest classifier at random state 58  is:  0.9979908675799086\n",
      "Accuracy score of Random forest classifier at random state 59  is:  0.9978082191780822\n",
      "Accuracy score of Random forest classifier at random state 60  is:  0.9967123287671232\n",
      "Accuracy score of Random forest classifier at random state 61  is:  0.9961643835616438\n",
      "Accuracy score of Random forest classifier at random state 62  is:  0.9974429223744292\n",
      "Accuracy score of Random forest classifier at random state 63  is:  0.9970776255707763\n",
      "Accuracy score of Random forest classifier at random state 64  is:  0.9972602739726028\n",
      "Accuracy score of Random forest classifier at random state 65  is:  0.9970776255707763\n",
      "Accuracy score of Random forest classifier at random state 66  is:  0.9981735159817352\n",
      "Accuracy score of Random forest classifier at random state 67  is:  0.9957990867579909\n",
      "Accuracy score of Random forest classifier at random state 68  is:  0.9974429223744292\n",
      "Accuracy score of Random forest classifier at random state 69  is:  0.9985388127853881\n",
      "Accuracy score of Random forest classifier at random state 70  is:  0.9972602739726028\n",
      "Accuracy score of Random forest classifier at random state 71  is:  0.9979908675799086\n",
      "Accuracy score of Random forest classifier at random state 72  is:  0.9972602739726028\n",
      "Accuracy score of Random forest classifier at random state 73  is:  0.9981735159817352\n",
      "Accuracy score of Random forest classifier at random state 74  is:  0.9983561643835617\n",
      "Accuracy score of Random forest classifier at random state 75  is:  0.9959817351598174\n",
      "Accuracy score of Random forest classifier at random state 76  is:  0.9978082191780822\n",
      "Accuracy score of Random forest classifier at random state 77  is:  0.9970776255707763\n",
      "Accuracy score of Random forest classifier at random state 78  is:  0.9981735159817352\n",
      "Accuracy score of Random forest classifier at random state 79  is:  0.9978082191780822\n",
      "Accuracy score of Random forest classifier at random state 80  is:  0.9967123287671232\n",
      "Accuracy score of Random forest classifier at random state 81  is:  0.9978082191780822\n",
      "Accuracy score of Random forest classifier at random state 82  is:  0.9974429223744292\n",
      "Accuracy score of Random forest classifier at random state 83  is:  0.9970776255707763\n",
      "Accuracy score of Random forest classifier at random state 84  is:  0.9972602739726028\n",
      "Accuracy score of Random forest classifier at random state 85  is:  0.9972602739726028\n",
      "Accuracy score of Random forest classifier at random state 86  is:  0.9979908675799086\n",
      "Accuracy score of Random forest classifier at random state 87  is:  0.9976255707762557\n",
      "Accuracy score of Random forest classifier at random state 88  is:  0.9983561643835617\n",
      "Accuracy score of Random forest classifier at random state 89  is:  0.9985388127853881\n",
      "Accuracy score of Random forest classifier at random state 90  is:  0.9967123287671232\n",
      "Accuracy score of Random forest classifier at random state 91  is:  0.9978082191780822\n",
      "Accuracy score of Random forest classifier at random state 92  is:  0.9970776255707763\n",
      "Accuracy score of Random forest classifier at random state 93  is:  0.9978082191780822\n",
      "Accuracy score of Random forest classifier at random state 94  is:  0.9970776255707763\n"
     ]
    },
    {
     "name": "stdout",
     "output_type": "stream",
     "text": [
      "Accuracy score of Random forest classifier at random state 95  is:  0.9979908675799086\n",
      "Accuracy score of Random forest classifier at random state 96  is:  0.9974429223744292\n",
      "Accuracy score of Random forest classifier at random state 97  is:  0.9970776255707763\n",
      "Accuracy score of Random forest classifier at random state 98  is:  0.9976255707762557\n",
      "Accuracy score of Random forest classifier at random state 99  is:  0.9972602739726028\n"
     ]
    }
   ],
   "source": [
    "#finding best random state for Random forest classifier\n",
    "\n",
    "for i in range(0,100):\n",
    "    x_train,x_test,y_train,y_test=train_test_split(x,y,test_size=.30,random_state=i)\n",
    "    rfc.fit(x_train,y_train)\n",
    "    y_pred=rfc.predict(x_test)\n",
    "    acc = accuracy_score(y_test,y_pred)\n",
    "    print('Accuracy score of Random forest classifier at random state',i,' is: ',acc)"
   ]
  },
  {
   "cell_type": "markdown",
   "id": "78a7da0a",
   "metadata": {},
   "source": [
    "We see that highest accuracy score is achieved at random state 56 hence we will be using random state 56 in Random forest classifier algorithm."
   ]
  },
  {
   "cell_type": "code",
   "execution_count": 42,
   "id": "ec87374c",
   "metadata": {},
   "outputs": [
    {
     "name": "stdout",
     "output_type": "stream",
     "text": [
      "Accuracy score of Decision Tree classifier at random state 0  is:  0.9894063926940639\n",
      "Accuracy score of Decision Tree classifier at random state 1  is:  0.9914155251141552\n",
      "Accuracy score of Decision Tree classifier at random state 2  is:  0.988675799086758\n",
      "Accuracy score of Decision Tree classifier at random state 3  is:  0.9894063926940639\n",
      "Accuracy score of Decision Tree classifier at random state 4  is:  0.988310502283105\n",
      "Accuracy score of Decision Tree classifier at random state 5  is:  0.9919634703196347\n",
      "Accuracy score of Decision Tree classifier at random state 6  is:  0.9921461187214612\n",
      "Accuracy score of Decision Tree classifier at random state 7  is:  0.9905022831050229\n",
      "Accuracy score of Decision Tree classifier at random state 8  is:  0.9894063926940639\n",
      "Accuracy score of Decision Tree classifier at random state 9  is:  0.9921461187214612\n",
      "Accuracy score of Decision Tree classifier at random state 10  is:  0.9919634703196347\n",
      "Accuracy score of Decision Tree classifier at random state 11  is:  0.9899543378995433\n",
      "Accuracy score of Decision Tree classifier at random state 12  is:  0.9873972602739726\n",
      "Accuracy score of Decision Tree classifier at random state 13  is:  0.9877625570776256\n",
      "Accuracy score of Decision Tree classifier at random state 14  is:  0.9903196347031964\n",
      "Accuracy score of Decision Tree classifier at random state 15  is:  0.9905022831050229\n",
      "Accuracy score of Decision Tree classifier at random state 16  is:  0.9881278538812786\n",
      "Accuracy score of Decision Tree classifier at random state 17  is:  0.9921461187214612\n",
      "Accuracy score of Decision Tree classifier at random state 18  is:  0.9915981735159818\n",
      "Accuracy score of Decision Tree classifier at random state 19  is:  0.9915981735159818\n",
      "Accuracy score of Decision Tree classifier at random state 20  is:  0.9906849315068493\n",
      "Accuracy score of Decision Tree classifier at random state 21  is:  0.9908675799086758\n",
      "Accuracy score of Decision Tree classifier at random state 22  is:  0.9912328767123287\n",
      "Accuracy score of Decision Tree classifier at random state 23  is:  0.9930593607305936\n",
      "Accuracy score of Decision Tree classifier at random state 24  is:  0.9928767123287672\n",
      "Accuracy score of Decision Tree classifier at random state 25  is:  0.9881278538812786\n",
      "Accuracy score of Decision Tree classifier at random state 26  is:  0.9923287671232877\n",
      "Accuracy score of Decision Tree classifier at random state 27  is:  0.9926940639269406\n",
      "Accuracy score of Decision Tree classifier at random state 28  is:  0.9912328767123287\n",
      "Accuracy score of Decision Tree classifier at random state 29  is:  0.9903196347031964\n",
      "Accuracy score of Decision Tree classifier at random state 30  is:  0.9895890410958904\n",
      "Accuracy score of Decision Tree classifier at random state 31  is:  0.9919634703196347\n",
      "Accuracy score of Decision Tree classifier at random state 32  is:  0.9915981735159818\n",
      "Accuracy score of Decision Tree classifier at random state 33  is:  0.9914155251141552\n",
      "Accuracy score of Decision Tree classifier at random state 34  is:  0.9910502283105023\n",
      "Accuracy score of Decision Tree classifier at random state 35  is:  0.9908675799086758\n",
      "Accuracy score of Decision Tree classifier at random state 36  is:  0.993607305936073\n",
      "Accuracy score of Decision Tree classifier at random state 37  is:  0.9925114155251141\n",
      "Accuracy score of Decision Tree classifier at random state 38  is:  0.9921461187214612\n",
      "Accuracy score of Decision Tree classifier at random state 39  is:  0.9917808219178083\n",
      "Accuracy score of Decision Tree classifier at random state 40  is:  0.987579908675799\n",
      "Accuracy score of Decision Tree classifier at random state 41  is:  0.9910502283105023\n",
      "Accuracy score of Decision Tree classifier at random state 42  is:  0.9914155251141552\n",
      "Accuracy score of Decision Tree classifier at random state 43  is:  0.9934246575342466\n",
      "Accuracy score of Decision Tree classifier at random state 44  is:  0.9914155251141552\n",
      "Accuracy score of Decision Tree classifier at random state 45  is:  0.9906849315068493\n",
      "Accuracy score of Decision Tree classifier at random state 46  is:  0.9910502283105023\n",
      "Accuracy score of Decision Tree classifier at random state 47  is:  0.988310502283105\n",
      "Accuracy score of Decision Tree classifier at random state 48  is:  0.9914155251141552\n",
      "Accuracy score of Decision Tree classifier at random state 49  is:  0.9908675799086758\n",
      "Accuracy score of Decision Tree classifier at random state 50  is:  0.9925114155251141\n",
      "Accuracy score of Decision Tree classifier at random state 51  is:  0.9897716894977169\n",
      "Accuracy score of Decision Tree classifier at random state 52  is:  0.9925114155251141\n",
      "Accuracy score of Decision Tree classifier at random state 53  is:  0.9919634703196347\n",
      "Accuracy score of Decision Tree classifier at random state 54  is:  0.9906849315068493\n",
      "Accuracy score of Decision Tree classifier at random state 55  is:  0.9906849315068493\n",
      "Accuracy score of Decision Tree classifier at random state 56  is:  0.9905022831050229\n",
      "Accuracy score of Decision Tree classifier at random state 57  is:  0.9884931506849315\n",
      "Accuracy score of Decision Tree classifier at random state 58  is:  0.9917808219178083\n",
      "Accuracy score of Decision Tree classifier at random state 59  is:  0.9895890410958904\n",
      "Accuracy score of Decision Tree classifier at random state 60  is:  0.9928767123287672\n",
      "Accuracy score of Decision Tree classifier at random state 61  is:  0.9895890410958904\n",
      "Accuracy score of Decision Tree classifier at random state 62  is:  0.9888584474885844\n",
      "Accuracy score of Decision Tree classifier at random state 63  is:  0.9906849315068493\n",
      "Accuracy score of Decision Tree classifier at random state 64  is:  0.9897716894977169\n",
      "Accuracy score of Decision Tree classifier at random state 65  is:  0.9894063926940639\n",
      "Accuracy score of Decision Tree classifier at random state 66  is:  0.9903196347031964\n",
      "Accuracy score of Decision Tree classifier at random state 67  is:  0.9870319634703196\n",
      "Accuracy score of Decision Tree classifier at random state 68  is:  0.9908675799086758\n",
      "Accuracy score of Decision Tree classifier at random state 69  is:  0.9928767123287672\n",
      "Accuracy score of Decision Tree classifier at random state 70  is:  0.9928767123287672\n",
      "Accuracy score of Decision Tree classifier at random state 71  is:  0.9910502283105023\n",
      "Accuracy score of Decision Tree classifier at random state 72  is:  0.9899543378995433\n",
      "Accuracy score of Decision Tree classifier at random state 73  is:  0.9912328767123287\n",
      "Accuracy score of Decision Tree classifier at random state 74  is:  0.9888584474885844\n",
      "Accuracy score of Decision Tree classifier at random state 75  is:  0.989041095890411\n",
      "Accuracy score of Decision Tree classifier at random state 76  is:  0.9917808219178083\n",
      "Accuracy score of Decision Tree classifier at random state 77  is:  0.988675799086758\n",
      "Accuracy score of Decision Tree classifier at random state 78  is:  0.9894063926940639\n",
      "Accuracy score of Decision Tree classifier at random state 79  is:  0.9910502283105023\n",
      "Accuracy score of Decision Tree classifier at random state 80  is:  0.9903196347031964\n",
      "Accuracy score of Decision Tree classifier at random state 81  is:  0.9917808219178083\n",
      "Accuracy score of Decision Tree classifier at random state 82  is:  0.9884931506849315\n",
      "Accuracy score of Decision Tree classifier at random state 83  is:  0.9925114155251141\n",
      "Accuracy score of Decision Tree classifier at random state 84  is:  0.9894063926940639\n",
      "Accuracy score of Decision Tree classifier at random state 85  is:  0.9928767123287672\n",
      "Accuracy score of Decision Tree classifier at random state 86  is:  0.9919634703196347\n",
      "Accuracy score of Decision Tree classifier at random state 87  is:  0.9903196347031964\n",
      "Accuracy score of Decision Tree classifier at random state 88  is:  0.9923287671232877\n",
      "Accuracy score of Decision Tree classifier at random state 89  is:  0.9892237442922375\n",
      "Accuracy score of Decision Tree classifier at random state 90  is:  0.9897716894977169\n",
      "Accuracy score of Decision Tree classifier at random state 91  is:  0.9884931506849315\n",
      "Accuracy score of Decision Tree classifier at random state 92  is:  0.9895890410958904\n",
      "Accuracy score of Decision Tree classifier at random state 93  is:  0.9914155251141552\n",
      "Accuracy score of Decision Tree classifier at random state 94  is:  0.988675799086758\n"
     ]
    },
    {
     "name": "stdout",
     "output_type": "stream",
     "text": [
      "Accuracy score of Decision Tree classifier at random state 95  is:  0.9910502283105023\n",
      "Accuracy score of Decision Tree classifier at random state 96  is:  0.9906849315068493\n",
      "Accuracy score of Decision Tree classifier at random state 97  is:  0.9908675799086758\n",
      "Accuracy score of Decision Tree classifier at random state 98  is:  0.9905022831050229\n",
      "Accuracy score of Decision Tree classifier at random state 99  is:  0.9914155251141552\n"
     ]
    }
   ],
   "source": [
    "#finding best random state for Decision Tree classifier\n",
    "\n",
    "for i in range(0,100):\n",
    "    x_train,x_test,y_train,y_test=train_test_split(x,y,test_size=.30,random_state=i)\n",
    "    dtc.fit(x_train,y_train)\n",
    "    y_pred=dtc.predict(x_test)\n",
    "    acc = accuracy_score(y_test,y_pred)\n",
    "    print('Accuracy score of Decision Tree classifier at random state',i,' is: ',acc)"
   ]
  },
  {
   "cell_type": "markdown",
   "id": "b0d786c7",
   "metadata": {},
   "source": [
    "We see that highest accuracy score is achieved at random state 36 hence we will be using random state 36 in Decision Tree classifier algorithm."
   ]
  },
  {
   "cell_type": "code",
   "execution_count": 43,
   "id": "900a1706",
   "metadata": {},
   "outputs": [
    {
     "name": "stdout",
     "output_type": "stream",
     "text": [
      "[10:24:48] WARNING: C:/Users/Administrator/workspace/xgboost-win64_release_1.5.1/src/learner.cc:1115: Starting in XGBoost 1.3.0, the default evaluation metric used with the objective 'binary:logistic' was changed from 'error' to 'logloss'. Explicitly set eval_metric if you'd like to restore the old behavior.\n",
      "Accuracy score of XGBoost at random state 0  is:  0.9981735159817352\n",
      "[10:24:49] WARNING: C:/Users/Administrator/workspace/xgboost-win64_release_1.5.1/src/learner.cc:1115: Starting in XGBoost 1.3.0, the default evaluation metric used with the objective 'binary:logistic' was changed from 'error' to 'logloss'. Explicitly set eval_metric if you'd like to restore the old behavior.\n",
      "Accuracy score of XGBoost at random state 1  is:  0.9990867579908675\n",
      "[10:24:49] WARNING: C:/Users/Administrator/workspace/xgboost-win64_release_1.5.1/src/learner.cc:1115: Starting in XGBoost 1.3.0, the default evaluation metric used with the objective 'binary:logistic' was changed from 'error' to 'logloss'. Explicitly set eval_metric if you'd like to restore the old behavior.\n",
      "Accuracy score of XGBoost at random state 2  is:  0.9990867579908675\n",
      "[10:24:49] WARNING: C:/Users/Administrator/workspace/xgboost-win64_release_1.5.1/src/learner.cc:1115: Starting in XGBoost 1.3.0, the default evaluation metric used with the objective 'binary:logistic' was changed from 'error' to 'logloss'. Explicitly set eval_metric if you'd like to restore the old behavior.\n",
      "Accuracy score of XGBoost at random state 3  is:  0.999269406392694\n",
      "[10:24:50] WARNING: C:/Users/Administrator/workspace/xgboost-win64_release_1.5.1/src/learner.cc:1115: Starting in XGBoost 1.3.0, the default evaluation metric used with the objective 'binary:logistic' was changed from 'error' to 'logloss'. Explicitly set eval_metric if you'd like to restore the old behavior.\n",
      "Accuracy score of XGBoost at random state 4  is:  0.9974429223744292\n",
      "[10:24:50] WARNING: C:/Users/Administrator/workspace/xgboost-win64_release_1.5.1/src/learner.cc:1115: Starting in XGBoost 1.3.0, the default evaluation metric used with the objective 'binary:logistic' was changed from 'error' to 'logloss'. Explicitly set eval_metric if you'd like to restore the old behavior.\n",
      "Accuracy score of XGBoost at random state 5  is:  0.9979908675799086\n",
      "[10:24:51] WARNING: C:/Users/Administrator/workspace/xgboost-win64_release_1.5.1/src/learner.cc:1115: Starting in XGBoost 1.3.0, the default evaluation metric used with the objective 'binary:logistic' was changed from 'error' to 'logloss'. Explicitly set eval_metric if you'd like to restore the old behavior.\n",
      "Accuracy score of XGBoost at random state 6  is:  0.9987214611872146\n",
      "[10:24:51] WARNING: C:/Users/Administrator/workspace/xgboost-win64_release_1.5.1/src/learner.cc:1115: Starting in XGBoost 1.3.0, the default evaluation metric used with the objective 'binary:logistic' was changed from 'error' to 'logloss'. Explicitly set eval_metric if you'd like to restore the old behavior.\n",
      "Accuracy score of XGBoost at random state 7  is:  0.999269406392694\n",
      "[10:24:51] WARNING: C:/Users/Administrator/workspace/xgboost-win64_release_1.5.1/src/learner.cc:1115: Starting in XGBoost 1.3.0, the default evaluation metric used with the objective 'binary:logistic' was changed from 'error' to 'logloss'. Explicitly set eval_metric if you'd like to restore the old behavior.\n",
      "Accuracy score of XGBoost at random state 8  is:  0.9985388127853881\n",
      "[10:24:52] WARNING: C:/Users/Administrator/workspace/xgboost-win64_release_1.5.1/src/learner.cc:1115: Starting in XGBoost 1.3.0, the default evaluation metric used with the objective 'binary:logistic' was changed from 'error' to 'logloss'. Explicitly set eval_metric if you'd like to restore the old behavior.\n",
      "Accuracy score of XGBoost at random state 9  is:  0.9978082191780822\n",
      "[10:24:52] WARNING: C:/Users/Administrator/workspace/xgboost-win64_release_1.5.1/src/learner.cc:1115: Starting in XGBoost 1.3.0, the default evaluation metric used with the objective 'binary:logistic' was changed from 'error' to 'logloss'. Explicitly set eval_metric if you'd like to restore the old behavior.\n",
      "Accuracy score of XGBoost at random state 10  is:  0.9989041095890411\n",
      "[10:24:53] WARNING: C:/Users/Administrator/workspace/xgboost-win64_release_1.5.1/src/learner.cc:1115: Starting in XGBoost 1.3.0, the default evaluation metric used with the objective 'binary:logistic' was changed from 'error' to 'logloss'. Explicitly set eval_metric if you'd like to restore the old behavior.\n",
      "Accuracy score of XGBoost at random state 11  is:  0.9983561643835617\n",
      "[10:24:53] WARNING: C:/Users/Administrator/workspace/xgboost-win64_release_1.5.1/src/learner.cc:1115: Starting in XGBoost 1.3.0, the default evaluation metric used with the objective 'binary:logistic' was changed from 'error' to 'logloss'. Explicitly set eval_metric if you'd like to restore the old behavior.\n",
      "Accuracy score of XGBoost at random state 12  is:  0.9987214611872146\n",
      "[10:24:54] WARNING: C:/Users/Administrator/workspace/xgboost-win64_release_1.5.1/src/learner.cc:1115: Starting in XGBoost 1.3.0, the default evaluation metric used with the objective 'binary:logistic' was changed from 'error' to 'logloss'. Explicitly set eval_metric if you'd like to restore the old behavior.\n",
      "Accuracy score of XGBoost at random state 13  is:  0.9981735159817352\n",
      "[10:24:54] WARNING: C:/Users/Administrator/workspace/xgboost-win64_release_1.5.1/src/learner.cc:1115: Starting in XGBoost 1.3.0, the default evaluation metric used with the objective 'binary:logistic' was changed from 'error' to 'logloss'. Explicitly set eval_metric if you'd like to restore the old behavior.\n",
      "Accuracy score of XGBoost at random state 14  is:  0.9987214611872146\n",
      "[10:24:55] WARNING: C:/Users/Administrator/workspace/xgboost-win64_release_1.5.1/src/learner.cc:1115: Starting in XGBoost 1.3.0, the default evaluation metric used with the objective 'binary:logistic' was changed from 'error' to 'logloss'. Explicitly set eval_metric if you'd like to restore the old behavior.\n",
      "Accuracy score of XGBoost at random state 15  is:  0.9983561643835617\n",
      "[10:24:55] WARNING: C:/Users/Administrator/workspace/xgboost-win64_release_1.5.1/src/learner.cc:1115: Starting in XGBoost 1.3.0, the default evaluation metric used with the objective 'binary:logistic' was changed from 'error' to 'logloss'. Explicitly set eval_metric if you'd like to restore the old behavior.\n",
      "Accuracy score of XGBoost at random state 16  is:  0.999269406392694\n",
      "[10:24:56] WARNING: C:/Users/Administrator/workspace/xgboost-win64_release_1.5.1/src/learner.cc:1115: Starting in XGBoost 1.3.0, the default evaluation metric used with the objective 'binary:logistic' was changed from 'error' to 'logloss'. Explicitly set eval_metric if you'd like to restore the old behavior.\n",
      "Accuracy score of XGBoost at random state 17  is:  0.9979908675799086\n",
      "[10:24:56] WARNING: C:/Users/Administrator/workspace/xgboost-win64_release_1.5.1/src/learner.cc:1115: Starting in XGBoost 1.3.0, the default evaluation metric used with the objective 'binary:logistic' was changed from 'error' to 'logloss'. Explicitly set eval_metric if you'd like to restore the old behavior.\n",
      "Accuracy score of XGBoost at random state 18  is:  0.9989041095890411\n",
      "[10:24:57] WARNING: C:/Users/Administrator/workspace/xgboost-win64_release_1.5.1/src/learner.cc:1115: Starting in XGBoost 1.3.0, the default evaluation metric used with the objective 'binary:logistic' was changed from 'error' to 'logloss'. Explicitly set eval_metric if you'd like to restore the old behavior.\n",
      "Accuracy score of XGBoost at random state 19  is:  0.9979908675799086\n",
      "[10:24:58] WARNING: C:/Users/Administrator/workspace/xgboost-win64_release_1.5.1/src/learner.cc:1115: Starting in XGBoost 1.3.0, the default evaluation metric used with the objective 'binary:logistic' was changed from 'error' to 'logloss'. Explicitly set eval_metric if you'd like to restore the old behavior.\n",
      "Accuracy score of XGBoost at random state 20  is:  0.9989041095890411\n",
      "[10:24:59] WARNING: C:/Users/Administrator/workspace/xgboost-win64_release_1.5.1/src/learner.cc:1115: Starting in XGBoost 1.3.0, the default evaluation metric used with the objective 'binary:logistic' was changed from 'error' to 'logloss'. Explicitly set eval_metric if you'd like to restore the old behavior.\n"
     ]
    },
    {
     "name": "stdout",
     "output_type": "stream",
     "text": [
      "Accuracy score of XGBoost at random state 21  is:  0.9981735159817352\n",
      "[10:24:59] WARNING: C:/Users/Administrator/workspace/xgboost-win64_release_1.5.1/src/learner.cc:1115: Starting in XGBoost 1.3.0, the default evaluation metric used with the objective 'binary:logistic' was changed from 'error' to 'logloss'. Explicitly set eval_metric if you'd like to restore the old behavior.\n",
      "Accuracy score of XGBoost at random state 22  is:  0.9985388127853881\n",
      "[10:25:00] WARNING: C:/Users/Administrator/workspace/xgboost-win64_release_1.5.1/src/learner.cc:1115: Starting in XGBoost 1.3.0, the default evaluation metric used with the objective 'binary:logistic' was changed from 'error' to 'logloss'. Explicitly set eval_metric if you'd like to restore the old behavior.\n",
      "Accuracy score of XGBoost at random state 23  is:  0.999269406392694\n",
      "[10:25:01] WARNING: C:/Users/Administrator/workspace/xgboost-win64_release_1.5.1/src/learner.cc:1115: Starting in XGBoost 1.3.0, the default evaluation metric used with the objective 'binary:logistic' was changed from 'error' to 'logloss'. Explicitly set eval_metric if you'd like to restore the old behavior.\n",
      "Accuracy score of XGBoost at random state 24  is:  0.9985388127853881\n",
      "[10:25:01] WARNING: C:/Users/Administrator/workspace/xgboost-win64_release_1.5.1/src/learner.cc:1115: Starting in XGBoost 1.3.0, the default evaluation metric used with the objective 'binary:logistic' was changed from 'error' to 'logloss'. Explicitly set eval_metric if you'd like to restore the old behavior.\n",
      "Accuracy score of XGBoost at random state 25  is:  0.9983561643835617\n",
      "[10:25:02] WARNING: C:/Users/Administrator/workspace/xgboost-win64_release_1.5.1/src/learner.cc:1115: Starting in XGBoost 1.3.0, the default evaluation metric used with the objective 'binary:logistic' was changed from 'error' to 'logloss'. Explicitly set eval_metric if you'd like to restore the old behavior.\n",
      "Accuracy score of XGBoost at random state 26  is:  0.9987214611872146\n",
      "[10:25:02] WARNING: C:/Users/Administrator/workspace/xgboost-win64_release_1.5.1/src/learner.cc:1115: Starting in XGBoost 1.3.0, the default evaluation metric used with the objective 'binary:logistic' was changed from 'error' to 'logloss'. Explicitly set eval_metric if you'd like to restore the old behavior.\n",
      "Accuracy score of XGBoost at random state 27  is:  0.9994520547945206\n",
      "[10:25:03] WARNING: C:/Users/Administrator/workspace/xgboost-win64_release_1.5.1/src/learner.cc:1115: Starting in XGBoost 1.3.0, the default evaluation metric used with the objective 'binary:logistic' was changed from 'error' to 'logloss'. Explicitly set eval_metric if you'd like to restore the old behavior.\n",
      "Accuracy score of XGBoost at random state 28  is:  0.9985388127853881\n",
      "[10:25:03] WARNING: C:/Users/Administrator/workspace/xgboost-win64_release_1.5.1/src/learner.cc:1115: Starting in XGBoost 1.3.0, the default evaluation metric used with the objective 'binary:logistic' was changed from 'error' to 'logloss'. Explicitly set eval_metric if you'd like to restore the old behavior.\n",
      "Accuracy score of XGBoost at random state 29  is:  0.9994520547945206\n",
      "[10:25:04] WARNING: C:/Users/Administrator/workspace/xgboost-win64_release_1.5.1/src/learner.cc:1115: Starting in XGBoost 1.3.0, the default evaluation metric used with the objective 'binary:logistic' was changed from 'error' to 'logloss'. Explicitly set eval_metric if you'd like to restore the old behavior.\n",
      "Accuracy score of XGBoost at random state 30  is:  0.9974429223744292\n",
      "[10:25:05] WARNING: C:/Users/Administrator/workspace/xgboost-win64_release_1.5.1/src/learner.cc:1115: Starting in XGBoost 1.3.0, the default evaluation metric used with the objective 'binary:logistic' was changed from 'error' to 'logloss'. Explicitly set eval_metric if you'd like to restore the old behavior.\n",
      "Accuracy score of XGBoost at random state 31  is:  0.9989041095890411\n",
      "[10:25:05] WARNING: C:/Users/Administrator/workspace/xgboost-win64_release_1.5.1/src/learner.cc:1115: Starting in XGBoost 1.3.0, the default evaluation metric used with the objective 'binary:logistic' was changed from 'error' to 'logloss'. Explicitly set eval_metric if you'd like to restore the old behavior.\n",
      "Accuracy score of XGBoost at random state 32  is:  0.9990867579908675\n",
      "[10:25:06] WARNING: C:/Users/Administrator/workspace/xgboost-win64_release_1.5.1/src/learner.cc:1115: Starting in XGBoost 1.3.0, the default evaluation metric used with the objective 'binary:logistic' was changed from 'error' to 'logloss'. Explicitly set eval_metric if you'd like to restore the old behavior.\n",
      "Accuracy score of XGBoost at random state 33  is:  0.9983561643835617\n",
      "[10:25:07] WARNING: C:/Users/Administrator/workspace/xgboost-win64_release_1.5.1/src/learner.cc:1115: Starting in XGBoost 1.3.0, the default evaluation metric used with the objective 'binary:logistic' was changed from 'error' to 'logloss'. Explicitly set eval_metric if you'd like to restore the old behavior.\n",
      "Accuracy score of XGBoost at random state 34  is:  0.9981735159817352\n",
      "[10:25:07] WARNING: C:/Users/Administrator/workspace/xgboost-win64_release_1.5.1/src/learner.cc:1115: Starting in XGBoost 1.3.0, the default evaluation metric used with the objective 'binary:logistic' was changed from 'error' to 'logloss'. Explicitly set eval_metric if you'd like to restore the old behavior.\n",
      "Accuracy score of XGBoost at random state 35  is:  0.9985388127853881\n",
      "[10:25:08] WARNING: C:/Users/Administrator/workspace/xgboost-win64_release_1.5.1/src/learner.cc:1115: Starting in XGBoost 1.3.0, the default evaluation metric used with the objective 'binary:logistic' was changed from 'error' to 'logloss'. Explicitly set eval_metric if you'd like to restore the old behavior.\n",
      "Accuracy score of XGBoost at random state 36  is:  0.9989041095890411\n",
      "[10:25:09] WARNING: C:/Users/Administrator/workspace/xgboost-win64_release_1.5.1/src/learner.cc:1115: Starting in XGBoost 1.3.0, the default evaluation metric used with the objective 'binary:logistic' was changed from 'error' to 'logloss'. Explicitly set eval_metric if you'd like to restore the old behavior.\n",
      "Accuracy score of XGBoost at random state 37  is:  0.9978082191780822\n",
      "[10:25:09] WARNING: C:/Users/Administrator/workspace/xgboost-win64_release_1.5.1/src/learner.cc:1115: Starting in XGBoost 1.3.0, the default evaluation metric used with the objective 'binary:logistic' was changed from 'error' to 'logloss'. Explicitly set eval_metric if you'd like to restore the old behavior.\n",
      "Accuracy score of XGBoost at random state 38  is:  0.999269406392694\n",
      "[10:25:10] WARNING: C:/Users/Administrator/workspace/xgboost-win64_release_1.5.1/src/learner.cc:1115: Starting in XGBoost 1.3.0, the default evaluation metric used with the objective 'binary:logistic' was changed from 'error' to 'logloss'. Explicitly set eval_metric if you'd like to restore the old behavior.\n",
      "Accuracy score of XGBoost at random state 39  is:  0.9978082191780822\n",
      "[10:25:11] WARNING: C:/Users/Administrator/workspace/xgboost-win64_release_1.5.1/src/learner.cc:1115: Starting in XGBoost 1.3.0, the default evaluation metric used with the objective 'binary:logistic' was changed from 'error' to 'logloss'. Explicitly set eval_metric if you'd like to restore the old behavior.\n",
      "Accuracy score of XGBoost at random state 40  is:  0.9985388127853881\n",
      "[10:25:11] WARNING: C:/Users/Administrator/workspace/xgboost-win64_release_1.5.1/src/learner.cc:1115: Starting in XGBoost 1.3.0, the default evaluation metric used with the objective 'binary:logistic' was changed from 'error' to 'logloss'. Explicitly set eval_metric if you'd like to restore the old behavior.\n",
      "Accuracy score of XGBoost at random state 41  is:  0.9987214611872146\n",
      "[10:25:12] WARNING: C:/Users/Administrator/workspace/xgboost-win64_release_1.5.1/src/learner.cc:1115: Starting in XGBoost 1.3.0, the default evaluation metric used with the objective 'binary:logistic' was changed from 'error' to 'logloss'. Explicitly set eval_metric if you'd like to restore the old behavior.\n",
      "Accuracy score of XGBoost at random state 42  is:  0.9981735159817352\n",
      "[10:25:13] WARNING: C:/Users/Administrator/workspace/xgboost-win64_release_1.5.1/src/learner.cc:1115: Starting in XGBoost 1.3.0, the default evaluation metric used with the objective 'binary:logistic' was changed from 'error' to 'logloss'. Explicitly set eval_metric if you'd like to restore the old behavior.\n"
     ]
    },
    {
     "name": "stdout",
     "output_type": "stream",
     "text": [
      "Accuracy score of XGBoost at random state 43  is:  0.9979908675799086\n",
      "[10:25:13] WARNING: C:/Users/Administrator/workspace/xgboost-win64_release_1.5.1/src/learner.cc:1115: Starting in XGBoost 1.3.0, the default evaluation metric used with the objective 'binary:logistic' was changed from 'error' to 'logloss'. Explicitly set eval_metric if you'd like to restore the old behavior.\n",
      "Accuracy score of XGBoost at random state 44  is:  0.9981735159817352\n",
      "[10:25:14] WARNING: C:/Users/Administrator/workspace/xgboost-win64_release_1.5.1/src/learner.cc:1115: Starting in XGBoost 1.3.0, the default evaluation metric used with the objective 'binary:logistic' was changed from 'error' to 'logloss'. Explicitly set eval_metric if you'd like to restore the old behavior.\n",
      "Accuracy score of XGBoost at random state 45  is:  0.9979908675799086\n",
      "[10:25:15] WARNING: C:/Users/Administrator/workspace/xgboost-win64_release_1.5.1/src/learner.cc:1115: Starting in XGBoost 1.3.0, the default evaluation metric used with the objective 'binary:logistic' was changed from 'error' to 'logloss'. Explicitly set eval_metric if you'd like to restore the old behavior.\n",
      "Accuracy score of XGBoost at random state 46  is:  0.9976255707762557\n",
      "[10:25:15] WARNING: C:/Users/Administrator/workspace/xgboost-win64_release_1.5.1/src/learner.cc:1115: Starting in XGBoost 1.3.0, the default evaluation metric used with the objective 'binary:logistic' was changed from 'error' to 'logloss'. Explicitly set eval_metric if you'd like to restore the old behavior.\n",
      "Accuracy score of XGBoost at random state 47  is:  0.9970776255707763\n",
      "[10:25:16] WARNING: C:/Users/Administrator/workspace/xgboost-win64_release_1.5.1/src/learner.cc:1115: Starting in XGBoost 1.3.0, the default evaluation metric used with the objective 'binary:logistic' was changed from 'error' to 'logloss'. Explicitly set eval_metric if you'd like to restore the old behavior.\n",
      "Accuracy score of XGBoost at random state 48  is:  0.9978082191780822\n",
      "[10:25:17] WARNING: C:/Users/Administrator/workspace/xgboost-win64_release_1.5.1/src/learner.cc:1115: Starting in XGBoost 1.3.0, the default evaluation metric used with the objective 'binary:logistic' was changed from 'error' to 'logloss'. Explicitly set eval_metric if you'd like to restore the old behavior.\n",
      "Accuracy score of XGBoost at random state 49  is:  0.9987214611872146\n",
      "[10:25:17] WARNING: C:/Users/Administrator/workspace/xgboost-win64_release_1.5.1/src/learner.cc:1115: Starting in XGBoost 1.3.0, the default evaluation metric used with the objective 'binary:logistic' was changed from 'error' to 'logloss'. Explicitly set eval_metric if you'd like to restore the old behavior.\n",
      "Accuracy score of XGBoost at random state 50  is:  0.999269406392694\n",
      "[10:25:18] WARNING: C:/Users/Administrator/workspace/xgboost-win64_release_1.5.1/src/learner.cc:1115: Starting in XGBoost 1.3.0, the default evaluation metric used with the objective 'binary:logistic' was changed from 'error' to 'logloss'. Explicitly set eval_metric if you'd like to restore the old behavior.\n",
      "Accuracy score of XGBoost at random state 51  is:  0.9990867579908675\n",
      "[10:25:19] WARNING: C:/Users/Administrator/workspace/xgboost-win64_release_1.5.1/src/learner.cc:1115: Starting in XGBoost 1.3.0, the default evaluation metric used with the objective 'binary:logistic' was changed from 'error' to 'logloss'. Explicitly set eval_metric if you'd like to restore the old behavior.\n",
      "Accuracy score of XGBoost at random state 52  is:  0.9978082191780822\n",
      "[10:25:19] WARNING: C:/Users/Administrator/workspace/xgboost-win64_release_1.5.1/src/learner.cc:1115: Starting in XGBoost 1.3.0, the default evaluation metric used with the objective 'binary:logistic' was changed from 'error' to 'logloss'. Explicitly set eval_metric if you'd like to restore the old behavior.\n",
      "Accuracy score of XGBoost at random state 53  is:  0.9983561643835617\n",
      "[10:25:20] WARNING: C:/Users/Administrator/workspace/xgboost-win64_release_1.5.1/src/learner.cc:1115: Starting in XGBoost 1.3.0, the default evaluation metric used with the objective 'binary:logistic' was changed from 'error' to 'logloss'. Explicitly set eval_metric if you'd like to restore the old behavior.\n",
      "Accuracy score of XGBoost at random state 54  is:  0.9990867579908675\n",
      "[10:25:20] WARNING: C:/Users/Administrator/workspace/xgboost-win64_release_1.5.1/src/learner.cc:1115: Starting in XGBoost 1.3.0, the default evaluation metric used with the objective 'binary:logistic' was changed from 'error' to 'logloss'. Explicitly set eval_metric if you'd like to restore the old behavior.\n",
      "Accuracy score of XGBoost at random state 55  is:  0.9974429223744292\n",
      "[10:25:21] WARNING: C:/Users/Administrator/workspace/xgboost-win64_release_1.5.1/src/learner.cc:1115: Starting in XGBoost 1.3.0, the default evaluation metric used with the objective 'binary:logistic' was changed from 'error' to 'logloss'. Explicitly set eval_metric if you'd like to restore the old behavior.\n",
      "Accuracy score of XGBoost at random state 56  is:  0.9998173515981735\n",
      "[10:25:22] WARNING: C:/Users/Administrator/workspace/xgboost-win64_release_1.5.1/src/learner.cc:1115: Starting in XGBoost 1.3.0, the default evaluation metric used with the objective 'binary:logistic' was changed from 'error' to 'logloss'. Explicitly set eval_metric if you'd like to restore the old behavior.\n",
      "Accuracy score of XGBoost at random state 57  is:  0.9985388127853881\n",
      "[10:25:22] WARNING: C:/Users/Administrator/workspace/xgboost-win64_release_1.5.1/src/learner.cc:1115: Starting in XGBoost 1.3.0, the default evaluation metric used with the objective 'binary:logistic' was changed from 'error' to 'logloss'. Explicitly set eval_metric if you'd like to restore the old behavior.\n",
      "Accuracy score of XGBoost at random state 58  is:  0.9987214611872146\n",
      "[10:25:23] WARNING: C:/Users/Administrator/workspace/xgboost-win64_release_1.5.1/src/learner.cc:1115: Starting in XGBoost 1.3.0, the default evaluation metric used with the objective 'binary:logistic' was changed from 'error' to 'logloss'. Explicitly set eval_metric if you'd like to restore the old behavior.\n",
      "Accuracy score of XGBoost at random state 59  is:  0.9998173515981735\n",
      "[10:25:23] WARNING: C:/Users/Administrator/workspace/xgboost-win64_release_1.5.1/src/learner.cc:1115: Starting in XGBoost 1.3.0, the default evaluation metric used with the objective 'binary:logistic' was changed from 'error' to 'logloss'. Explicitly set eval_metric if you'd like to restore the old behavior.\n",
      "Accuracy score of XGBoost at random state 60  is:  0.9981735159817352\n",
      "[10:25:24] WARNING: C:/Users/Administrator/workspace/xgboost-win64_release_1.5.1/src/learner.cc:1115: Starting in XGBoost 1.3.0, the default evaluation metric used with the objective 'binary:logistic' was changed from 'error' to 'logloss'. Explicitly set eval_metric if you'd like to restore the old behavior.\n",
      "Accuracy score of XGBoost at random state 61  is:  0.9978082191780822\n",
      "[10:25:25] WARNING: C:/Users/Administrator/workspace/xgboost-win64_release_1.5.1/src/learner.cc:1115: Starting in XGBoost 1.3.0, the default evaluation metric used with the objective 'binary:logistic' was changed from 'error' to 'logloss'. Explicitly set eval_metric if you'd like to restore the old behavior.\n",
      "Accuracy score of XGBoost at random state 62  is:  0.9987214611872146\n",
      "[10:25:25] WARNING: C:/Users/Administrator/workspace/xgboost-win64_release_1.5.1/src/learner.cc:1115: Starting in XGBoost 1.3.0, the default evaluation metric used with the objective 'binary:logistic' was changed from 'error' to 'logloss'. Explicitly set eval_metric if you'd like to restore the old behavior.\n",
      "Accuracy score of XGBoost at random state 63  is:  0.9987214611872146\n",
      "[10:25:26] WARNING: C:/Users/Administrator/workspace/xgboost-win64_release_1.5.1/src/learner.cc:1115: Starting in XGBoost 1.3.0, the default evaluation metric used with the objective 'binary:logistic' was changed from 'error' to 'logloss'. Explicitly set eval_metric if you'd like to restore the old behavior.\n",
      "Accuracy score of XGBoost at random state 64  is:  0.9981735159817352\n",
      "[10:25:26] WARNING: C:/Users/Administrator/workspace/xgboost-win64_release_1.5.1/src/learner.cc:1115: Starting in XGBoost 1.3.0, the default evaluation metric used with the objective 'binary:logistic' was changed from 'error' to 'logloss'. Explicitly set eval_metric if you'd like to restore the old behavior.\n"
     ]
    },
    {
     "name": "stdout",
     "output_type": "stream",
     "text": [
      "Accuracy score of XGBoost at random state 65  is:  0.9981735159817352\n",
      "[10:25:27] WARNING: C:/Users/Administrator/workspace/xgboost-win64_release_1.5.1/src/learner.cc:1115: Starting in XGBoost 1.3.0, the default evaluation metric used with the objective 'binary:logistic' was changed from 'error' to 'logloss'. Explicitly set eval_metric if you'd like to restore the old behavior.\n",
      "Accuracy score of XGBoost at random state 66  is:  0.999269406392694\n",
      "[10:25:27] WARNING: C:/Users/Administrator/workspace/xgboost-win64_release_1.5.1/src/learner.cc:1115: Starting in XGBoost 1.3.0, the default evaluation metric used with the objective 'binary:logistic' was changed from 'error' to 'logloss'. Explicitly set eval_metric if you'd like to restore the old behavior.\n",
      "Accuracy score of XGBoost at random state 67  is:  0.9970776255707763\n",
      "[10:25:28] WARNING: C:/Users/Administrator/workspace/xgboost-win64_release_1.5.1/src/learner.cc:1115: Starting in XGBoost 1.3.0, the default evaluation metric used with the objective 'binary:logistic' was changed from 'error' to 'logloss'. Explicitly set eval_metric if you'd like to restore the old behavior.\n",
      "Accuracy score of XGBoost at random state 68  is:  0.9979908675799086\n",
      "[10:25:29] WARNING: C:/Users/Administrator/workspace/xgboost-win64_release_1.5.1/src/learner.cc:1115: Starting in XGBoost 1.3.0, the default evaluation metric used with the objective 'binary:logistic' was changed from 'error' to 'logloss'. Explicitly set eval_metric if you'd like to restore the old behavior.\n",
      "Accuracy score of XGBoost at random state 69  is:  0.9994520547945206\n",
      "[10:25:29] WARNING: C:/Users/Administrator/workspace/xgboost-win64_release_1.5.1/src/learner.cc:1115: Starting in XGBoost 1.3.0, the default evaluation metric used with the objective 'binary:logistic' was changed from 'error' to 'logloss'. Explicitly set eval_metric if you'd like to restore the old behavior.\n",
      "Accuracy score of XGBoost at random state 70  is:  0.9981735159817352\n",
      "[10:25:30] WARNING: C:/Users/Administrator/workspace/xgboost-win64_release_1.5.1/src/learner.cc:1115: Starting in XGBoost 1.3.0, the default evaluation metric used with the objective 'binary:logistic' was changed from 'error' to 'logloss'. Explicitly set eval_metric if you'd like to restore the old behavior.\n",
      "Accuracy score of XGBoost at random state 71  is:  0.999269406392694\n",
      "[10:25:30] WARNING: C:/Users/Administrator/workspace/xgboost-win64_release_1.5.1/src/learner.cc:1115: Starting in XGBoost 1.3.0, the default evaluation metric used with the objective 'binary:logistic' was changed from 'error' to 'logloss'. Explicitly set eval_metric if you'd like to restore the old behavior.\n",
      "Accuracy score of XGBoost at random state 72  is:  0.9987214611872146\n",
      "[10:25:31] WARNING: C:/Users/Administrator/workspace/xgboost-win64_release_1.5.1/src/learner.cc:1115: Starting in XGBoost 1.3.0, the default evaluation metric used with the objective 'binary:logistic' was changed from 'error' to 'logloss'. Explicitly set eval_metric if you'd like to restore the old behavior.\n",
      "Accuracy score of XGBoost at random state 73  is:  0.9987214611872146\n",
      "[10:25:32] WARNING: C:/Users/Administrator/workspace/xgboost-win64_release_1.5.1/src/learner.cc:1115: Starting in XGBoost 1.3.0, the default evaluation metric used with the objective 'binary:logistic' was changed from 'error' to 'logloss'. Explicitly set eval_metric if you'd like to restore the old behavior.\n",
      "Accuracy score of XGBoost at random state 74  is:  0.9979908675799086\n",
      "[10:25:32] WARNING: C:/Users/Administrator/workspace/xgboost-win64_release_1.5.1/src/learner.cc:1115: Starting in XGBoost 1.3.0, the default evaluation metric used with the objective 'binary:logistic' was changed from 'error' to 'logloss'. Explicitly set eval_metric if you'd like to restore the old behavior.\n",
      "Accuracy score of XGBoost at random state 75  is:  0.9979908675799086\n",
      "[10:25:33] WARNING: C:/Users/Administrator/workspace/xgboost-win64_release_1.5.1/src/learner.cc:1115: Starting in XGBoost 1.3.0, the default evaluation metric used with the objective 'binary:logistic' was changed from 'error' to 'logloss'. Explicitly set eval_metric if you'd like to restore the old behavior.\n",
      "Accuracy score of XGBoost at random state 76  is:  0.9983561643835617\n",
      "[10:25:33] WARNING: C:/Users/Administrator/workspace/xgboost-win64_release_1.5.1/src/learner.cc:1115: Starting in XGBoost 1.3.0, the default evaluation metric used with the objective 'binary:logistic' was changed from 'error' to 'logloss'. Explicitly set eval_metric if you'd like to restore the old behavior.\n",
      "Accuracy score of XGBoost at random state 77  is:  0.9974429223744292\n",
      "[10:25:34] WARNING: C:/Users/Administrator/workspace/xgboost-win64_release_1.5.1/src/learner.cc:1115: Starting in XGBoost 1.3.0, the default evaluation metric used with the objective 'binary:logistic' was changed from 'error' to 'logloss'. Explicitly set eval_metric if you'd like to restore the old behavior.\n",
      "Accuracy score of XGBoost at random state 78  is:  0.999269406392694\n",
      "[10:25:35] WARNING: C:/Users/Administrator/workspace/xgboost-win64_release_1.5.1/src/learner.cc:1115: Starting in XGBoost 1.3.0, the default evaluation metric used with the objective 'binary:logistic' was changed from 'error' to 'logloss'. Explicitly set eval_metric if you'd like to restore the old behavior.\n",
      "Accuracy score of XGBoost at random state 79  is:  0.9981735159817352\n",
      "[10:25:36] WARNING: C:/Users/Administrator/workspace/xgboost-win64_release_1.5.1/src/learner.cc:1115: Starting in XGBoost 1.3.0, the default evaluation metric used with the objective 'binary:logistic' was changed from 'error' to 'logloss'. Explicitly set eval_metric if you'd like to restore the old behavior.\n",
      "Accuracy score of XGBoost at random state 80  is:  0.9985388127853881\n",
      "[10:25:36] WARNING: C:/Users/Administrator/workspace/xgboost-win64_release_1.5.1/src/learner.cc:1115: Starting in XGBoost 1.3.0, the default evaluation metric used with the objective 'binary:logistic' was changed from 'error' to 'logloss'. Explicitly set eval_metric if you'd like to restore the old behavior.\n",
      "Accuracy score of XGBoost at random state 81  is:  0.9987214611872146\n",
      "[10:25:37] WARNING: C:/Users/Administrator/workspace/xgboost-win64_release_1.5.1/src/learner.cc:1115: Starting in XGBoost 1.3.0, the default evaluation metric used with the objective 'binary:logistic' was changed from 'error' to 'logloss'. Explicitly set eval_metric if you'd like to restore the old behavior.\n",
      "Accuracy score of XGBoost at random state 82  is:  0.9989041095890411\n",
      "[10:25:37] WARNING: C:/Users/Administrator/workspace/xgboost-win64_release_1.5.1/src/learner.cc:1115: Starting in XGBoost 1.3.0, the default evaluation metric used with the objective 'binary:logistic' was changed from 'error' to 'logloss'. Explicitly set eval_metric if you'd like to restore the old behavior.\n",
      "Accuracy score of XGBoost at random state 83  is:  0.9987214611872146\n",
      "[10:25:38] WARNING: C:/Users/Administrator/workspace/xgboost-win64_release_1.5.1/src/learner.cc:1115: Starting in XGBoost 1.3.0, the default evaluation metric used with the objective 'binary:logistic' was changed from 'error' to 'logloss'. Explicitly set eval_metric if you'd like to restore the old behavior.\n",
      "Accuracy score of XGBoost at random state 84  is:  0.9990867579908675\n",
      "[10:25:39] WARNING: C:/Users/Administrator/workspace/xgboost-win64_release_1.5.1/src/learner.cc:1115: Starting in XGBoost 1.3.0, the default evaluation metric used with the objective 'binary:logistic' was changed from 'error' to 'logloss'. Explicitly set eval_metric if you'd like to restore the old behavior.\n",
      "Accuracy score of XGBoost at random state 85  is:  0.9981735159817352\n",
      "[10:25:39] WARNING: C:/Users/Administrator/workspace/xgboost-win64_release_1.5.1/src/learner.cc:1115: Starting in XGBoost 1.3.0, the default evaluation metric used with the objective 'binary:logistic' was changed from 'error' to 'logloss'. Explicitly set eval_metric if you'd like to restore the old behavior.\n",
      "Accuracy score of XGBoost at random state 86  is:  0.999269406392694\n",
      "[10:25:40] WARNING: C:/Users/Administrator/workspace/xgboost-win64_release_1.5.1/src/learner.cc:1115: Starting in XGBoost 1.3.0, the default evaluation metric used with the objective 'binary:logistic' was changed from 'error' to 'logloss'. Explicitly set eval_metric if you'd like to restore the old behavior.\n"
     ]
    },
    {
     "name": "stdout",
     "output_type": "stream",
     "text": [
      "Accuracy score of XGBoost at random state 87  is:  0.999269406392694\n",
      "[10:25:40] WARNING: C:/Users/Administrator/workspace/xgboost-win64_release_1.5.1/src/learner.cc:1115: Starting in XGBoost 1.3.0, the default evaluation metric used with the objective 'binary:logistic' was changed from 'error' to 'logloss'. Explicitly set eval_metric if you'd like to restore the old behavior.\n",
      "Accuracy score of XGBoost at random state 88  is:  0.999269406392694\n",
      "[10:25:41] WARNING: C:/Users/Administrator/workspace/xgboost-win64_release_1.5.1/src/learner.cc:1115: Starting in XGBoost 1.3.0, the default evaluation metric used with the objective 'binary:logistic' was changed from 'error' to 'logloss'. Explicitly set eval_metric if you'd like to restore the old behavior.\n",
      "Accuracy score of XGBoost at random state 89  is:  0.999269406392694\n",
      "[10:25:42] WARNING: C:/Users/Administrator/workspace/xgboost-win64_release_1.5.1/src/learner.cc:1115: Starting in XGBoost 1.3.0, the default evaluation metric used with the objective 'binary:logistic' was changed from 'error' to 'logloss'. Explicitly set eval_metric if you'd like to restore the old behavior.\n",
      "Accuracy score of XGBoost at random state 90  is:  0.9987214611872146\n",
      "[10:25:42] WARNING: C:/Users/Administrator/workspace/xgboost-win64_release_1.5.1/src/learner.cc:1115: Starting in XGBoost 1.3.0, the default evaluation metric used with the objective 'binary:logistic' was changed from 'error' to 'logloss'. Explicitly set eval_metric if you'd like to restore the old behavior.\n",
      "Accuracy score of XGBoost at random state 91  is:  0.9990867579908675\n",
      "[10:25:43] WARNING: C:/Users/Administrator/workspace/xgboost-win64_release_1.5.1/src/learner.cc:1115: Starting in XGBoost 1.3.0, the default evaluation metric used with the objective 'binary:logistic' was changed from 'error' to 'logloss'. Explicitly set eval_metric if you'd like to restore the old behavior.\n",
      "Accuracy score of XGBoost at random state 92  is:  0.9981735159817352\n",
      "[10:25:44] WARNING: C:/Users/Administrator/workspace/xgboost-win64_release_1.5.1/src/learner.cc:1115: Starting in XGBoost 1.3.0, the default evaluation metric used with the objective 'binary:logistic' was changed from 'error' to 'logloss'. Explicitly set eval_metric if you'd like to restore the old behavior.\n",
      "Accuracy score of XGBoost at random state 93  is:  0.9990867579908675\n",
      "[10:25:44] WARNING: C:/Users/Administrator/workspace/xgboost-win64_release_1.5.1/src/learner.cc:1115: Starting in XGBoost 1.3.0, the default evaluation metric used with the objective 'binary:logistic' was changed from 'error' to 'logloss'. Explicitly set eval_metric if you'd like to restore the old behavior.\n",
      "Accuracy score of XGBoost at random state 94  is:  0.9989041095890411\n",
      "[10:25:45] WARNING: C:/Users/Administrator/workspace/xgboost-win64_release_1.5.1/src/learner.cc:1115: Starting in XGBoost 1.3.0, the default evaluation metric used with the objective 'binary:logistic' was changed from 'error' to 'logloss'. Explicitly set eval_metric if you'd like to restore the old behavior.\n",
      "Accuracy score of XGBoost at random state 95  is:  0.9985388127853881\n",
      "[10:25:45] WARNING: C:/Users/Administrator/workspace/xgboost-win64_release_1.5.1/src/learner.cc:1115: Starting in XGBoost 1.3.0, the default evaluation metric used with the objective 'binary:logistic' was changed from 'error' to 'logloss'. Explicitly set eval_metric if you'd like to restore the old behavior.\n",
      "Accuracy score of XGBoost at random state 96  is:  0.9983561643835617\n",
      "[10:25:46] WARNING: C:/Users/Administrator/workspace/xgboost-win64_release_1.5.1/src/learner.cc:1115: Starting in XGBoost 1.3.0, the default evaluation metric used with the objective 'binary:logistic' was changed from 'error' to 'logloss'. Explicitly set eval_metric if you'd like to restore the old behavior.\n",
      "Accuracy score of XGBoost at random state 97  is:  0.9981735159817352\n",
      "[10:25:46] WARNING: C:/Users/Administrator/workspace/xgboost-win64_release_1.5.1/src/learner.cc:1115: Starting in XGBoost 1.3.0, the default evaluation metric used with the objective 'binary:logistic' was changed from 'error' to 'logloss'. Explicitly set eval_metric if you'd like to restore the old behavior.\n",
      "Accuracy score of XGBoost at random state 98  is:  0.9985388127853881\n",
      "[10:25:47] WARNING: C:/Users/Administrator/workspace/xgboost-win64_release_1.5.1/src/learner.cc:1115: Starting in XGBoost 1.3.0, the default evaluation metric used with the objective 'binary:logistic' was changed from 'error' to 'logloss'. Explicitly set eval_metric if you'd like to restore the old behavior.\n",
      "Accuracy score of XGBoost at random state 99  is:  0.9979908675799086\n"
     ]
    }
   ],
   "source": [
    "#finding best random state for XGBoost\n",
    "\n",
    "for i in range(0,100):\n",
    "    x_train,x_test,y_train,y_test=train_test_split(x,y,test_size=.30,random_state=i)\n",
    "    xgb.fit(x_train,y_train)\n",
    "    y_pred=xgb.predict(x_test)\n",
    "    acc = accuracy_score(y_test,y_pred)\n",
    "    print('Accuracy score of XGBoost at random state',i,' is: ',acc)"
   ]
  },
  {
   "cell_type": "markdown",
   "id": "aea66d99",
   "metadata": {},
   "source": [
    "We see that highest accuracy score is achieved at random state 56 hence we will be using random state 56 in XGBoost algorithm."
   ]
  },
  {
   "cell_type": "code",
   "execution_count": 44,
   "id": "a754ee05",
   "metadata": {},
   "outputs": [],
   "source": [
    "#applying ML models with best random states"
   ]
  },
  {
   "cell_type": "code",
   "execution_count": 45,
   "id": "5b57f5c9",
   "metadata": {},
   "outputs": [
    {
     "name": "stdout",
     "output_type": "stream",
     "text": [
      "Accuracy score of Logistic regression is:  0.850593607305936\n"
     ]
    }
   ],
   "source": [
    "#Logistic Regression\n",
    "\n",
    "x_train,x_test,y_train,y_test=train_test_split(x,y,test_size=.30,random_state=94)\n",
    "lr.fit(x_train,y_train)\n",
    "y_pred=lr.predict(x_test)\n",
    "acc = accuracy_score(y_test,y_pred)\n",
    "print('Accuracy score of Logistic regression is: ',acc)"
   ]
  },
  {
   "cell_type": "code",
   "execution_count": 46,
   "id": "9c76ddbd",
   "metadata": {},
   "outputs": [
    {
     "name": "stdout",
     "output_type": "stream",
     "text": [
      "Accuracy score of Random forest classifier is:  0.9987214611872146\n"
     ]
    }
   ],
   "source": [
    "#Random Forest CLassifier\n",
    "\n",
    "x_train,x_test,y_train,y_test=train_test_split(x,y,test_size=.30,random_state=56)\n",
    "rfc.fit(x_train,y_train)\n",
    "y_pred=rfc.predict(x_test)\n",
    "acc = accuracy_score(y_test,y_pred)\n",
    "print('Accuracy score of Random forest classifier is: ',acc)"
   ]
  },
  {
   "cell_type": "code",
   "execution_count": 47,
   "id": "8ea45bff",
   "metadata": {},
   "outputs": [
    {
     "name": "stdout",
     "output_type": "stream",
     "text": [
      "Accuracy score of Decision Tree classifier is:  0.9930593607305936\n"
     ]
    }
   ],
   "source": [
    "#Decision Tree Classifier\n",
    "\n",
    "x_train,x_test,y_train,y_test=train_test_split(x,y,test_size=.30,random_state=36)\n",
    "dtc.fit(x_train,y_train)\n",
    "y_pred=dtc.predict(x_test)acc = accuracy_score(y_test,y_pred)\n",
    "print('Accuracy score of Decision Tree classifier is: ',acc)"
   ]
  },
  {
   "cell_type": "code",
   "execution_count": 49,
   "id": "e4b33597",
   "metadata": {},
   "outputs": [
    {
     "name": "stdout",
     "output_type": "stream",
     "text": [
      "[10:45:15] WARNING: C:/Users/Administrator/workspace/xgboost-win64_release_1.5.1/src/learner.cc:1115: Starting in XGBoost 1.3.0, the default evaluation metric used with the objective 'binary:logistic' was changed from 'error' to 'logloss'. Explicitly set eval_metric if you'd like to restore the old behavior.\n",
      "Accuracy score of XGBoost classifier is:  0.9998173515981735\n"
     ]
    }
   ],
   "source": [
    "#XGBoost Classifier\n",
    "\n",
    "x_train,x_test,y_train,y_test=train_test_split(x,y,test_size=.30,random_state=56)\n",
    "xgb.fit(x_train,y_train)\n",
    "y_pred=xgb.predict(x_test)\n",
    "acc = accuracy_score(y_test,y_pred)\n",
    "print('Accuracy score of XGBoost classifier is: ',acc)"
   ]
  },
  {
   "cell_type": "markdown",
   "id": "61e306d2",
   "metadata": {},
   "source": [
    "# Cross Validation"
   ]
  },
  {
   "cell_type": "code",
   "execution_count": 50,
   "id": "ac0405e4",
   "metadata": {},
   "outputs": [],
   "source": [
    "from sklearn.model_selection import cross_val_score"
   ]
  },
  {
   "cell_type": "code",
   "execution_count": 51,
   "id": "a8ac1b32",
   "metadata": {},
   "outputs": [
    {
     "name": "stdout",
     "output_type": "stream",
     "text": [
      "0.8291961203353609\n"
     ]
    }
   ],
   "source": [
    "cv_score = cross_val_score(lr,x,y,cv=7)\n",
    "print(np.mean(cv_score))"
   ]
  },
  {
   "cell_type": "code",
   "execution_count": 52,
   "id": "a615558d",
   "metadata": {},
   "outputs": [
    {
     "name": "stdout",
     "output_type": "stream",
     "text": [
      "0.9881637349991781\n"
     ]
    }
   ],
   "source": [
    "cv_score = cross_val_score(rfc,x,y,cv=7)\n",
    "print(np.mean(cv_score))"
   ]
  },
  {
   "cell_type": "code",
   "execution_count": 53,
   "id": "430cb654",
   "metadata": {},
   "outputs": [
    {
     "name": "stdout",
     "output_type": "stream",
     "text": [
      "0.9751767220121651\n"
     ]
    }
   ],
   "source": [
    "cv_score = cross_val_score(dtc,x,y,cv=7)\n",
    "print(np.mean(cv_score))"
   ]
  },
  {
   "cell_type": "code",
   "execution_count": 54,
   "id": "541cac95",
   "metadata": {
    "collapsed": true
   },
   "outputs": [
    {
     "name": "stdout",
     "output_type": "stream",
     "text": [
      "[10:50:54] WARNING: C:/Users/Administrator/workspace/xgboost-win64_release_1.5.1/src/learner.cc:1115: Starting in XGBoost 1.3.0, the default evaluation metric used with the objective 'binary:logistic' was changed from 'error' to 'logloss'. Explicitly set eval_metric if you'd like to restore the old behavior.\n",
      "[10:50:54] WARNING: C:/Users/Administrator/workspace/xgboost-win64_release_1.5.1/src/learner.cc:1115: Starting in XGBoost 1.3.0, the default evaluation metric used with the objective 'binary:logistic' was changed from 'error' to 'logloss'. Explicitly set eval_metric if you'd like to restore the old behavior.\n",
      "[10:50:55] WARNING: C:/Users/Administrator/workspace/xgboost-win64_release_1.5.1/src/learner.cc:1115: Starting in XGBoost 1.3.0, the default evaluation metric used with the objective 'binary:logistic' was changed from 'error' to 'logloss'. Explicitly set eval_metric if you'd like to restore the old behavior.\n",
      "[10:50:55] WARNING: C:/Users/Administrator/workspace/xgboost-win64_release_1.5.1/src/learner.cc:1115: Starting in XGBoost 1.3.0, the default evaluation metric used with the objective 'binary:logistic' was changed from 'error' to 'logloss'. Explicitly set eval_metric if you'd like to restore the old behavior.\n",
      "[10:50:56] WARNING: C:/Users/Administrator/workspace/xgboost-win64_release_1.5.1/src/learner.cc:1115: Starting in XGBoost 1.3.0, the default evaluation metric used with the objective 'binary:logistic' was changed from 'error' to 'logloss'. Explicitly set eval_metric if you'd like to restore the old behavior.\n",
      "[10:50:56] WARNING: C:/Users/Administrator/workspace/xgboost-win64_release_1.5.1/src/learner.cc:1115: Starting in XGBoost 1.3.0, the default evaluation metric used with the objective 'binary:logistic' was changed from 'error' to 'logloss'. Explicitly set eval_metric if you'd like to restore the old behavior.\n",
      "[10:50:57] WARNING: C:/Users/Administrator/workspace/xgboost-win64_release_1.5.1/src/learner.cc:1115: Starting in XGBoost 1.3.0, the default evaluation metric used with the objective 'binary:logistic' was changed from 'error' to 'logloss'. Explicitly set eval_metric if you'd like to restore the old behavior.\n",
      "0.9896432681242807\n"
     ]
    }
   ],
   "source": [
    "cv_score = cross_val_score(xgb,x,y,cv=7)\n",
    "print(np.mean(cv_score))"
   ]
  },
  {
   "cell_type": "markdown",
   "id": "df6faee6",
   "metadata": {},
   "source": [
    "We have observed that XGBoost Classifier has least difference between CV score and accuracy and highest accuracy too among all 4 models hence XGBoost classifier will be our final model."
   ]
  },
  {
   "cell_type": "code",
   "execution_count": null,
   "id": "141c949f",
   "metadata": {},
   "outputs": [],
   "source": []
  },
  {
   "cell_type": "markdown",
   "id": "e9605309",
   "metadata": {},
   "source": [
    "# Hyper parameter tuning"
   ]
  },
  {
   "cell_type": "code",
   "execution_count": 55,
   "id": "39c8619e",
   "metadata": {},
   "outputs": [],
   "source": [
    "from sklearn.model_selection import RandomizedSearchCV"
   ]
  },
  {
   "cell_type": "code",
   "execution_count": 61,
   "id": "72a10967",
   "metadata": {},
   "outputs": [],
   "source": [
    "parameters = {\n",
    "    \"max_depth\" :[3,4,5,6,8,10,12,15],\n",
    "    \"learning_rate\" : [0.05, 0.10 , 0.15 , 0.20 , 0.25 , 0.30],\n",
    "    \"gamma\" : [0.1,0.2,0.3,0.4],\n",
    "    \"min_child_weight\" : [1,3,5,7]\n",
    "}"
   ]
  },
  {
   "cell_type": "code",
   "execution_count": 66,
   "id": "5993fb7e",
   "metadata": {
    "scrolled": false
   },
   "outputs": [
    {
     "data": {
      "text/plain": [
       "RandomizedSearchCV(cv=7,\n",
       "                   estimator=XGBClassifier(base_score=None, booster=None,\n",
       "                                           colsample_bylevel=None,\n",
       "                                           colsample_bynode=None,\n",
       "                                           colsample_bytree=None,\n",
       "                                           enable_categorical=False,\n",
       "                                           eval_metric='logloss', gamma=None,\n",
       "                                           gpu_id=None, importance_type=None,\n",
       "                                           interaction_constraints=None,\n",
       "                                           learning_rate=None,\n",
       "                                           max_delta_step=None, max_depth=None,\n",
       "                                           min_child_weight=None, missing=na...\n",
       "                                           n_estimators=100, n_jobs=None,\n",
       "                                           num_parallel_tree=None,\n",
       "                                           predictor=None, random_state=None,\n",
       "                                           reg_alpha=None, reg_lambda=None,\n",
       "                                           scale_pos_weight=None,\n",
       "                                           subsample=None, tree_method=None,\n",
       "                                           validate_parameters=None,\n",
       "                                           verbosity=None),\n",
       "                   param_distributions={'gamma': [0.1, 0.2, 0.3, 0.4],\n",
       "                                        'learning_rate': [0.05, 0.1, 0.15, 0.2,\n",
       "                                                          0.25, 0.3],\n",
       "                                        'max_depth': [3, 4, 5, 6, 8, 10, 12,\n",
       "                                                      15],\n",
       "                                        'min_child_weight': [1, 3, 5, 7]})"
      ]
     },
     "execution_count": 66,
     "metadata": {},
     "output_type": "execute_result"
    }
   ],
   "source": [
    "RSV = RandomizedSearchCV(xgb,parameters,cv=7)\n",
    "RSV.fit(x_train,y_train)"
   ]
  },
  {
   "cell_type": "code",
   "execution_count": 67,
   "id": "660eaa2e",
   "metadata": {},
   "outputs": [
    {
     "data": {
      "text/plain": [
       "{'min_child_weight': 1, 'max_depth': 3, 'learning_rate': 0.3, 'gamma': 0.3}"
      ]
     },
     "execution_count": 67,
     "metadata": {},
     "output_type": "execute_result"
    }
   ],
   "source": [
    "RSV.best_params_"
   ]
  },
  {
   "cell_type": "code",
   "execution_count": 68,
   "id": "00d22ea8",
   "metadata": {},
   "outputs": [],
   "source": [
    "#apply above best parameters on XGBoost model to improve our accuracy"
   ]
  },
  {
   "cell_type": "code",
   "execution_count": 74,
   "id": "b2c6d478",
   "metadata": {},
   "outputs": [
    {
     "name": "stdout",
     "output_type": "stream",
     "text": [
      "Accuracy score of XGBoost classifier is:  0.9996347031963471\n"
     ]
    }
   ],
   "source": [
    "xgb_final = XGBClassifier(eval_metric='logloss', min_child_weight=1, max_depth= 3, learning_rate= 0.3, gamma= 0.3 )\n",
    "x_train,x_test,y_train,y_test=train_test_split(x,y,test_size=.30,random_state=56)\n",
    "xgb_final.fit(x_train,y_train)\n",
    "y_pred=xgb_final.predict(x_test)\n",
    "acc = accuracy_score(y_test,y_pred)\n",
    "print('Accuracy score of XGBoost classifier is: ',acc)"
   ]
  },
  {
   "cell_type": "code",
   "execution_count": null,
   "id": "fa2edcef",
   "metadata": {},
   "outputs": [],
   "source": []
  },
  {
   "cell_type": "markdown",
   "id": "23330dc7",
   "metadata": {},
   "source": [
    "# PART 2: REGRESSION PROBLEM"
   ]
  },
  {
   "cell_type": "code",
   "execution_count": 81,
   "id": "870af344",
   "metadata": {},
   "outputs": [
    {
     "data": {
      "text/plain": [
       "Index(['AveragePrice', 'Total Volume', '4046', '4225', '4770', 'Total Bags',\n",
       "       'Small Bags', 'Large Bags', 'XLarge Bags', 'type', 'year', 'region',\n",
       "       'Day', 'Month', 'Year'],\n",
       "      dtype='object')"
      ]
     },
     "execution_count": 81,
     "metadata": {},
     "output_type": "execute_result"
    }
   ],
   "source": [
    "df.columns"
   ]
  },
  {
   "cell_type": "code",
   "execution_count": 82,
   "id": "f3a5f41c",
   "metadata": {},
   "outputs": [],
   "source": [
    "X = df.drop('AveragePrice',axis=1)\n",
    "y= df['AveragePrice']"
   ]
  },
  {
   "cell_type": "code",
   "execution_count": 83,
   "id": "79545053",
   "metadata": {},
   "outputs": [
    {
     "data": {
      "text/html": [
       "<div>\n",
       "<style scoped>\n",
       "    .dataframe tbody tr th:only-of-type {\n",
       "        vertical-align: middle;\n",
       "    }\n",
       "\n",
       "    .dataframe tbody tr th {\n",
       "        vertical-align: top;\n",
       "    }\n",
       "\n",
       "    .dataframe thead th {\n",
       "        text-align: right;\n",
       "    }\n",
       "</style>\n",
       "<table border=\"1\" class=\"dataframe\">\n",
       "  <thead>\n",
       "    <tr style=\"text-align: right;\">\n",
       "      <th></th>\n",
       "      <th>Total Volume</th>\n",
       "      <th>4046</th>\n",
       "      <th>4225</th>\n",
       "      <th>4770</th>\n",
       "      <th>Total Bags</th>\n",
       "      <th>Small Bags</th>\n",
       "      <th>Large Bags</th>\n",
       "      <th>XLarge Bags</th>\n",
       "      <th>type</th>\n",
       "      <th>year</th>\n",
       "      <th>region</th>\n",
       "      <th>Day</th>\n",
       "      <th>Month</th>\n",
       "      <th>Year</th>\n",
       "    </tr>\n",
       "  </thead>\n",
       "  <tbody>\n",
       "    <tr>\n",
       "      <th>0</th>\n",
       "      <td>64236.62</td>\n",
       "      <td>1036.74</td>\n",
       "      <td>54454.85</td>\n",
       "      <td>48.16</td>\n",
       "      <td>8696.87</td>\n",
       "      <td>8603.62</td>\n",
       "      <td>93.25</td>\n",
       "      <td>0.0</td>\n",
       "      <td>0</td>\n",
       "      <td>2015</td>\n",
       "      <td>0</td>\n",
       "      <td>27</td>\n",
       "      <td>12</td>\n",
       "      <td>2015</td>\n",
       "    </tr>\n",
       "    <tr>\n",
       "      <th>1</th>\n",
       "      <td>54876.98</td>\n",
       "      <td>674.28</td>\n",
       "      <td>44638.81</td>\n",
       "      <td>58.33</td>\n",
       "      <td>9505.56</td>\n",
       "      <td>9408.07</td>\n",
       "      <td>97.49</td>\n",
       "      <td>0.0</td>\n",
       "      <td>0</td>\n",
       "      <td>2015</td>\n",
       "      <td>0</td>\n",
       "      <td>20</td>\n",
       "      <td>12</td>\n",
       "      <td>2015</td>\n",
       "    </tr>\n",
       "    <tr>\n",
       "      <th>2</th>\n",
       "      <td>118220.22</td>\n",
       "      <td>794.70</td>\n",
       "      <td>109149.67</td>\n",
       "      <td>130.50</td>\n",
       "      <td>8145.35</td>\n",
       "      <td>8042.21</td>\n",
       "      <td>103.14</td>\n",
       "      <td>0.0</td>\n",
       "      <td>0</td>\n",
       "      <td>2015</td>\n",
       "      <td>0</td>\n",
       "      <td>13</td>\n",
       "      <td>12</td>\n",
       "      <td>2015</td>\n",
       "    </tr>\n",
       "    <tr>\n",
       "      <th>3</th>\n",
       "      <td>78992.15</td>\n",
       "      <td>1132.00</td>\n",
       "      <td>71976.41</td>\n",
       "      <td>72.58</td>\n",
       "      <td>5811.16</td>\n",
       "      <td>5677.40</td>\n",
       "      <td>133.76</td>\n",
       "      <td>0.0</td>\n",
       "      <td>0</td>\n",
       "      <td>2015</td>\n",
       "      <td>0</td>\n",
       "      <td>6</td>\n",
       "      <td>12</td>\n",
       "      <td>2015</td>\n",
       "    </tr>\n",
       "    <tr>\n",
       "      <th>4</th>\n",
       "      <td>51039.60</td>\n",
       "      <td>941.48</td>\n",
       "      <td>43838.39</td>\n",
       "      <td>75.78</td>\n",
       "      <td>6183.95</td>\n",
       "      <td>5986.26</td>\n",
       "      <td>197.69</td>\n",
       "      <td>0.0</td>\n",
       "      <td>0</td>\n",
       "      <td>2015</td>\n",
       "      <td>0</td>\n",
       "      <td>29</td>\n",
       "      <td>11</td>\n",
       "      <td>2015</td>\n",
       "    </tr>\n",
       "  </tbody>\n",
       "</table>\n",
       "</div>"
      ],
      "text/plain": [
       "   Total Volume     4046       4225    4770  Total Bags  Small Bags  \\\n",
       "0      64236.62  1036.74   54454.85   48.16     8696.87     8603.62   \n",
       "1      54876.98   674.28   44638.81   58.33     9505.56     9408.07   \n",
       "2     118220.22   794.70  109149.67  130.50     8145.35     8042.21   \n",
       "3      78992.15  1132.00   71976.41   72.58     5811.16     5677.40   \n",
       "4      51039.60   941.48   43838.39   75.78     6183.95     5986.26   \n",
       "\n",
       "   Large Bags  XLarge Bags  type  year  region  Day  Month  Year  \n",
       "0       93.25          0.0     0  2015       0   27     12  2015  \n",
       "1       97.49          0.0     0  2015       0   20     12  2015  \n",
       "2      103.14          0.0     0  2015       0   13     12  2015  \n",
       "3      133.76          0.0     0  2015       0    6     12  2015  \n",
       "4      197.69          0.0     0  2015       0   29     11  2015  "
      ]
     },
     "execution_count": 83,
     "metadata": {},
     "output_type": "execute_result"
    }
   ],
   "source": [
    "X.head()"
   ]
  },
  {
   "cell_type": "code",
   "execution_count": 84,
   "id": "497cca16",
   "metadata": {},
   "outputs": [
    {
     "data": {
      "text/plain": [
       "0        1.33\n",
       "1        1.35\n",
       "2        0.93\n",
       "3        1.08\n",
       "4        1.28\n",
       "         ... \n",
       "18244    1.63\n",
       "18245    1.71\n",
       "18246    1.87\n",
       "18247    1.93\n",
       "18248    1.62\n",
       "Name: AveragePrice, Length: 18249, dtype: float64"
      ]
     },
     "execution_count": 84,
     "metadata": {},
     "output_type": "execute_result"
    }
   ],
   "source": [
    "y"
   ]
  },
  {
   "cell_type": "code",
   "execution_count": 85,
   "id": "485aaa7c",
   "metadata": {},
   "outputs": [
    {
     "data": {
      "text/plain": [
       "array([[1.02634162e-03, 4.55837802e-05, 2.66015275e-03, ...,\n",
       "        8.66666667e-01, 1.00000000e+00, 0.00000000e+00],\n",
       "       [8.76600710e-04, 2.96470005e-05, 2.18063319e-03, ...,\n",
       "        6.33333333e-01, 1.00000000e+00, 0.00000000e+00],\n",
       "       [1.89000237e-03, 3.49416730e-05, 5.33202818e-03, ...,\n",
       "        4.00000000e-01, 1.00000000e+00, 0.00000000e+00],\n",
       "       ...,\n",
       "       [2.18895720e-04, 5.24067937e-05, 1.19820293e-04, ...,\n",
       "        6.66666667e-01, 0.00000000e+00, 1.00000000e+00],\n",
       "       [2.57907608e-04, 6.71674191e-05, 1.45625628e-04, ...,\n",
       "        4.33333333e-01, 0.00000000e+00, 1.00000000e+00],\n",
       "       [2.78455540e-04, 1.27278353e-04, 1.15098392e-04, ...,\n",
       "        2.00000000e-01, 0.00000000e+00, 1.00000000e+00]])"
      ]
     },
     "execution_count": 85,
     "metadata": {},
     "output_type": "execute_result"
    }
   ],
   "source": [
    "#scaling feature columns\n",
    "X = scaler.fit_transform(X)\n",
    "X"
   ]
  },
  {
   "cell_type": "code",
   "execution_count": 93,
   "id": "cc5bff29",
   "metadata": {},
   "outputs": [],
   "source": [
    "#importing regression models\n",
    "\n",
    "from sklearn.linear_model import LinearRegression\n",
    "from sklearn.linear_model import Ridge\n",
    "from sklearn.linear_model import Lasso\n",
    "from sklearn.svm import SVR\n",
    "from sklearn.metrics import r2_score\n",
    "from sklearn.metrics import mean_absolute_error\n",
    "from sklearn.metrics import mean_squared_error\n",
    "\n",
    "linr = LinearRegression()\n",
    "rd = Ridge()\n",
    "ls = Lasso()\n",
    "svr = SVR()"
   ]
  },
  {
   "cell_type": "code",
   "execution_count": 96,
   "id": "d2a34ac9",
   "metadata": {
    "collapsed": true
   },
   "outputs": [
    {
     "name": "stdout",
     "output_type": "stream",
     "text": [
      "r2 score of Linear regression at random state 0  is:  0.4370490140251847\n",
      "r2 score of Linear regression at random state 1  is:  0.434942356828792\n",
      "r2 score of Linear regression at random state 2  is:  0.4284349874295863\n",
      "r2 score of Linear regression at random state 3  is:  0.44182470334435453\n",
      "r2 score of Linear regression at random state 4  is:  0.43084695716139465\n",
      "r2 score of Linear regression at random state 5  is:  0.441703221279902\n",
      "r2 score of Linear regression at random state 6  is:  0.4540652118157271\n",
      "r2 score of Linear regression at random state 7  is:  0.44075124562074086\n",
      "r2 score of Linear regression at random state 8  is:  0.4357198998158599\n",
      "r2 score of Linear regression at random state 9  is:  0.4171584100523349\n",
      "r2 score of Linear regression at random state 10  is:  0.4368473310656358\n",
      "r2 score of Linear regression at random state 11  is:  0.43671874867241167\n",
      "r2 score of Linear regression at random state 12  is:  0.44544002611584244\n",
      "r2 score of Linear regression at random state 13  is:  0.4277586040744903\n",
      "r2 score of Linear regression at random state 14  is:  0.4394455516338166\n",
      "r2 score of Linear regression at random state 15  is:  0.43262353143943677\n",
      "r2 score of Linear regression at random state 16  is:  0.4415049768450807\n",
      "r2 score of Linear regression at random state 17  is:  0.4312585664423627\n",
      "r2 score of Linear regression at random state 18  is:  0.4382777236285339\n",
      "r2 score of Linear regression at random state 19  is:  0.4301098163113939\n",
      "r2 score of Linear regression at random state 20  is:  0.4499957110927396\n",
      "r2 score of Linear regression at random state 21  is:  0.43159149977661226\n",
      "r2 score of Linear regression at random state 22  is:  0.4370710975252312\n",
      "r2 score of Linear regression at random state 23  is:  0.4368471379146438\n",
      "r2 score of Linear regression at random state 24  is:  0.4314591889793964\n",
      "r2 score of Linear regression at random state 25  is:  0.44175236526934925\n",
      "r2 score of Linear regression at random state 26  is:  0.43217512849576156\n",
      "r2 score of Linear regression at random state 27  is:  0.444776423325682\n",
      "r2 score of Linear regression at random state 28  is:  0.45163187662503324\n",
      "r2 score of Linear regression at random state 29  is:  0.446604827462351\n",
      "r2 score of Linear regression at random state 30  is:  0.44264007248397563\n",
      "r2 score of Linear regression at random state 31  is:  0.4214534493740997\n",
      "r2 score of Linear regression at random state 32  is:  0.4214850276589355\n",
      "r2 score of Linear regression at random state 33  is:  0.4461564036373351\n",
      "r2 score of Linear regression at random state 34  is:  0.4266056703092541\n",
      "r2 score of Linear regression at random state 35  is:  0.4357235953904661\n",
      "r2 score of Linear regression at random state 36  is:  0.4192360804978009\n",
      "r2 score of Linear regression at random state 37  is:  0.4350253965990831\n",
      "r2 score of Linear regression at random state 38  is:  0.44890507981862904\n",
      "r2 score of Linear regression at random state 39  is:  0.43202426445089215\n",
      "r2 score of Linear regression at random state 40  is:  0.41596171325258413\n",
      "r2 score of Linear regression at random state 41  is:  0.4437601921130996\n",
      "r2 score of Linear regression at random state 42  is:  0.4266500306332387\n",
      "r2 score of Linear regression at random state 43  is:  0.435352720280092\n",
      "r2 score of Linear regression at random state 44  is:  0.43326145988240583\n",
      "r2 score of Linear regression at random state 45  is:  0.42929615859570847\n",
      "r2 score of Linear regression at random state 46  is:  0.43656396146109\n",
      "r2 score of Linear regression at random state 47  is:  0.4317622686283138\n",
      "r2 score of Linear regression at random state 48  is:  0.44730293104053787\n",
      "r2 score of Linear regression at random state 49  is:  0.4446583756954555\n",
      "r2 score of Linear regression at random state 50  is:  0.4403289521434032\n",
      "r2 score of Linear regression at random state 51  is:  0.43866855992123743\n",
      "r2 score of Linear regression at random state 52  is:  0.43050324098811465\n",
      "r2 score of Linear regression at random state 53  is:  0.4410646634545321\n",
      "r2 score of Linear regression at random state 54  is:  0.4315960243883993\n",
      "r2 score of Linear regression at random state 55  is:  0.43928611673211115\n",
      "r2 score of Linear regression at random state 56  is:  0.4400856907877071\n",
      "r2 score of Linear regression at random state 57  is:  0.42717094068864747\n",
      "r2 score of Linear regression at random state 58  is:  0.4370324374189405\n",
      "r2 score of Linear regression at random state 59  is:  0.4302904709647135\n",
      "r2 score of Linear regression at random state 60  is:  0.43718431448698025\n",
      "r2 score of Linear regression at random state 61  is:  0.416310044232166\n",
      "r2 score of Linear regression at random state 62  is:  0.44731998338307877\n",
      "r2 score of Linear regression at random state 63  is:  0.4446726899172664\n",
      "r2 score of Linear regression at random state 64  is:  0.4366031385053174\n",
      "r2 score of Linear regression at random state 65  is:  0.438516400084739\n",
      "r2 score of Linear regression at random state 66  is:  0.4560684336539361\n",
      "r2 score of Linear regression at random state 67  is:  0.4293104899034502\n",
      "r2 score of Linear regression at random state 68  is:  0.44079383079760304\n",
      "r2 score of Linear regression at random state 69  is:  0.4450693475547327\n",
      "r2 score of Linear regression at random state 70  is:  0.4395471478134604\n",
      "r2 score of Linear regression at random state 71  is:  0.4478235241046701\n",
      "r2 score of Linear regression at random state 72  is:  0.42730048542040644\n",
      "r2 score of Linear regression at random state 73  is:  0.43743780409339383\n",
      "r2 score of Linear regression at random state 74  is:  0.4387163225752214\n",
      "r2 score of Linear regression at random state 75  is:  0.4260870699834398\n",
      "r2 score of Linear regression at random state 76  is:  0.44906237514500813\n",
      "r2 score of Linear regression at random state 77  is:  0.44773684003931524\n",
      "r2 score of Linear regression at random state 78  is:  0.43317297505794505\n",
      "r2 score of Linear regression at random state 79  is:  0.4598274412666723\n",
      "r2 score of Linear regression at random state 80  is:  0.42414476694711134\n",
      "r2 score of Linear regression at random state 81  is:  0.43108445567404063\n",
      "r2 score of Linear regression at random state 82  is:  0.43853426581413446\n",
      "r2 score of Linear regression at random state 83  is:  0.43804694524190346\n",
      "r2 score of Linear regression at random state 84  is:  0.4306229399569915\n",
      "r2 score of Linear regression at random state 85  is:  0.4504948600981822\n",
      "r2 score of Linear regression at random state 86  is:  0.4406651003251373\n",
      "r2 score of Linear regression at random state 87  is:  0.44095195041753976\n",
      "r2 score of Linear regression at random state 88  is:  0.4538384230881408\n",
      "r2 score of Linear regression at random state 89  is:  0.4410688708914031\n",
      "r2 score of Linear regression at random state 90  is:  0.4305278053184358\n",
      "r2 score of Linear regression at random state 91  is:  0.4342322590755292\n",
      "r2 score of Linear regression at random state 92  is:  0.44440436888257007\n",
      "r2 score of Linear regression at random state 93  is:  0.43763513309028956\n",
      "r2 score of Linear regression at random state 94  is:  0.4626440933810815\n",
      "r2 score of Linear regression at random state 95  is:  0.42647241960007853\n",
      "r2 score of Linear regression at random state 96  is:  0.44122433157762075\n",
      "r2 score of Linear regression at random state 97  is:  0.4237240757283688\n",
      "r2 score of Linear regression at random state 98  is:  0.43992711167507614\n",
      "r2 score of Linear regression at random state 99  is:  0.4259486411166534\n"
     ]
    }
   ],
   "source": [
    "#finding best random state\n",
    "\n",
    "#finding best random state for Linear regression\n",
    "\n",
    "for i in range(0,100):\n",
    "    X_train,X_test,y_train,y_test=train_test_split(X,y,test_size=.30,random_state=i)\n",
    "    linr.fit(X_train,y_train)\n",
    "    y_pred=linr.predict(X_test)\n",
    "    R2_score = r2_score(y_test,y_pred)\n",
    "    print('r2 score of Linear regression at random state',i,' is: ',R2_score)"
   ]
  },
  {
   "cell_type": "markdown",
   "id": "260fc877",
   "metadata": {},
   "source": [
    "Best r2 score of 0.4598 is achieved at random state 79 in Linear Regression"
   ]
  },
  {
   "cell_type": "code",
   "execution_count": 97,
   "id": "acccb8e5",
   "metadata": {
    "collapsed": true
   },
   "outputs": [
    {
     "name": "stdout",
     "output_type": "stream",
     "text": [
      "r2 score of Ridge at random state 0  is:  0.4362638126222964\n",
      "r2 score of Ridge at random state 1  is:  0.4341590617928992\n",
      "r2 score of Ridge at random state 2  is:  0.42803617399488025\n",
      "r2 score of Ridge at random state 3  is:  0.44036399039837604\n",
      "r2 score of Ridge at random state 4  is:  0.4292660996189289\n",
      "r2 score of Ridge at random state 5  is:  0.44102797104513936\n",
      "r2 score of Ridge at random state 6  is:  0.4532150242918316\n",
      "r2 score of Ridge at random state 7  is:  0.440574994492252\n",
      "r2 score of Ridge at random state 8  is:  0.43469989378799\n",
      "r2 score of Ridge at random state 9  is:  0.41596015020564936\n",
      "r2 score of Ridge at random state 10  is:  0.43592566630156415\n",
      "r2 score of Ridge at random state 11  is:  0.4360979836159814\n",
      "r2 score of Ridge at random state 12  is:  0.4443234056739781\n",
      "r2 score of Ridge at random state 13  is:  0.42638392345936305\n",
      "r2 score of Ridge at random state 14  is:  0.4381936364599037\n",
      "r2 score of Ridge at random state 15  is:  0.4311410309557624\n",
      "r2 score of Ridge at random state 16  is:  0.440454346391727\n",
      "r2 score of Ridge at random state 17  is:  0.43113901010655165\n",
      "r2 score of Ridge at random state 18  is:  0.43743653736726584\n",
      "r2 score of Ridge at random state 19  is:  0.4289847219000448\n",
      "r2 score of Ridge at random state 20  is:  0.44852761793549445\n",
      "r2 score of Ridge at random state 21  is:  0.43085798443264656\n",
      "r2 score of Ridge at random state 22  is:  0.43622180338773886\n",
      "r2 score of Ridge at random state 23  is:  0.43615981975517115\n",
      "r2 score of Ridge at random state 24  is:  0.4300435288083546\n",
      "r2 score of Ridge at random state 25  is:  0.4430319802153211\n",
      "r2 score of Ridge at random state 26  is:  0.43151651039009586\n",
      "r2 score of Ridge at random state 27  is:  0.44403836330987145\n",
      "r2 score of Ridge at random state 28  is:  0.45031211844915475\n",
      "r2 score of Ridge at random state 29  is:  0.445369969675254\n",
      "r2 score of Ridge at random state 30  is:  0.4422261129625191\n",
      "r2 score of Ridge at random state 31  is:  0.42553810542222437\n",
      "r2 score of Ridge at random state 32  is:  0.41992919041818066\n",
      "r2 score of Ridge at random state 33  is:  0.44533046808267696\n",
      "r2 score of Ridge at random state 34  is:  0.42950474465962396\n",
      "r2 score of Ridge at random state 35  is:  0.43471134713932746\n",
      "r2 score of Ridge at random state 36  is:  0.4184261743390346\n",
      "r2 score of Ridge at random state 37  is:  0.4336218644663873\n",
      "r2 score of Ridge at random state 38  is:  0.4479435251945908\n",
      "r2 score of Ridge at random state 39  is:  0.4322123911467187\n",
      "r2 score of Ridge at random state 40  is:  0.4174784975091751\n",
      "r2 score of Ridge at random state 41  is:  0.4419721138098601\n",
      "r2 score of Ridge at random state 42  is:  0.4251751556738056\n",
      "r2 score of Ridge at random state 43  is:  0.4351415725076667\n",
      "r2 score of Ridge at random state 44  is:  0.43241008610772813\n",
      "r2 score of Ridge at random state 45  is:  0.4287232649094772\n",
      "r2 score of Ridge at random state 46  is:  0.4351648821328967\n",
      "r2 score of Ridge at random state 47  is:  0.4303323926074627\n",
      "r2 score of Ridge at random state 48  is:  0.4456825599186701\n",
      "r2 score of Ridge at random state 49  is:  0.44304196199965806\n",
      "r2 score of Ridge at random state 50  is:  0.4392454867995801\n",
      "r2 score of Ridge at random state 51  is:  0.4379512844753649\n",
      "r2 score of Ridge at random state 52  is:  0.4337241616406807\n",
      "r2 score of Ridge at random state 53  is:  0.44098200003589594\n",
      "r2 score of Ridge at random state 54  is:  0.43282018935992017\n",
      "r2 score of Ridge at random state 55  is:  0.4387681360342114\n",
      "r2 score of Ridge at random state 56  is:  0.43876519418877036\n",
      "r2 score of Ridge at random state 57  is:  0.42627460899025293\n",
      "r2 score of Ridge at random state 58  is:  0.43573229691310933\n",
      "r2 score of Ridge at random state 59  is:  0.4280787806435463\n",
      "r2 score of Ridge at random state 60  is:  0.43672288913739166\n",
      "r2 score of Ridge at random state 61  is:  0.41533800130929543\n",
      "r2 score of Ridge at random state 62  is:  0.44644033263308225\n",
      "r2 score of Ridge at random state 63  is:  0.4431417597253069\n",
      "r2 score of Ridge at random state 64  is:  0.4362507528397691\n",
      "r2 score of Ridge at random state 65  is:  0.4376979568531537\n",
      "r2 score of Ridge at random state 66  is:  0.45562649192043403\n",
      "r2 score of Ridge at random state 67  is:  0.4288958354703145\n",
      "r2 score of Ridge at random state 68  is:  0.43888556553324176\n",
      "r2 score of Ridge at random state 69  is:  0.44522712345896887\n",
      "r2 score of Ridge at random state 70  is:  0.43810629158570813\n",
      "r2 score of Ridge at random state 71  is:  0.44610707717850173\n",
      "r2 score of Ridge at random state 72  is:  0.42539721948401743\n",
      "r2 score of Ridge at random state 73  is:  0.4363251561269865\n",
      "r2 score of Ridge at random state 74  is:  0.43784481732286995\n",
      "r2 score of Ridge at random state 75  is:  0.4245359532747378\n",
      "r2 score of Ridge at random state 76  is:  0.4494122814460584\n",
      "r2 score of Ridge at random state 77  is:  0.445879298738019\n",
      "r2 score of Ridge at random state 78  is:  0.4320775635325904\n",
      "r2 score of Ridge at random state 79  is:  0.4576241630690302\n",
      "r2 score of Ridge at random state 80  is:  0.42311216621377834\n",
      "r2 score of Ridge at random state 81  is:  0.4295441587077622\n",
      "r2 score of Ridge at random state 82  is:  0.4373531882745194\n",
      "r2 score of Ridge at random state 83  is:  0.43677506237230157\n",
      "r2 score of Ridge at random state 84  is:  0.43097017560551876\n",
      "r2 score of Ridge at random state 85  is:  0.4487117648057718\n",
      "r2 score of Ridge at random state 86  is:  0.43906657009916283\n",
      "r2 score of Ridge at random state 87  is:  0.4389143823809444\n",
      "r2 score of Ridge at random state 88  is:  0.4527188497486585\n",
      "r2 score of Ridge at random state 89  is:  0.440277346791606\n",
      "r2 score of Ridge at random state 90  is:  0.429231224573945\n",
      "r2 score of Ridge at random state 91  is:  0.43347576439369306\n",
      "r2 score of Ridge at random state 92  is:  0.4436466904981231\n",
      "r2 score of Ridge at random state 93  is:  0.4366631774526687\n",
      "r2 score of Ridge at random state 94  is:  0.46113154745059715\n",
      "r2 score of Ridge at random state 95  is:  0.4258628216431247\n",
      "r2 score of Ridge at random state 96  is:  0.4398276850023306\n",
      "r2 score of Ridge at random state 97  is:  0.4232358173142722\n",
      "r2 score of Ridge at random state 98  is:  0.4384556048476924\n",
      "r2 score of Ridge at random state 99  is:  0.4251344473157642\n"
     ]
    }
   ],
   "source": [
    "#finding best random state for Ridge\n",
    "\n",
    "for i in range(0,100):\n",
    "    X_train,X_test,y_train,y_test=train_test_split(X,y,test_size=.30,random_state=i)\n",
    "    rd.fit(X_train,y_train)\n",
    "    y_pred=rd.predict(X_test)\n",
    "    R2_score = r2_score(y_test,y_pred)\n",
    "    print('r2 score of Ridge at random state',i,' is: ',R2_score)"
   ]
  },
  {
   "cell_type": "markdown",
   "id": "96b87ac7",
   "metadata": {},
   "source": [
    "Best r2 score of 0.453 is achieved at random state 6 in Ridge"
   ]
  },
  {
   "cell_type": "code",
   "execution_count": 98,
   "id": "9255b680",
   "metadata": {
    "collapsed": true
   },
   "outputs": [
    {
     "name": "stdout",
     "output_type": "stream",
     "text": [
      "r2 score of Lasso at random state 0  is:  -0.0006602542389331223\n",
      "r2 score of Lasso at random state 1  is:  -1.7495654822674567e-05\n",
      "r2 score of Lasso at random state 2  is:  -0.0006866659616835413\n",
      "r2 score of Lasso at random state 3  is:  -1.1021447986481192e-05\n",
      "r2 score of Lasso at random state 4  is:  -0.00031233241664763156\n",
      "r2 score of Lasso at random state 5  is:  -0.0016224642422413282\n",
      "r2 score of Lasso at random state 6  is:  -8.803077221219979e-05\n",
      "r2 score of Lasso at random state 7  is:  -3.4644541411887886e-05\n",
      "r2 score of Lasso at random state 8  is:  -0.0003185427330156809\n",
      "r2 score of Lasso at random state 9  is:  -0.0005197190774897109\n",
      "r2 score of Lasso at random state 10  is:  -4.2154488129941825e-05\n",
      "r2 score of Lasso at random state 11  is:  -3.307633952709388e-05\n",
      "r2 score of Lasso at random state 12  is:  -2.5460252919273785e-06\n",
      "r2 score of Lasso at random state 13  is:  -1.204299608636994e-05\n",
      "r2 score of Lasso at random state 14  is:  -0.00010828210901436819\n",
      "r2 score of Lasso at random state 15  is:  -0.0002668867936197472\n",
      "r2 score of Lasso at random state 16  is:  -0.0006267902397700809\n",
      "r2 score of Lasso at random state 17  is:  -8.543962089491153e-05\n",
      "r2 score of Lasso at random state 18  is:  -0.00039164553255521817\n",
      "r2 score of Lasso at random state 19  is:  -0.0012311324213480912\n",
      "r2 score of Lasso at random state 20  is:  -0.0004292410617707798\n",
      "r2 score of Lasso at random state 21  is:  -2.3233457722149353e-06\n",
      "r2 score of Lasso at random state 22  is:  -0.000336176166632951\n",
      "r2 score of Lasso at random state 23  is:  -1.86819288281459e-05\n",
      "r2 score of Lasso at random state 24  is:  -2.019046836521099e-05\n",
      "r2 score of Lasso at random state 25  is:  -2.2675630331203678e-06\n",
      "r2 score of Lasso at random state 26  is:  -5.22378699985282e-06\n",
      "r2 score of Lasso at random state 27  is:  -6.066662771919695e-06\n",
      "r2 score of Lasso at random state 28  is:  -0.0006337658691466519\n",
      "r2 score of Lasso at random state 29  is:  -0.00024378883561637643\n",
      "r2 score of Lasso at random state 30  is:  -0.0001982382381795489\n",
      "r2 score of Lasso at random state 31  is:  -0.000495102885162968\n",
      "r2 score of Lasso at random state 32  is:  -0.000801201893545711\n",
      "r2 score of Lasso at random state 33  is:  -0.0007717680483476652\n",
      "r2 score of Lasso at random state 34  is:  -9.291078607964742e-05\n",
      "r2 score of Lasso at random state 35  is:  -0.00010035467976110546\n",
      "r2 score of Lasso at random state 36  is:  -3.989302538509598e-05\n",
      "r2 score of Lasso at random state 37  is:  -0.0005177375502747328\n",
      "r2 score of Lasso at random state 38  is:  -9.767937403371008e-06\n",
      "r2 score of Lasso at random state 39  is:  -1.1294158633212703e-05\n",
      "r2 score of Lasso at random state 40  is:  -9.316160238803661e-06\n",
      "r2 score of Lasso at random state 41  is:  -4.974164295279415e-05\n",
      "r2 score of Lasso at random state 42  is:  -2.316033777316484e-05\n",
      "r2 score of Lasso at random state 43  is:  -0.0001560810053493622\n",
      "r2 score of Lasso at random state 44  is:  -3.913532252708407e-06\n",
      "r2 score of Lasso at random state 45  is:  -1.0866176558543827e-06\n",
      "r2 score of Lasso at random state 46  is:  -0.00010496483119570854\n",
      "r2 score of Lasso at random state 47  is:  -7.389098415577777e-05\n",
      "r2 score of Lasso at random state 48  is:  -3.669450121090989e-06\n",
      "r2 score of Lasso at random state 49  is:  -2.2295867312616124e-05\n",
      "r2 score of Lasso at random state 50  is:  -0.0002670757391571854\n",
      "r2 score of Lasso at random state 51  is:  -0.00014791831745331052\n",
      "r2 score of Lasso at random state 52  is:  -8.27304509112281e-05\n",
      "r2 score of Lasso at random state 53  is:  -4.124613395006804e-05\n",
      "r2 score of Lasso at random state 54  is:  -2.1455307625650732e-05\n",
      "r2 score of Lasso at random state 55  is:  -0.0003634508831318328\n",
      "r2 score of Lasso at random state 56  is:  -1.4951418276121231e-05\n",
      "r2 score of Lasso at random state 57  is:  -0.0005999239490015462\n",
      "r2 score of Lasso at random state 58  is:  -7.534038103362839e-05\n",
      "r2 score of Lasso at random state 59  is:  -1.0452144230121974e-06\n",
      "r2 score of Lasso at random state 60  is:  -8.882485298400411e-07\n",
      "r2 score of Lasso at random state 61  is:  -0.0007368213696612447\n",
      "r2 score of Lasso at random state 62  is:  -2.2242659329929637e-06\n",
      "r2 score of Lasso at random state 63  is:  -2.0263959086275207e-06\n",
      "r2 score of Lasso at random state 64  is:  -0.0004586185369888085\n",
      "r2 score of Lasso at random state 65  is:  -4.4101678216224016e-05\n",
      "r2 score of Lasso at random state 66  is:  -3.566617367023461e-05\n",
      "r2 score of Lasso at random state 67  is:  -0.0003005853968003347\n",
      "r2 score of Lasso at random state 68  is:  -0.00039396366084720746\n",
      "r2 score of Lasso at random state 69  is:  -0.00023661903422533825\n",
      "r2 score of Lasso at random state 70  is:  -1.8379911210786304e-05\n",
      "r2 score of Lasso at random state 71  is:  -0.00022647469813064092\n",
      "r2 score of Lasso at random state 72  is:  -9.677746826186606e-05\n",
      "r2 score of Lasso at random state 73  is:  -8.020467014957511e-05\n",
      "r2 score of Lasso at random state 74  is:  -0.00036624773715510095\n",
      "r2 score of Lasso at random state 75  is:  -3.093667537368283e-05\n",
      "r2 score of Lasso at random state 76  is:  -0.00011160997460923916\n",
      "r2 score of Lasso at random state 77  is:  -0.0009023510558054948\n",
      "r2 score of Lasso at random state 78  is:  -0.0001287097572850726\n",
      "r2 score of Lasso at random state 79  is:  -0.001441010686137556\n",
      "r2 score of Lasso at random state 80  is:  -1.1818770802030087e-06\n",
      "r2 score of Lasso at random state 81  is:  -3.5534171161089034e-09\n",
      "r2 score of Lasso at random state 82  is:  -1.79048850297292e-05\n",
      "r2 score of Lasso at random state 83  is:  -0.0005972296676850508\n",
      "r2 score of Lasso at random state 84  is:  -0.00016976565946014155\n",
      "r2 score of Lasso at random state 85  is:  -0.0005331803859927042\n",
      "r2 score of Lasso at random state 86  is:  -0.0008574092533149003\n",
      "r2 score of Lasso at random state 87  is:  -0.0002752555636329479\n",
      "r2 score of Lasso at random state 88  is:  -6.860296707933422e-05\n",
      "r2 score of Lasso at random state 89  is:  -0.00010197547584445132\n",
      "r2 score of Lasso at random state 90  is:  -2.806698358526205e-05\n",
      "r2 score of Lasso at random state 91  is:  -2.209525301521964e-05\n",
      "r2 score of Lasso at random state 92  is:  -2.898415501384477e-06\n",
      "r2 score of Lasso at random state 93  is:  -5.4834085246868725e-05\n",
      "r2 score of Lasso at random state 94  is:  -5.5474957387779966e-05\n",
      "r2 score of Lasso at random state 95  is:  -1.1470571547267383e-05\n",
      "r2 score of Lasso at random state 96  is:  -1.198556517367777e-06\n",
      "r2 score of Lasso at random state 97  is:  -1.4790315995494296e-05\n",
      "r2 score of Lasso at random state 98  is:  -7.34951678222906e-05\n",
      "r2 score of Lasso at random state 99  is:  -3.0141250663362484e-05\n"
     ]
    }
   ],
   "source": [
    "#finding best random state for Lasso\n",
    "\n",
    "for i in range(0,100):\n",
    "    X_train,X_test,y_train,y_test=train_test_split(X,y,test_size=.30,random_state=i)\n",
    "    ls.fit(X_train,y_train)\n",
    "    y_pred=ls.predict(X_test)\n",
    "    R2_score = r2_score(y_test,y_pred)\n",
    "    print('r2 score of Lasso at random state',i,' is: ',R2_score)"
   ]
  },
  {
   "cell_type": "markdown",
   "id": "8089afeb",
   "metadata": {},
   "source": [
    "Best r2 score of -0.001 is achieved at random state 14 in Lasso"
   ]
  },
  {
   "cell_type": "code",
   "execution_count": 99,
   "id": "6525ace5",
   "metadata": {
    "collapsed": true
   },
   "outputs": [
    {
     "name": "stdout",
     "output_type": "stream",
     "text": [
      "r2 score of Support Vector Regressor at random state 0  is:  0.5444390176900522\n",
      "r2 score of Support Vector Regressor at random state 1  is:  0.5472022221489614\n",
      "r2 score of Support Vector Regressor at random state 2  is:  0.5339477673469044\n",
      "r2 score of Support Vector Regressor at random state 3  is:  0.5456601430596484\n",
      "r2 score of Support Vector Regressor at random state 4  is:  0.5387719348521198\n",
      "r2 score of Support Vector Regressor at random state 5  is:  0.5516843284530154\n",
      "r2 score of Support Vector Regressor at random state 6  is:  0.5563147765300082\n",
      "r2 score of Support Vector Regressor at random state 7  is:  0.5546087887071447\n",
      "r2 score of Support Vector Regressor at random state 8  is:  0.5499918966303475\n",
      "r2 score of Support Vector Regressor at random state 9  is:  0.5254052833812026\n",
      "r2 score of Support Vector Regressor at random state 10  is:  0.5406739676593306\n",
      "r2 score of Support Vector Regressor at random state 11  is:  0.5459296538651355\n",
      "r2 score of Support Vector Regressor at random state 12  is:  0.545040852276653\n",
      "r2 score of Support Vector Regressor at random state 13  is:  0.5365481405908432\n",
      "r2 score of Support Vector Regressor at random state 14  is:  0.5458750885007135\n",
      "r2 score of Support Vector Regressor at random state 15  is:  0.5428355007211323\n",
      "r2 score of Support Vector Regressor at random state 16  is:  0.5451791544325775\n",
      "r2 score of Support Vector Regressor at random state 17  is:  0.5377547162669902\n",
      "r2 score of Support Vector Regressor at random state 18  is:  0.5491235670376065\n",
      "r2 score of Support Vector Regressor at random state 19  is:  0.5440259568806138\n",
      "r2 score of Support Vector Regressor at random state 20  is:  0.5522881734146393\n",
      "r2 score of Support Vector Regressor at random state 21  is:  0.542364350698759\n",
      "r2 score of Support Vector Regressor at random state 22  is:  0.5435128080376936\n",
      "r2 score of Support Vector Regressor at random state 23  is:  0.5411257308467083\n",
      "r2 score of Support Vector Regressor at random state 24  is:  0.545095024932094\n",
      "r2 score of Support Vector Regressor at random state 25  is:  0.5521791082302824\n",
      "r2 score of Support Vector Regressor at random state 26  is:  0.533282040302909\n",
      "r2 score of Support Vector Regressor at random state 27  is:  0.5525142587136256\n",
      "r2 score of Support Vector Regressor at random state 28  is:  0.5552593714361483\n",
      "r2 score of Support Vector Regressor at random state 29  is:  0.554469171266969\n",
      "r2 score of Support Vector Regressor at random state 30  is:  0.5494827332364938\n",
      "r2 score of Support Vector Regressor at random state 31  is:  0.5389623860084485\n",
      "r2 score of Support Vector Regressor at random state 32  is:  0.542402282699451\n",
      "r2 score of Support Vector Regressor at random state 33  is:  0.5517336471786518\n",
      "r2 score of Support Vector Regressor at random state 34  is:  0.5382022499498818\n",
      "r2 score of Support Vector Regressor at random state 35  is:  0.5396782539511755\n",
      "r2 score of Support Vector Regressor at random state 36  is:  0.5332238933415028\n",
      "r2 score of Support Vector Regressor at random state 37  is:  0.5406281374777518\n",
      "r2 score of Support Vector Regressor at random state 38  is:  0.551121371199311\n",
      "r2 score of Support Vector Regressor at random state 39  is:  0.5300430770352018\n",
      "r2 score of Support Vector Regressor at random state 40  is:  0.5227766324931663\n",
      "r2 score of Support Vector Regressor at random state 41  is:  0.5406969372808164\n",
      "r2 score of Support Vector Regressor at random state 42  is:  0.5374350284930784\n",
      "r2 score of Support Vector Regressor at random state 43  is:  0.5472804299298486\n",
      "r2 score of Support Vector Regressor at random state 44  is:  0.5381573072254451\n",
      "r2 score of Support Vector Regressor at random state 45  is:  0.5422537170300428\n",
      "r2 score of Support Vector Regressor at random state 46  is:  0.5353553035505307\n",
      "r2 score of Support Vector Regressor at random state 47  is:  0.5322332398600669\n",
      "r2 score of Support Vector Regressor at random state 48  is:  0.5545090219734043\n",
      "r2 score of Support Vector Regressor at random state 49  is:  0.5475441766903977\n",
      "r2 score of Support Vector Regressor at random state 50  is:  0.5470383202243891\n",
      "r2 score of Support Vector Regressor at random state 51  is:  0.5463828764204679\n",
      "r2 score of Support Vector Regressor at random state 52  is:  0.5413076604256175\n",
      "r2 score of Support Vector Regressor at random state 53  is:  0.5479053031276435\n",
      "r2 score of Support Vector Regressor at random state 54  is:  0.542378302351225\n",
      "r2 score of Support Vector Regressor at random state 55  is:  0.543111602082548\n",
      "r2 score of Support Vector Regressor at random state 56  is:  0.5493011447810271\n",
      "r2 score of Support Vector Regressor at random state 57  is:  0.532638100866093\n",
      "r2 score of Support Vector Regressor at random state 58  is:  0.540269538952863\n",
      "r2 score of Support Vector Regressor at random state 59  is:  0.5380212244969731\n",
      "r2 score of Support Vector Regressor at random state 60  is:  0.5434003474814169\n",
      "r2 score of Support Vector Regressor at random state 61  is:  0.5291108410368544\n",
      "r2 score of Support Vector Regressor at random state 62  is:  0.5514208012662998\n",
      "r2 score of Support Vector Regressor at random state 63  is:  0.5441216353797307\n",
      "r2 score of Support Vector Regressor at random state 64  is:  0.5378042689299423\n",
      "r2 score of Support Vector Regressor at random state 65  is:  0.5486026828234852\n",
      "r2 score of Support Vector Regressor at random state 66  is:  0.560923839264812\n",
      "r2 score of Support Vector Regressor at random state 67  is:  0.5408821302390796\n",
      "r2 score of Support Vector Regressor at random state 68  is:  0.544604224118125\n",
      "r2 score of Support Vector Regressor at random state 69  is:  0.5586658110522718\n",
      "r2 score of Support Vector Regressor at random state 70  is:  0.548326243453098\n",
      "r2 score of Support Vector Regressor at random state 71  is:  0.5522147376333435\n",
      "r2 score of Support Vector Regressor at random state 72  is:  0.5357915756228768\n",
      "r2 score of Support Vector Regressor at random state 73  is:  0.5435259343615091\n",
      "r2 score of Support Vector Regressor at random state 74  is:  0.536779287829072\n",
      "r2 score of Support Vector Regressor at random state 75  is:  0.5348644224561124\n",
      "r2 score of Support Vector Regressor at random state 76  is:  0.5608049424279622\n",
      "r2 score of Support Vector Regressor at random state 77  is:  0.5453571115250013\n",
      "r2 score of Support Vector Regressor at random state 78  is:  0.540693006053105\n",
      "r2 score of Support Vector Regressor at random state 79  is:  0.5644422814808626\n",
      "r2 score of Support Vector Regressor at random state 80  is:  0.5328130165293419\n",
      "r2 score of Support Vector Regressor at random state 81  is:  0.5365184461458464\n",
      "r2 score of Support Vector Regressor at random state 82  is:  0.5398463044769204\n",
      "r2 score of Support Vector Regressor at random state 83  is:  0.5466711706275298\n",
      "r2 score of Support Vector Regressor at random state 84  is:  0.5372115370666424\n",
      "r2 score of Support Vector Regressor at random state 85  is:  0.5534634817994288\n",
      "r2 score of Support Vector Regressor at random state 86  is:  0.5473019960446714\n",
      "r2 score of Support Vector Regressor at random state 87  is:  0.5456475158050114\n",
      "r2 score of Support Vector Regressor at random state 88  is:  0.5599661844741777\n",
      "r2 score of Support Vector Regressor at random state 89  is:  0.5456795695771104\n",
      "r2 score of Support Vector Regressor at random state 90  is:  0.5390317495677102\n",
      "r2 score of Support Vector Regressor at random state 91  is:  0.543330660836842\n",
      "r2 score of Support Vector Regressor at random state 92  is:  0.5539422468103332\n",
      "r2 score of Support Vector Regressor at random state 93  is:  0.5436127850990728\n",
      "r2 score of Support Vector Regressor at random state 94  is:  0.5565425834859756\n",
      "r2 score of Support Vector Regressor at random state 95  is:  0.542483891143644\n",
      "r2 score of Support Vector Regressor at random state 96  is:  0.5371635465402289\n",
      "r2 score of Support Vector Regressor at random state 97  is:  0.5328473954303657\n",
      "r2 score of Support Vector Regressor at random state 98  is:  0.5381743401218867\n",
      "r2 score of Support Vector Regressor at random state 99  is:  0.5416347771082477\n"
     ]
    }
   ],
   "source": [
    "#finding best random state for Support Vector Regressor\n",
    "\n",
    "for i in range(0,100):\n",
    "    X_train,X_test,y_train,y_test=train_test_split(X,y,test_size=.30,random_state=i)\n",
    "    svr.fit(X_train,y_train)\n",
    "    y_pred=svr.predict(X_test)\n",
    "    R2_score = r2_score(y_test,y_pred)\n",
    "    print('r2 score of Support Vector Regressor at random state',i,' is: ',R2_score)"
   ]
  },
  {
   "cell_type": "markdown",
   "id": "18f84f43",
   "metadata": {},
   "source": [
    "Best r2 score of 0.56 is achieved at random state 66 in Support Vector Regressor"
   ]
  },
  {
   "cell_type": "code",
   "execution_count": 108,
   "id": "35fa9e9b",
   "metadata": {},
   "outputs": [
    {
     "name": "stdout",
     "output_type": "stream",
     "text": [
      "At CV 2 the cv score is  -5416.936990517346\n",
      "At CV 3 the cv score is  -13.250639583390042\n",
      "At CV 4 the cv score is  -12.353807477997101\n",
      "At CV 5 the cv score is  -10.886804108823286\n",
      "At CV 6 the cv score is  -1.0152112879608348\n",
      "At CV 7 the cv score is  0.027336736324937938\n",
      "At CV 8 the cv score is  -0.04088229550476244\n"
     ]
    }
   ],
   "source": [
    "#checking cv score of all 4 regression models\n",
    "\n",
    "#checking cv score of linear regression model\n",
    "\n",
    "for j in range(2,9):\n",
    "    print(f\"At CV {j} the cv score is \",np.mean(cross_val_score(linr,X,y,cv=j)))"
   ]
  },
  {
   "cell_type": "code",
   "execution_count": 109,
   "id": "26badb60",
   "metadata": {},
   "outputs": [
    {
     "name": "stdout",
     "output_type": "stream",
     "text": [
      "At CV 2 the cv score is  -1.3158875238102143\n",
      "At CV 3 the cv score is  -0.01656183377344811\n",
      "At CV 4 the cv score is  -0.1742133786049741\n",
      "At CV 5 the cv score is  0.07415170213299023\n",
      "At CV 6 the cv score is  -0.06156110796023715\n",
      "At CV 7 the cv score is  0.03224170834139276\n",
      "At CV 8 the cv score is  -0.03177496110464603\n"
     ]
    }
   ],
   "source": [
    "#checking cv score of Ridge model\n",
    "\n",
    "for j in range(2,9):\n",
    "    print(f\"At CV {j} the cv score is \",np.mean(cross_val_score(rd,X,y,cv=j)))"
   ]
  },
  {
   "cell_type": "code",
   "execution_count": 110,
   "id": "e13fa2b6",
   "metadata": {},
   "outputs": [
    {
     "name": "stdout",
     "output_type": "stream",
     "text": [
      "At CV 2 the cv score is  -2.7070103361492412\n",
      "At CV 3 the cv score is  -1.4095347439861567\n",
      "At CV 4 the cv score is  -1.5501998028168886\n",
      "At CV 5 the cv score is  -1.2053134266962335\n",
      "At CV 6 the cv score is  -1.4067001441411353\n",
      "At CV 7 the cv score is  -1.2745062939401588\n",
      "At CV 8 the cv score is  -1.3085649317253805\n"
     ]
    }
   ],
   "source": [
    "#checking cv score of Lasso model\n",
    "\n",
    "for j in range(2,9):\n",
    "    print(f\"At CV {j} the cv score is \",np.mean(cross_val_score(ls,X,y,cv=j)))"
   ]
  },
  {
   "cell_type": "code",
   "execution_count": 111,
   "id": "5f1b8cd5",
   "metadata": {},
   "outputs": [
    {
     "name": "stdout",
     "output_type": "stream",
     "text": [
      "At CV 2 the cv score is  -2.2905610669229493\n",
      "At CV 3 the cv score is  -0.8305380764178963\n",
      "At CV 4 the cv score is  -0.20424868603301757\n",
      "At CV 5 the cv score is  -0.0040847550022168775\n",
      "At CV 6 the cv score is  -0.3616974867679164\n",
      "At CV 7 the cv score is  0.10641770134904165\n",
      "At CV 8 the cv score is  0.07644590634030092\n"
     ]
    }
   ],
   "source": [
    "#checking cv score of SCR model\n",
    "\n",
    "for j in range(2,9):\n",
    "    print(f\"At CV {j} the cv score is \",np.mean(cross_val_score(svr,X,y,cv=j)))"
   ]
  },
  {
   "cell_type": "markdown",
   "id": "20813b4f",
   "metadata": {},
   "source": [
    "After comparing CV score and the r2 scores of all 4 models, best CV state would be:\n",
    "\n",
    "CV=7 for Linear Regression, \n",
    "CV=5 for Ridge, \n",
    "CV=5 for Lasso and \n",
    "CV=7 for Support Vector Regressor"
   ]
  },
  {
   "cell_type": "code",
   "execution_count": 112,
   "id": "f6b3d269",
   "metadata": {},
   "outputs": [],
   "source": [
    "#choosing best fit model on the basis of Cv score and r2 score\n",
    "\n",
    "#Best model is Ridge as it has least difference in its r2 score and CV score"
   ]
  },
  {
   "cell_type": "code",
   "execution_count": 113,
   "id": "82ac4422",
   "metadata": {},
   "outputs": [],
   "source": [
    "#hyper parameter tuning of Ridge\n",
    "\n",
    "parameters = {\n",
    "    \"alpha\":[1.0,3.0,5.0,6.0,7.0,9.0,12.0,13.0,15.0],\n",
    "    \"solver\":['auto', 'svd', 'cholesky', 'lsqr','saga', 'lbfgs']}\n",
    "RSCV = RandomizedSearchCV(rd,parameters)"
   ]
  },
  {
   "cell_type": "code",
   "execution_count": 114,
   "id": "12e098e7",
   "metadata": {},
   "outputs": [
    {
     "data": {
      "text/plain": [
       "RandomizedSearchCV(estimator=Ridge(),\n",
       "                   param_distributions={'alpha': [1.0, 3.0, 5.0, 6.0, 7.0, 9.0,\n",
       "                                                  12.0, 13.0, 15.0],\n",
       "                                        'solver': ['auto', 'svd', 'cholesky',\n",
       "                                                   'lsqr', 'saga', 'lbfgs']})"
      ]
     },
     "execution_count": 114,
     "metadata": {},
     "output_type": "execute_result"
    }
   ],
   "source": [
    "RSCV.fit(X_train,y_train)"
   ]
  },
  {
   "cell_type": "code",
   "execution_count": 115,
   "id": "7cb65f1e",
   "metadata": {},
   "outputs": [
    {
     "data": {
      "text/plain": [
       "{'solver': 'svd', 'alpha': 1.0}"
      ]
     },
     "execution_count": 115,
     "metadata": {},
     "output_type": "execute_result"
    }
   ],
   "source": [
    "RSCV.best_params_"
   ]
  },
  {
   "cell_type": "code",
   "execution_count": 117,
   "id": "6e29b444",
   "metadata": {},
   "outputs": [
    {
     "name": "stdout",
     "output_type": "stream",
     "text": [
      "Final R2 score after hyper parameter tuning is:  0.453215024291832\n"
     ]
    }
   ],
   "source": [
    "#Applying final Ridge model with above best parameters\n",
    "\n",
    "X_train,X_test,y_train,y_test = train_test_split(X,y, test_size=.30, random_state = 6)\n",
    "rd_final = Ridge(solver='svd', alpha= 1.0)\n",
    "rd_final.fit(X_train,y_train)\n",
    "y_pred = rd_final.predict(X_test)\n",
    "print(\"Final R2 score after hyper parameter tuning is: \", r2_score(y_test,y_pred))"
   ]
  },
  {
   "cell_type": "code",
   "execution_count": null,
   "id": "628a24d3",
   "metadata": {},
   "outputs": [],
   "source": []
  },
  {
   "cell_type": "code",
   "execution_count": 90,
   "id": "533ab7a7",
   "metadata": {},
   "outputs": [],
   "source": [
    "#serialization"
   ]
  },
  {
   "cell_type": "code",
   "execution_count": null,
   "id": "58114810",
   "metadata": {},
   "outputs": [],
   "source": [
    "import pickle \n",
    "filename = 'Avocado.pkl'\n",
    "pickle.dump(rf, open(filename, 'wb'))"
   ]
  },
  {
   "cell_type": "code",
   "execution_count": null,
   "id": "b47d61fe",
   "metadata": {},
   "outputs": [],
   "source": []
  }
 ],
 "metadata": {
  "kernelspec": {
   "display_name": "Python 3 (ipykernel)",
   "language": "python",
   "name": "python3"
  },
  "language_info": {
   "codemirror_mode": {
    "name": "ipython",
    "version": 3
   },
   "file_extension": ".py",
   "mimetype": "text/x-python",
   "name": "python",
   "nbconvert_exporter": "python",
   "pygments_lexer": "ipython3",
   "version": "3.9.7"
  }
 },
 "nbformat": 4,
 "nbformat_minor": 5
}
